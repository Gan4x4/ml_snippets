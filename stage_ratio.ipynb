{
 "cells": [
  {
   "cell_type": "markdown",
   "metadata": {},
   "source": [
    "## Stage ratio"
   ]
  },
  {
   "cell_type": "markdown",
   "metadata": {},
   "source": [
    "`Stage ratio` — частота, с которой уменьшаются пространственные размеров карты признаков. Обычно записывается как последовательность чисел, например, `[2,2,2,2]`.\n",
    "\n",
    "Эта запись означает, что в модели 8 базовых блоков и downsampling происходит на каждом втором, что соответствует 18-слойной модели из статьи:\n"
   ]
  },
  {
   "cell_type": "markdown",
   "metadata": {},
   "source": [
    "<center><img src =\"https://edunet.kea.su/repo/EduNet-web_dependencies/dev-2.0/L08/stage_ratio.png\"  width=\"700\">\n",
    "\n",
    "[Deep Residual Learning for Image Recognition (He et al., 2015)](https://arxiv.org/abs/1512.03385)\n",
    "\n",
    "</center>\n"
   ]
  },
  {
   "cell_type": "markdown",
   "metadata": {},
   "source": [
    "Соответственно для ResNet-34 stage ratio будет `[3,4,6,3]`,\n",
    "\n",
    "\n",
    "для ResNet-50 — `[3,4,6,3]`, а для  ResNet-101 — `[3,4,23,3]`."
   ]
  }
 ],
 "metadata": {},
 "nbformat": 4,
 "nbformat_minor": 0
}
