{
 "cells": [
  {
   "cell_type": "markdown",
   "metadata": {},
   "source": [
    "#### Soft NMS"
   ]
  },
  {
   "cell_type": "markdown",
   "metadata": {},
   "source": [
    "Как видно из примера выше, NMS может удалять и истинные bounding boxes.\n",
    "\n",
    "Soft NMS не удаляет сомнительные bounding boxes, а корректирует (понижает) для них score — вероятность (уверенность) в том, что в прямоугольнике действительно содержится объект."
   ]
  },
  {
   "cell_type": "markdown",
   "metadata": {},
   "source": [
    "<img src =\"https://edunet.kea.su/repo/EduNet-web_dependencies/L12/soft_non_max_suppression_pseudo_code.png\" width=\"1000\">"
   ]
  },
  {
   "cell_type": "markdown",
   "metadata": {},
   "source": [
    "Результат:"
   ]
  },
  {
   "cell_type": "markdown",
   "metadata": {},
   "source": [
    "<img src =\"https://edunet.kea.su/repo/EduNet-web_dependencies/L12/soft_nms.png\" width=\"500\">\n",
    "\n",
    "<center><p><em>Source: <a href=\"https://towardsdatascience.com/non-maximum-suppression-nms-93ce178e177c\"> Non-maximum Suppression (NMS)</a></p></em></center>"
   ]
  }
 ],
 "metadata": {},
 "nbformat": 4,
 "nbformat_minor": 0
}
