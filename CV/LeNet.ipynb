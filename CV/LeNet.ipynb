{
  "nbformat": 4,
  "nbformat_minor": 0,
  "metadata": {
    "colab": {
      "provenance": []
    },
    "kernelspec": {
      "name": "python3",
      "display_name": "Python 3"
    },
    "language_info": {
      "name": "python"
    }
  },
  "cells": [
    {
      "cell_type": "markdown",
      "metadata": {
        "id": "DwKEV1T0stFO"
      },
      "source": [
        "### LeNet: пример архитектуры сверточной сети"
      ]
    },
    {
      "cell_type": "markdown",
      "metadata": {
        "id": "Mr022-lsstFO"
      },
      "source": [
        "<img src =\"https://edunet.kea.su/repo/EduNet-content/dev-2.0/L06/out/lenet_architecture.png\" width=\"900\">"
      ]
    },
    {
      "cell_type": "markdown",
      "metadata": {
        "id": "V4FmVvODstFO"
      },
      "source": [
        "Примером сети, построенной по такой архитектуре, является LeNet.\n",
        "Она была разработана в 1989г. [Яном Ле Куном](https://en.wikipedia.org/wiki/Yann_LeCun). Сеть имела 5 слоев с обучаемыми весами, из них 2 — сверточные.\n",
        "\n",
        "Применялась в США для распознавания рукописных чисел на почтовых конвертах до начала 2000г.\n",
        "\n",
        "[LeNet PyTorch documentation](https://pytorch.org/tutorials/beginner/blitz/neural_networks_tutorial.html)\n",
        "\n",
        "Ниже представлена реализация подобной сети на PyTorch для датасета MNIST:"
      ]
    },
    {
      "cell_type": "code",
      "execution_count": null,
      "metadata": {
        "id": "dEtv7TJ5stFP"
      },
      "outputs": [],
      "source": [
        "import torch\n",
        "from torch import nn\n",
        "class CNN_model(nn.Module):\n",
        "    def __init__(self):\n",
        "        super().__init__()\n",
        "        self.conv_stack = nn.Sequential(\n",
        "            nn.Conv2d(1, 32, 3, padding=1),  # in channel=1, out=32\n",
        "            nn.MaxPool2d(2),  # size [32,14,14]\n",
        "            nn.ReLU(),\n",
        "            nn.Conv2d(32, 32, 3, padding=1),  # in channel=32, out=32\n",
        "            nn.MaxPool2d(2),  # size [32,7,7]\n",
        "            nn.ReLU(),\n",
        "            nn.Flatten(),\n",
        "            nn.Linear(32 * 7 * 7, 100),  # in = channel*heght*width\n",
        "            nn.ReLU(),\n",
        "            nn.Linear(100, 10),\n",
        "        )\n",
        "\n",
        "    def forward(self, x):\n",
        "        x = self.conv_stack(x)\n",
        "        return x"
      ]
    },
    {
      "cell_type": "code",
      "execution_count": null,
      "metadata": {
        "id": "hMh3Nf8hstFQ"
      },
      "outputs": [],
      "source": [
        "model = CNN_model()\n",
        "# batch of 16  MNIST image shape tensors\n",
        "dummy_input = torch.randn(16, 1, 28, 28)\n",
        "\n",
        "out = model(dummy_input)\n",
        "print(\"Out shape:\", out.shape)  # 16 vectors with 10 logits"
      ]
    },
    {
      "cell_type": "markdown",
      "metadata": {
        "id": "d3BO_WQnstFR"
      },
      "source": [
        "Процесс обучения почти не будет оличаться от обучения полносвязной сети. Такие же оптимизатор и функция потерь. Во время практического занятия мы обучим эту модель."
      ]
    }
  ]
}