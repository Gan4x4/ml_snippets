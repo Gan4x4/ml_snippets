{
  "nbformat": 4,
  "nbformat_minor": 0,
  "metadata": {
    "colab": {
      "provenance": []
    },
    "kernelspec": {
      "name": "python3",
      "display_name": "Python 3"
    },
    "language_info": {
      "name": "python"
    }
  },
  "cells": [
    {
      "cell_type": "markdown",
      "metadata": {
        "id": "tVAensWzstFc"
      },
      "source": [
        "### Свертка через перемножение матриц"
      ]
    },
    {
      "cell_type": "markdown",
      "metadata": {
        "id": "xJjojcbostFc"
      },
      "source": [
        "Проводить вычисления при помощи вложенных циклов малоэффективно. Но операцию свертки можно реализовать через матричное умножение, которое очень эффективно выполняется на GPU. Идею того, как это происходит, можно продемонстрировать на примере 1D-свертки. Будем сворачивать 1D-сигнал `input_1d` с 1D-фильтром `kernel_1d`. Воспользуемся операцией 1D-свертки из библиотеки NumPy:"
      ]
    },
    {
      "cell_type": "code",
      "execution_count": null,
      "metadata": {
        "id": "lMwiLQ60stFc",
        "colab": {
          "base_uri": "https://localhost:8080/"
        },
        "outputId": "a646c748-9f9b-45ac-882f-77ac1a23bd15"
      },
      "outputs": [
        {
          "output_type": "stream",
          "name": "stdout",
          "text": [
            "[13 26 40 37 15]\n"
          ]
        }
      ],
      "source": [
        "import numpy as np\n",
        "\n",
        "\n",
        "input_1d = np.array([1, 2, 4, 5, 3, 0])\n",
        "kernel_1d = np.array([5, 4])\n",
        "\n",
        "out = np.convolve(\n",
        "    input_1d,\n",
        "    np.flip(kernel_1d),  # because real conv reverse order of elements\n",
        "    mode=\"valid\",\n",
        ")\n",
        "\n",
        "# 5*1 + 4*2 = 5 + 8   = 13\n",
        "# 5*2 + 4*4 = 10 + 16 = 26\n",
        "# 5*4 + 4*5 = 20 + 20 = 40\n",
        "# 5*5 + 4*3 = 25 + 12 = 37\n",
        "# 5*3 + 4*0 = 15 + 0  = 15\n",
        "\n",
        "print(out)"
      ]
    },
    {
      "cell_type": "markdown",
      "metadata": {
        "id": "voMRBtf3stFd"
      },
      "source": [
        "После того, как мы отменили \"переворот\", выполнив `np.flip` и превратив свертку в взаимнокорреляционную функцию, результат совпал с ожидаемым. Восстановим последовательность действий по шагам:"
      ]
    },
    {
      "cell_type": "markdown",
      "metadata": {
        "id": "qReJlCymstFd"
      },
      "source": [
        "**Шаг 1.**\n",
        "\n",
        "<img src =\"https://ml.gan4x4.ru/msu/dev-2.0/L06/out/matrix_conv1.png\" width=\"600\">\n",
        "\n",
        "Перемножаем первые два входа на значения из ядра фильтра и суммируем их."
      ]
    },
    {
      "cell_type": "markdown",
      "metadata": {
        "id": "bd_3CBqustFd"
      },
      "source": [
        "**Шаг 2**\n",
        "\n",
        "<img src =\"https://ml.gan4x4.ru/msu/dev-2.0/L06/out/matrix_conv2.png\" width=\"600\">\n",
        "\n",
        "Сдвигаем фильтр и повторяем операцию."
      ]
    },
    {
      "cell_type": "markdown",
      "metadata": {
        "id": "VUJVKlmdstFd"
      },
      "source": [
        "...\n",
        "\n",
        "**Шаг N**\n",
        "\n",
        "<img src =\"https://ml.gan4x4.ru/msu/dev-2.0/L06/out/matrix_conv3.png\" width=\"600\">"
      ]
    },
    {
      "cell_type": "markdown",
      "metadata": {
        "id": "JphAlfs3stFe"
      },
      "source": [
        "Если мы дополним фильтр нулями вот таким образом:\n",
        "\n",
        "<img src =\"https://ml.gan4x4.ru/msu/dev-2.0/L06/out/matrix_conv4.png\" width=\"600\">"
      ]
    },
    {
      "cell_type": "markdown",
      "metadata": {
        "id": "CQ-SYvmqstFe"
      },
      "source": [
        "То результат не поменяется.\n",
        "\n",
        "Видно, что если скомбинировать дополненные нулями ядра в матрицу и транспонировать ее, то мы получим тот же результат, скалярно умножив входной вектор на эту матрицу."
      ]
    },
    {
      "cell_type": "code",
      "execution_count": null,
      "metadata": {
        "id": "x9nz0a9jstFf",
        "colab": {
          "base_uri": "https://localhost:8080/"
        },
        "outputId": "dccaf260-70c9-4b30-b132-60ee524b7c7b"
      },
      "outputs": [
        {
          "output_type": "stream",
          "name": "stdout",
          "text": [
            "[[5. 4. 0. 0. 0. 0.]\n",
            " [0. 5. 4. 0. 0. 0.]\n",
            " [0. 0. 5. 4. 0. 0.]\n",
            " [0. 0. 0. 5. 4. 0.]\n",
            " [0. 0. 0. 0. 5. 4.]]\n"
          ]
        }
      ],
      "source": [
        "# https://docs.scipy.org/doc/scipy/reference/generated/scipy.sparse.diags.html\n",
        "from scipy.sparse import diags\n",
        "\n",
        "\n",
        "# Alternative to sparse_matrix = diags([5,4],[0,1],shape=(5, 6)).toarray()\n",
        "output_shape = len(input_1d) - len(kernel_1d) + 1\n",
        "sparse_matrix = diags(\n",
        "    kernel_1d, [0, 1], shape=(output_shape, len(input_1d))  # diagonals positions\n",
        ").toarray()\n",
        "\n",
        "print(sparse_matrix)"
      ]
    },
    {
      "cell_type": "code",
      "execution_count": null,
      "metadata": {
        "id": "yBgAr7-wstFg",
        "colab": {
          "base_uri": "https://localhost:8080/"
        },
        "outputId": "14459dc3-32b3-408a-89b3-c752af415a7f"
      },
      "outputs": [
        {
          "output_type": "stream",
          "name": "stdout",
          "text": [
            "Result  [13. 26. 40. 37. 15.]\n"
          ]
        }
      ],
      "source": [
        "out2 = sparse_matrix.dot(input_1d)\n",
        "print(\"Result \", out2)"
      ]
    },
    {
      "cell_type": "markdown",
      "metadata": {
        "id": "K7_a35TWstFg"
      },
      "source": [
        "<img src =\"https://ml.gan4x4.ru/msu/dev-2.0/L06/out/matrix_conv5.png\" width=\"900\">"
      ]
    },
    {
      "cell_type": "markdown",
      "metadata": {
        "id": "9R2pHWPRstFh"
      },
      "source": [
        "Для двумерной свертки действует похожая логика, подробне можно прочесть здесь:\n",
        "\n",
        "[2D Convolution as a Matrix-Matrix Multiplication](https://www.baeldung.com/cs/convolution-matrix-multiplication)\n",
        "\n",
        "И при получении градиентов это тоже работает:\n",
        "\n",
        "[Forward and Backward Convolution Passes as Matrix Multiplication](https://danieltakeshi.github.io/2019/03/09/conv-matmul/)\n",
        "\n",
        "\n"
      ]
    }
  ]
}