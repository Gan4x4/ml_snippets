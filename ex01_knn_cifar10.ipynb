{
  "nbformat": 4,
  "nbformat_minor": 0,
  "metadata": {
    "colab": {
      "provenance": []
    },
    "kernelspec": {
      "name": "python3",
      "display_name": "Python 3"
    },
    "language_info": {
      "name": "python"
    }
  },
  "cells": [
    {
      "cell_type": "code",
      "execution_count": null,
      "metadata": {
        "id": "pqKb-4Y-1sme"
      },
      "outputs": [],
      "source": []
    },
    {
      "cell_type": "markdown",
      "metadata": {
        "id": "PMMBK-B-AUmI"
      },
      "source": [
        "# Задание 4. Алгоритм Nearest Neighbors"
      ]
    },
    {
      "cell_type": "markdown",
      "metadata": {
        "id": "zXmny8sCAUmI"
      },
      "source": [
        "В данном задании требуется самостоятельно реализовать алгоритм k-NN и применить его."
      ]
    },
    {
      "cell_type": "markdown",
      "metadata": {
        "id": "Ly--W1zgAUmI"
      },
      "source": [
        "Импорт необходимых библиотек:"
      ]
    },
    {
      "cell_type": "code",
      "execution_count": null,
      "metadata": {
        "id": "4kqIGIruAUmI"
      },
      "outputs": [],
      "source": [
        "import numpy as np\n",
        "from sklearn.datasets import load_wine\n",
        "from sklearn.model_selection import train_test_split"
      ]
    },
    {
      "cell_type": "markdown",
      "metadata": {
        "id": "zrQBgwkLAUmJ"
      },
      "source": [
        "Загрузим датасет:"
      ]
    },
    {
      "cell_type": "code",
      "execution_count": null,
      "metadata": {
        "id": "oxFdc7o_AUmJ"
      },
      "outputs": [],
      "source": [
        "# Download dataset\n",
        "data, labels = load_wine(return_X_y=True)"
      ]
    },
    {
      "cell_type": "markdown",
      "metadata": {
        "id": "fso-S_s5AUmJ"
      },
      "source": [
        "Разбейте ваши данные на тренировочную, валидационную и тестовую подвыборки.\n",
        "\n",
        "Вам пригодится метод `train_test_split()`. Выделите на обучение $60\\%$ данных, не забудьте про фиксирование `seed` генератора и *стратификацию* (параметры `random_state=42`, `stratify`)."
      ]
    },
    {
      "cell_type": "code",
      "execution_count": null,
      "metadata": {
        "id": "rXcaSHFtAUmJ"
      },
      "outputs": [],
      "source": [
        "x_train, x_, y_train, y_ = train_test_split(\n",
        "    data, labels, train_size=0.6, random_state=42, stratify=labels\n",
        ")\n",
        "# Your code here\n",
        "x_val, x_test, y_val, y_test = train_test_split(\n",
        "    x_, y_, train_size=0.6, random_state=42, stratify=y_\n",
        ")"
      ]
    },
    {
      "cell_type": "code",
      "execution_count": null,
      "metadata": {
        "id": "MtgsU-BYAUmJ"
      },
      "outputs": [],
      "source": [
        "print(\"x_train\", x_train.shape)\n",
        "print(\"x_val\", x_val.shape)\n",
        "print(\"x_test\", x_test.shape)"
      ]
    },
    {
      "cell_type": "markdown",
      "metadata": {
        "id": "b9JMcrxBAUmJ"
      },
      "source": [
        "Напишите функцию, которая считает расстояние L1 между 2-мя векторами.\n"
      ]
    },
    {
      "cell_type": "code",
      "execution_count": null,
      "metadata": {
        "id": "6M6ki3okAUmJ"
      },
      "outputs": [],
      "source": [
        "def compute_L1(a, b):\n",
        "    return np.sum(np.abs(a - b))  # Your code here"
      ]
    },
    {
      "cell_type": "markdown",
      "metadata": {
        "id": "mTJijExJAUmJ"
      },
      "source": [
        "Возьмите первую строку из валидационного набора. Посчитайте расстояние L1 от нее до всех строк тренировочного набора.\n",
        "\n",
        "В простейшем виде напишите `for loop`. Если вы знаете, что вы делаете, можете использовать *векторизацию*."
      ]
    },
    {
      "cell_type": "code",
      "execution_count": null,
      "metadata": {
        "id": "SpIqANxRAUmK"
      },
      "outputs": [],
      "source": [
        "# Your code here\n",
        "a = x_val[0]\n",
        "\n",
        "l1s = []\n",
        "for i in range(len(x_train)):\n",
        "    l1 = compute_L1(a, x_train[i])\n",
        "    l1s.append(l1)\n",
        "\n",
        "distances = np.array(l1s)"
      ]
    },
    {
      "cell_type": "markdown",
      "metadata": {
        "id": "iK0FhN98AUmK"
      },
      "source": [
        "Найдите индекс минимального расстояния.\n",
        "\n",
        "Используйте `np.argmin()`."
      ]
    },
    {
      "cell_type": "code",
      "execution_count": null,
      "metadata": {
        "id": "aZdM33kWAUmK"
      },
      "outputs": [],
      "source": [
        "indx = distances.argmin()  # Your code here"
      ]
    },
    {
      "cell_type": "markdown",
      "metadata": {
        "id": "iN0WvU1hAUmK"
      },
      "source": [
        "Выведите первый объект в валидационном наборе и объект, который максимально на него похож в тренировочном (по минимальному расстоянию)."
      ]
    },
    {
      "cell_type": "code",
      "execution_count": null,
      "metadata": {
        "id": "ryCwx9pLAUmK"
      },
      "outputs": [],
      "source": [
        "# Your code here\n",
        "x_val[0], x_train[indx]"
      ]
    },
    {
      "cell_type": "markdown",
      "metadata": {
        "id": "bBUqnBjqAUmK"
      },
      "source": [
        "Выведите их метки"
      ]
    },
    {
      "cell_type": "code",
      "execution_count": null,
      "metadata": {
        "id": "VE0ot7ibAUmK"
      },
      "outputs": [],
      "source": [
        "# Your code here\n",
        "y_val[0], y_train[indx]"
      ]
    },
    {
      "cell_type": "markdown",
      "metadata": {
        "id": "24a75GicAUmK"
      },
      "source": [
        "Напишите функцию для рассчёта двумерного массива расстояний между двумя выборками (от каждого объекта в первой выборке до каждого объекта во второй выборке).\n",
        "\n",
        "Рекомендуем заранее создать массив расстояний и заполнить его каким-нибудь очень маленьким числом (например, `np.inf`). Так вы сразу будете отлаживать алгоритм по размерности, а ещё это не будет требовать повторных выделений памяти при росте размера массива."
      ]
    },
    {
      "cell_type": "code",
      "execution_count": null,
      "metadata": {
        "id": "F6YD4xJdAUmK"
      },
      "outputs": [],
      "source": [
        "def compute_distances(train, sub, distance_func):\n",
        "    # Your code here\n",
        "    train_size = len(train)\n",
        "    sub_size = len(sub)\n",
        "    distances = np.full((sub_size, train_size), np.inf)\n",
        "    for i in range(sub_size):\n",
        "        for j in range(train_size):\n",
        "            distances[i, j] = distance_func(sub[i], train[j])\n",
        "\n",
        "    return distances"
      ]
    },
    {
      "cell_type": "code",
      "execution_count": null,
      "metadata": {
        "id": "GII6xCq0AUmK"
      },
      "outputs": [],
      "source": [
        "distances = compute_distances(x_train, x_val, compute_L1)"
      ]
    },
    {
      "cell_type": "code",
      "execution_count": null,
      "metadata": {
        "id": "32vLMxSdAUmL"
      },
      "outputs": [],
      "source": [
        "distances.shape"
      ]
    },
    {
      "cell_type": "markdown",
      "metadata": {
        "id": "dJguFJLVAUmL"
      },
      "source": [
        "Определите точность Nearest Neighbors классификации на **валидационном** наборе.\n",
        "\n",
        "Для этого найдите индекс минимального значения для каждой строки (или столбца) массива distances. Количество индексов должно совпадать с количеством объектов в валидационном наборе."
      ]
    },
    {
      "cell_type": "code",
      "execution_count": null,
      "metadata": {
        "id": "MF-V84oqAUmL"
      },
      "outputs": [],
      "source": [
        "indx_distances = distances.argmin(axis=1)  # Your code here"
      ]
    },
    {
      "cell_type": "code",
      "execution_count": null,
      "metadata": {
        "id": "RImhPRCiAUmL"
      },
      "outputs": [],
      "source": [
        "indx_distances.shape"
      ]
    },
    {
      "cell_type": "markdown",
      "metadata": {
        "id": "eOQmZUe1AUmL"
      },
      "source": [
        "Теперь создадим массив `predicted_class`."
      ]
    },
    {
      "cell_type": "code",
      "execution_count": null,
      "metadata": {
        "id": "1jNE-KkDAUmM"
      },
      "outputs": [],
      "source": [
        "predicted_class = y_train[indx_distances]"
      ]
    },
    {
      "cell_type": "markdown",
      "metadata": {
        "id": "APyN28-OAUmM"
      },
      "source": [
        "И посмотрим, где класс предсказан правильно, а где нет"
      ]
    },
    {
      "cell_type": "code",
      "execution_count": null,
      "metadata": {
        "id": "ZI_6k6TgAUmM"
      },
      "outputs": [],
      "source": [
        "y_val == predicted_class"
      ]
    },
    {
      "cell_type": "markdown",
      "metadata": {
        "id": "iXLqj4qSAUmM"
      },
      "source": [
        "**Посчитайте точность (accuracy)**\n",
        "\n",
        "В Python с булевыми значениями можно производить математические операции (`True = 1, False = 0`). Значение accuracy должно быть более $65\\%$."
      ]
    },
    {
      "cell_type": "code",
      "execution_count": null,
      "metadata": {
        "id": "YVlSBA51AUmM"
      },
      "outputs": [],
      "source": [
        "accuracy = np.mean(y_val == predicted_class)  # Your code here\n",
        "print(f\"Accuracy = {accuracy * 100:.1f}%\")"
      ]
    },
    {
      "cell_type": "markdown",
      "metadata": {
        "id": "QLsJzwwvAUmM"
      },
      "source": [
        "Повторите все этапы классификации, однако в этот раз сделайте **нормализацию** данных перед этим. Величина accuracy должна увеличиться."
      ]
    },
    {
      "cell_type": "code",
      "execution_count": null,
      "metadata": {
        "id": "939-nnGCAUmN"
      },
      "outputs": [],
      "source": [
        "# Your code here\n",
        "means = x_train.mean(axis=0)\n",
        "stds = x_train.std(axis=0)\n",
        "x_train = (x_train - means) / stds\n",
        "x_val = (x_val - means) / stds"
      ]
    },
    {
      "cell_type": "code",
      "execution_count": null,
      "metadata": {
        "id": "ytdNEfLrAUmN"
      },
      "outputs": [],
      "source": [
        "distances = compute_distances(x_train, x_val, compute_L1)  # Your code here"
      ]
    },
    {
      "cell_type": "code",
      "execution_count": null,
      "metadata": {
        "id": "gKJgJrgEAUmN"
      },
      "outputs": [],
      "source": [
        "min_distances = distances.argmin(axis=1)  # Your code here\n",
        "predicted_class = y_train[min_distances]  # Your code here\n",
        "accuracy = np.mean(y_val == predicted_class)  # Your code here\n",
        "print(f\"Accuracy = {accuracy * 100:.1f}%\")"
      ]
    },
    {
      "cell_type": "markdown",
      "metadata": {
        "id": "3tJrRLwuAUmN"
      },
      "source": [
        "**Посчитайте точность (accuracy) для тестового набора**\n",
        "\n",
        "Теперь учтём, что у нас осталась **тестовая подвыборка**. Проведите необходимые операции и посчитайте accuracy на ней.  "
      ]
    },
    {
      "cell_type": "code",
      "execution_count": null,
      "metadata": {
        "id": "_HFI-j_SAUmO"
      },
      "outputs": [],
      "source": [
        "# Your code here\n",
        "x_test = (x_test - means) / stds"
      ]
    },
    {
      "cell_type": "code",
      "execution_count": null,
      "metadata": {
        "id": "SfNA-ETCAUmO"
      },
      "outputs": [],
      "source": [
        "distances_test = compute_distances(x_train, x_test, compute_L1)  # Your code here"
      ]
    },
    {
      "cell_type": "code",
      "execution_count": null,
      "metadata": {
        "id": "1ePaXnl8AUmO"
      },
      "outputs": [],
      "source": [
        "distances_test.shape"
      ]
    },
    {
      "cell_type": "code",
      "execution_count": null,
      "metadata": {
        "id": "8PhfII0bAUmO"
      },
      "outputs": [],
      "source": [
        "y_test.shape"
      ]
    },
    {
      "cell_type": "code",
      "execution_count": null,
      "metadata": {
        "id": "xWId678uAUmP"
      },
      "outputs": [],
      "source": [
        "min_distances_test = distances_test.argmin(axis=1)  # Your code here\n",
        "predicted_class_test = y_train[min_distances_test]  # Your code here\n",
        "accuracy_test = np.mean(y_test == predicted_class_test)  # Your code here\n",
        "print(f\"Accuracy = {accuracy_test * 100:.1f}%\")"
      ]
    },
    {
      "cell_type": "markdown",
      "metadata": {
        "id": "6XeJOu1MAUmP"
      },
      "source": [
        "Каков результат? Как вы думаете, почему?"
      ]
    },
    {
      "cell_type": "markdown",
      "metadata": {
        "id": "_zqsqp8rAUmP"
      },
      "source": [
        "**Дополнительно. Кросс-валидация**\n",
        "\n",
        "Эта часть задания даёт дополнительные баллы и не обязательна к выполнению.\n",
        "\n",
        "* Как вы могли отметить, при различных разбиениях на обучение, валидацию и тест вы получаете различные результаты. Попробуйте применить механизм кросс-валидации!\n",
        "\n",
        "* Вы можете как реализовать этот алгоритм самостоятельно (для проверки сравните индексы объектов в фолдах с разбиением библиотечной реализации), так и использовать готовую библиотечную реализацию. За первый вариант будет больше баллов."
      ]
    },
    {
      "cell_type": "markdown",
      "metadata": {
        "id": "lR8zBS9PAUmP"
      },
      "source": [
        "## Формат результата"
      ]
    },
    {
      "cell_type": "markdown",
      "metadata": {
        "id": "_MT91G6VAUmP"
      },
      "source": [
        "Получить значения метрик."
      ]
    },
    {
      "cell_type": "markdown",
      "metadata": {
        "id": "tCMkhSdsAUmP"
      },
      "source": [
        "## Памятка для преподавателя"
      ]
    },
    {
      "cell_type": "markdown",
      "metadata": {
        "id": "YHd453P7AUmP"
      },
      "source": [
        "Нет сложностей с заданием"
      ]
    },
    {
      "cell_type": "markdown",
      "metadata": {
        "id": "fykAJE1gAUmQ"
      },
      "source": [
        "# Задание 3. Nearest Neighbors для картинок"
      ]
    },
    {
      "cell_type": "markdown",
      "metadata": {
        "id": "9gh_edB3AUmQ"
      },
      "source": [
        "В этом задании вы будете применять написанный в задании 2 алгоритм k-NN для работы с картинками."
      ]
    },
    {
      "cell_type": "markdown",
      "metadata": {
        "id": "Bt-aaf7TAUmQ"
      },
      "source": [
        "Импорт необходимых библиотек:"
      ]
    },
    {
      "cell_type": "code",
      "execution_count": null,
      "metadata": {
        "id": "KPoRQDrAAUmQ"
      },
      "outputs": [],
      "source": [
        "import numpy as np\n",
        "import matplotlib.pyplot as plt\n",
        "from scipy.stats import mode\n",
        "from tqdm.notebook import tqdm\n",
        "from torchvision import datasets\n",
        "from sklearn.model_selection import train_test_split"
      ]
    },
    {
      "cell_type": "markdown",
      "metadata": {
        "id": "lYW3yUq-AUmQ"
      },
      "source": [
        "Загрузим датасет с помощью функций torchvision фреймворка PyTorch, с которым мы познакомимся дальше в курсе значительно ближе.\n",
        "\n",
        "Отметьте, что мы загружаем малую часть датасета для ускорения рассчётов, а также сразу проводим базовую нормировку для изображений. Далее в курсе вы познакомитесь с тем, как эффективнее работать с изображениями."
      ]
    },
    {
      "cell_type": "code",
      "execution_count": null,
      "metadata": {
        "id": "yOz1SIy6AUmQ"
      },
      "outputs": [],
      "source": [
        "dataset = datasets.CIFAR10(\"content\", train=True, download=True)\n",
        "\n",
        "np.random.seed(42)\n",
        "data, _, labels, _ = train_test_split(\n",
        "    dataset.data / 255,  # Normalize\n",
        "    np.array(dataset.targets),\n",
        "    train_size=0.1,  # get only fraction of the dataset\n",
        "    random_state=42,\n",
        "    stratify=dataset.targets,\n",
        ")"
      ]
    },
    {
      "cell_type": "markdown",
      "metadata": {
        "id": "RQ9gUf_4AUmQ"
      },
      "source": [
        "Посмотрим, что это за датасет."
      ]
    },
    {
      "cell_type": "code",
      "execution_count": null,
      "metadata": {
        "id": "wkh7EFaBAUmQ"
      },
      "outputs": [],
      "source": [
        "data[0][0]"
      ]
    },
    {
      "cell_type": "code",
      "execution_count": null,
      "metadata": {
        "id": "dwXnqcZHAUmQ"
      },
      "outputs": [],
      "source": [
        "data.shape"
      ]
    },
    {
      "cell_type": "markdown",
      "metadata": {
        "id": "IExkoudtAUmQ"
      },
      "source": [
        "CIFAR-10 — 4-хмерный массив $\\small (N, W, H, C)$, где $\\small N$ — количество картинок, $\\small W$ — ширина картинки, $\\small H$ — высота картинки, $\\small C$ — количество каналов (RGB)."
      ]
    },
    {
      "cell_type": "markdown",
      "metadata": {
        "id": "HEQ7RZFfAUmQ"
      },
      "source": [
        "Создайте subplots с 2-мя строками и 2-мя столбцами и отобразите 4 любых картинки из `data`.\n",
        "Используйте `plt.imshow()`."
      ]
    },
    {
      "cell_type": "code",
      "execution_count": null,
      "metadata": {
        "id": "uYDNa0MKAUmQ"
      },
      "outputs": [],
      "source": [
        "fig, ax = plt.subplots(nrows=2, ncols=2, figsize=(4, 4))  # Your code here\n",
        "\n",
        "ax[0, 0].imshow(data[0])  # Your code here\n",
        "ax[0, 1].imshow(data[1])  # Your code here\n",
        "ax[1, 0].imshow(data[2])  # Your code here\n",
        "ax[1, 1].imshow(data[3])  # Your code here\n",
        "plt.show()"
      ]
    },
    {
      "cell_type": "markdown",
      "metadata": {
        "id": "fDqESffmAUmQ"
      },
      "source": [
        "Разбейте датасет на тренировочный, валидационный и тестовый наборы. Укажите аргументы `random_state=42`, `stratify`."
      ]
    },
    {
      "cell_type": "code",
      "execution_count": null,
      "metadata": {
        "id": "ERYvl8jEAUmR"
      },
      "outputs": [],
      "source": [
        "# Your code here\n",
        "x_train, x_, y_train, y_ = train_test_split(\n",
        "    data, labels, train_size=0.8, random_state=42, stratify=labels\n",
        ")\n",
        "# Your code here\n",
        "x_val, x_test, y_val, y_test = train_test_split(\n",
        "    x_, y_, train_size=0.5, random_state=42, stratify=y_\n",
        ")\n",
        "\n",
        "print(\"x_train\", x_train.shape)\n",
        "print(\"x_val\", x_val.shape)\n",
        "print(\"x_test\", x_test.shape)"
      ]
    },
    {
      "cell_type": "markdown",
      "metadata": {
        "id": "wWPsj-L9AUmR"
      },
      "source": [
        "Возьмите первую картинку из тестового набора и найдите ее ближайшего соседа из тренировочного"
      ]
    },
    {
      "cell_type": "code",
      "execution_count": null,
      "metadata": {
        "id": "KdJFlGZzAUmR"
      },
      "outputs": [],
      "source": [
        "def compute_L1(a, b):\n",
        "    return np.sum(np.abs(a - b))  # Your code here"
      ]
    },
    {
      "cell_type": "code",
      "execution_count": null,
      "metadata": {
        "id": "uOQ09wYfAUmR"
      },
      "outputs": [],
      "source": [
        "# Your code here\n",
        "a = x_val[0]\n",
        "\n",
        "l1s = []\n",
        "for i in range(len(x_train)):\n",
        "    l1 = compute_L1(a, x_train[i])\n",
        "    l1s.append(l1)\n",
        "\n",
        "distances = np.array(l1s)"
      ]
    },
    {
      "cell_type": "code",
      "execution_count": null,
      "metadata": {
        "id": "ZeOVBZJ4AUmR"
      },
      "outputs": [],
      "source": [
        "indx = np.argmin(distances)  # Your code here\n",
        "print(indx)"
      ]
    },
    {
      "cell_type": "markdown",
      "metadata": {
        "id": "_CWuNDDiAUmR"
      },
      "source": [
        "**Отобразите эти картинки на subplots с `ncols=2`:**"
      ]
    },
    {
      "cell_type": "code",
      "execution_count": null,
      "metadata": {
        "id": "bEqvSPFyAUmR"
      },
      "outputs": [],
      "source": [
        "fig, ax = plt.subplots(ncols=2)  # Your code here\n",
        "ax[0].imshow(x_test[0])  # Your code here\n",
        "ax[1].imshow(x_train[indx])  # Your code here\n",
        "plt.show()"
      ]
    },
    {
      "cell_type": "markdown",
      "metadata": {
        "id": "ttmMxxY9AUmR"
      },
      "source": [
        "**Посмотрите, какой класс предсказывается:**"
      ]
    },
    {
      "cell_type": "code",
      "execution_count": null,
      "metadata": {
        "id": "0NnwI6RkAUmR"
      },
      "outputs": [],
      "source": [
        "class_pred = y_train[indx]\n",
        "class_to_idx = dataset.class_to_idx\n",
        "\n",
        "print(list(class_to_idx.keys())[list(class_to_idx.values()).index(class_pred)])"
      ]
    },
    {
      "cell_type": "markdown",
      "metadata": {
        "id": "bzHHAKqoAUmR"
      },
      "source": [
        "Возьмите первую картинку из тестового набора и найдите k ее ближайших соседей (k-NN) из тренировочного набора.\n",
        "\n",
        "Используйте `np.argsort()` или иной способ."
      ]
    },
    {
      "cell_type": "code",
      "execution_count": null,
      "metadata": {
        "id": "U4BeZr6NAUmR"
      },
      "outputs": [],
      "source": [
        "k = 5\n",
        "indx = np.argsort(distances)[:k]  # Your code here"
      ]
    },
    {
      "cell_type": "markdown",
      "metadata": {
        "id": "ZSLa63JSAUmR"
      },
      "source": [
        "Отобразите ближайших соседей в виде subplots:"
      ]
    },
    {
      "cell_type": "code",
      "execution_count": null,
      "metadata": {
        "id": "oyGIuRtyAUmR"
      },
      "outputs": [],
      "source": [
        "fig, ax = plt.subplots(ncols=k, figsize=(16, 4))  # Your code here\n",
        "# Your code here\n",
        "ax[0].imshow(x_test[0])\n",
        "for i in range(1, k):\n",
        "    ax[i].imshow(x_train[indx[i]])\n",
        "plt.show()"
      ]
    },
    {
      "cell_type": "markdown",
      "metadata": {
        "id": "M2054JrwAUmS"
      },
      "source": [
        "Посчитайте k-NN для всего датасета."
      ]
    },
    {
      "cell_type": "markdown",
      "metadata": {
        "id": "ZuojKqQLAUmS"
      },
      "source": [
        "Чем больше данных, тем дольше процесс. Реализуйте функцию для расчета расстояний. Если вы используете `for loops`, то сделайте к ним *progress bars* с помощью [tqdm](https://github.com/tqdm/tqdm).\n",
        "\n",
        "Примечание: если используете вложенные циклы, то используйте `tqdm` только на внешнем цикле. Иначе время работы существенно увеличится."
      ]
    },
    {
      "cell_type": "code",
      "execution_count": null,
      "metadata": {
        "id": "2KLCW1NOAUmS"
      },
      "outputs": [],
      "source": [
        "def compute_distances(sub1, sub2, distance_func):\n",
        "    # Your code here\n",
        "    sub1_size = len(sub1)\n",
        "    sub2_size = len(sub2)\n",
        "    distances = np.full((sub2_size, sub1_size), np.inf)\n",
        "    for i in tqdm(range(sub2_size)):\n",
        "        for j in range(sub1_size):\n",
        "            distances[i, j] = distance_func(sub2[i], sub1[j])\n",
        "\n",
        "    return distances"
      ]
    },
    {
      "cell_type": "code",
      "execution_count": null,
      "metadata": {
        "id": "JIPRHgr1AUmS"
      },
      "outputs": [],
      "source": [
        "distances = compute_distances(x_train, x_val, compute_L1)"
      ]
    },
    {
      "cell_type": "markdown",
      "metadata": {
        "id": "TKAs0oMsAUmS"
      },
      "source": [
        "Теперь найдите k ближайших соседей и предскажите класс. Используйте моду [scipy.stats.mode](https://docs.scipy.org/doc/scipy/reference/generated/scipy.stats.mode.html) по ближайшим найденным соседям."
      ]
    },
    {
      "cell_type": "code",
      "execution_count": null,
      "metadata": {
        "id": "3nlVLebuAUmS"
      },
      "outputs": [],
      "source": [
        "def get_accuracy(distances, train_labels, sub_labels, k=5):\n",
        "    # Your code here\n",
        "    indexes = np.argsort(distances, axis=1)[:, :k]\n",
        "    labels_of_top_classes = train_labels[indexes]\n",
        "    predicted_class, _ = mode(labels_of_top_classes, axis=1, keepdims=True)\n",
        "    accuracy = np.mean(sub_labels == predicted_class.flatten())\n",
        "    return accuracy"
      ]
    },
    {
      "cell_type": "code",
      "execution_count": null,
      "metadata": {
        "id": "h4GTVxChAUmS"
      },
      "outputs": [],
      "source": [
        "accuracy = get_accuracy(distances, y_train, y_val, k)\n",
        "print(f\"Accuracy = {accuracy * 100:.0f}%\")"
      ]
    },
    {
      "cell_type": "markdown",
      "metadata": {
        "id": "aLUvZpawAUmS"
      },
      "source": [
        "**Посчитайте точность для k=1..100 и постройте график точности от k**"
      ]
    },
    {
      "cell_type": "code",
      "execution_count": null,
      "metadata": {
        "id": "64x8WIY2AUmS"
      },
      "outputs": [],
      "source": [
        "acc = []\n",
        "for k in range(1, 100):\n",
        "    # Your code here\n",
        "    acc.append(get_accuracy(distances, y_train, y_val, k))"
      ]
    },
    {
      "cell_type": "code",
      "execution_count": null,
      "metadata": {
        "id": "tP7ndEX-AUmS"
      },
      "outputs": [],
      "source": [
        "plt.plot(np.arange(1, 100), acc)  # Your code here\n",
        "plt.title(\"Accuracy: validation\", fontsize=16)\n",
        "plt.xlabel(\"k\", fontsize=14)\n",
        "plt.ylabel(\"Accuracy\", fontsize=14)\n",
        "plt.show()"
      ]
    },
    {
      "cell_type": "markdown",
      "metadata": {
        "id": "QjHpXykOAUmT"
      },
      "source": [
        "Поменяйте расстоянние L1 на L2 и сравните точность на всем датасете."
      ]
    },
    {
      "cell_type": "code",
      "execution_count": null,
      "metadata": {
        "id": "p9HUbS_zAUmT"
      },
      "outputs": [],
      "source": [
        "def compute_L2(a, b):\n",
        "    return np.sqrt(np.sum((a - b) ** 2))  # Your code here"
      ]
    },
    {
      "cell_type": "code",
      "execution_count": null,
      "metadata": {
        "id": "yn5TTrK2AUmT"
      },
      "outputs": [],
      "source": [
        "distances_l2 = compute_distances(x_train, x_val, compute_L2)"
      ]
    },
    {
      "cell_type": "code",
      "execution_count": null,
      "metadata": {
        "id": "pqqXo4TjAUmT"
      },
      "outputs": [],
      "source": [
        "acc_l2 = []\n",
        "for k in range(1, 100):\n",
        "    # Your code here\n",
        "    acc_l2.append(get_accuracy(distances_l2, y_train, y_val, k=k))"
      ]
    },
    {
      "cell_type": "code",
      "execution_count": null,
      "metadata": {
        "id": "8OTtMOSiAUmT"
      },
      "outputs": [],
      "source": [
        "plt.plot(np.arange(1, 100), acc, label=\"L1\")  # Your code here\n",
        "plt.plot(np.arange(1, 100), acc_l2, label=\"L2\")  # Your code here\n",
        "plt.title(\"Accuracy: validation\", fontsize=16)\n",
        "plt.xlabel(\"k\", fontsize=14)\n",
        "plt.ylabel(\"Accuracy\", fontsize=14)\n",
        "plt.legend()\n",
        "plt.show()"
      ]
    },
    {
      "cell_type": "code",
      "execution_count": null,
      "metadata": {
        "id": "W8Ka2RLfAUmT"
      },
      "outputs": [],
      "source": [
        "top_acc = max(acc)\n",
        "top_k = acc.index(top_acc)\n",
        "\n",
        "print(f\"Top acc = {top_acc}, top k = {top_k}\")"
      ]
    },
    {
      "cell_type": "markdown",
      "metadata": {
        "id": "vJOpflE3AUmT"
      },
      "source": [
        "Теперь, выбрав оптимальные параметры (количество соседей и меру расстояния) с помощью валидационного сета, проверьте качество на **тесте**.\n",
        "\n",
        "*Примечание 1*. Для минимизации повторения кода можете сделать функцию из кода выше, в которую в качестве аргументов подаются различные наборы данных.\n",
        "\n",
        "*Примечание 2*. Валидационная выборка позволяет подобрать наилучшие гиперпараметры. Не нужно выводить аналогичные графики зависимости от гиперпарамертров на тесте."
      ]
    },
    {
      "cell_type": "code",
      "execution_count": null,
      "metadata": {
        "id": "lxSpG-TDAUmT"
      },
      "outputs": [],
      "source": [
        "# Your code here\n",
        "\n",
        "distances_l1 = compute_distances(x_train, x_test, compute_L1)"
      ]
    },
    {
      "cell_type": "code",
      "execution_count": null,
      "metadata": {
        "id": "vKcF6vpJAUmT"
      },
      "outputs": [],
      "source": [
        "get_accuracy(distances_l1, y_train, y_test, k=top_k)"
      ]
    },
    {
      "cell_type": "markdown",
      "metadata": {
        "id": "CYuRFvn-AUmT"
      },
      "source": [
        "Совпали ли результаты с валидацией? Как думаете, почему?"
      ]
    },
    {
      "cell_type": "markdown",
      "metadata": {
        "id": "pfr70WHiAUmU"
      },
      "source": [
        "**Дополнительно. Замена метрик**\n",
        "\n",
        "Эта часть задания даёт дополнительные баллы и не обязательна к выполнению.\n",
        "\n",
        "* Как мы видели в лекции, метрика accuracy довольно редко может быть применима. Попробуйте вывести другую метрику, которая, на ваш взгляд, лучше подходит для данной задачи. Можете использовать библиотечные реализации."
      ]
    },
    {
      "cell_type": "markdown",
      "metadata": {
        "id": "AYj_YCY7AUmU"
      },
      "source": [
        "## Вывод\n",
        "\n",
        "При какой метрике расстояния и с каким k точность будет максимальной?\n",
        "\n",
        "\n",
        "..."
      ]
    },
    {
      "cell_type": "markdown",
      "metadata": {
        "id": "hQEFQfdLAUmU"
      },
      "source": [
        "## Формат результата"
      ]
    },
    {
      "cell_type": "markdown",
      "metadata": {
        "id": "cNuQCPySAUmU"
      },
      "source": [
        "* График сравнения точности для L1 и L2 при различных k. Выведите на одном графике результаты для валидации и теста.\n",
        "* Число k, при котором достигается лучшая точность.\n",
        "* Точность на тесте."
      ]
    },
    {
      "cell_type": "markdown",
      "metadata": {
        "id": "_7WrMuCnAUmU"
      },
      "source": [
        "Пример графика:\n",
        "\n",
        "<img src =\"https://edunet.kea.su/repo/EduNet-web_dependencies/dev-2.0/Exercises/EX01/result_3_task.png\" width=\"300\">"
      ]
    },
    {
      "cell_type": "markdown",
      "metadata": {
        "id": "IGAUj6O0AUmU"
      },
      "source": [
        "## Памятка для преподавателя"
      ]
    },
    {
      "cell_type": "markdown",
      "metadata": {
        "id": "AOkdE-swAUmU"
      },
      "source": [
        "У студентов нет сложностей с этим заданием"
      ]
    }
  ]
}