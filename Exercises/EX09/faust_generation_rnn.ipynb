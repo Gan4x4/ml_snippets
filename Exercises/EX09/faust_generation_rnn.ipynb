{
  "nbformat": 4,
  "nbformat_minor": 0,
  "metadata": {
    "colab": {
      "provenance": [],
      "toc_visible": true
    },
    "kernelspec": {
      "name": "python3",
      "display_name": "Python 3"
    },
    "language_info": {
      "name": "python"
    }
  },
  "cells": [
    {
      "cell_type": "markdown",
      "metadata": {
        "id": "HSl9c0icP2Mv"
      },
      "source": [
        "# Задание 4*. Посимвольная генерация текста (Solution)"
      ]
    },
    {
      "cell_type": "markdown",
      "metadata": {
        "id": "wbAknE3NP2Mv"
      },
      "source": [
        "Возьмите произведение Гете \"Фауст\" и обучите на нем LSTM-модель для посимвольной генерации текста. Вместо one-hot кодирования используйте `nn.Embedding` [🛠️[doc]](https://pytorch.org/docs/stable/generated/torch.nn.Embedding.html). При обучении игнорируйте знаки препинания и номера страниц.\n",
        "\n",
        "[[doc] 🛠️ Word Embeddings Tutorial](https://pytorch.org/tutorials/beginner/nlp/word_embeddings_tutorial.html)"
      ]
    },
    {
      "cell_type": "markdown",
      "metadata": {
        "id": "jG5RK1I-P2Mv"
      },
      "source": [
        "Импорт необходимых библиотек:"
      ]
    },
    {
      "cell_type": "code",
      "execution_count": null,
      "metadata": {
        "id": "v7pUuvggP2Mv"
      },
      "outputs": [],
      "source": [
        "import torch\n",
        "import numpy as np\n",
        "import torch.nn as nn\n",
        "import torch.nn.functional as F\n",
        "\n",
        "from tqdm import tqdm\n",
        "from torch.utils.data import Dataset, DataLoader"
      ]
    },
    {
      "cell_type": "markdown",
      "metadata": {
        "id": "V0BGQ9E4P2Mv"
      },
      "source": [
        "Загрузка данных:"
      ]
    },
    {
      "cell_type": "code",
      "execution_count": null,
      "metadata": {
        "id": "rAmD_D8qP2Mv"
      },
      "outputs": [],
      "source": [
        "!wget -q https://edunet.kea.su/repo/EduNet-web_dependencies/datasets/Faust.txt"
      ]
    },
    {
      "cell_type": "code",
      "execution_count": null,
      "metadata": {
        "id": "VKCnJqAeP2Mv"
      },
      "outputs": [],
      "source": [
        "with open(\"Faust.txt\") as text_file:\n",
        "    faust_text = \"\".join(text_file.readlines())"
      ]
    },
    {
      "cell_type": "code",
      "execution_count": null,
      "metadata": {
        "id": "CDvW0HC4P2Mv"
      },
      "outputs": [],
      "source": [
        "# Your code here\n",
        "class FaustDataset(Dataset):\n",
        "    def __init__(self, data, seq_len=256, chars=\"абвгдеёжзийклмнопрстуфхцчшщъыьэюя \\n\"):\n",
        "        super().__init__()\n",
        "\n",
        "        self.seq_len = seq_len\n",
        "        # Creating a dictionary that maps integers to the characters\n",
        "        chars = list(chars)\n",
        "        self.int2char = dict(enumerate(chars))\n",
        "        # Creating another dictionary that maps characters to integers\n",
        "        self.char2int = {char: ind for ind, char in self.int2char.items()}\n",
        "\n",
        "        # encode data\n",
        "        self.data = self.encode(data)\n",
        "\n",
        "    def encode(self, char_string):\n",
        "        return [\n",
        "            self.char2int[character]\n",
        "            for character in char_string\n",
        "            if character in self.char2int\n",
        "        ]\n",
        "\n",
        "    def decode(self, int_string):\n",
        "        return [\n",
        "            self.int2chars[integer]\n",
        "            for integer in int_string\n",
        "            if integer in self.int2chars\n",
        "        ]\n",
        "\n",
        "    def __getitem__(self, n):\n",
        "        patch = self.data[n : n + self.seq_len]\n",
        "        x = torch.LongTensor(patch[:-1])\n",
        "        y = torch.LongTensor(patch[1:])\n",
        "        return x, y\n",
        "\n",
        "    def __len__(self):\n",
        "        return len(self.data) - self.seq_len - 1"
      ]
    },
    {
      "cell_type": "code",
      "execution_count": null,
      "metadata": {
        "id": "PSIZx0pDP2Mv"
      },
      "outputs": [],
      "source": [
        "train_set = FaustDataset(faust_text)\n",
        "train_loader = DataLoader(train_set, batch_size=32, shuffle=True)\n",
        "dict_size = len(train_set.int2char)\n",
        "print(dict_size)"
      ]
    },
    {
      "cell_type": "code",
      "execution_count": null,
      "metadata": {
        "id": "kftnJcbXP2Mw"
      },
      "outputs": [],
      "source": [
        "class TextRNN(nn.Module):\n",
        "    def __init__(self, dict_size, hidden_size, embedding_size, n_layers):\n",
        "        super(TextRNN, self).__init__()\n",
        "\n",
        "        self.dict_size = dict_size\n",
        "        self.hidden_size = hidden_size\n",
        "        self.embedding_size = embedding_size\n",
        "        self.n_layers = n_layers\n",
        "\n",
        "        self.encoder = nn.Embedding(self.dict_size, self.embedding_size)\n",
        "        self.lstm = nn.LSTM(\n",
        "            self.embedding_size, self.hidden_size, self.n_layers, batch_first=True\n",
        "        )\n",
        "        # self.dropout = nn.Dropout(0.2) # can work without\n",
        "        self.fc = nn.Linear(self.hidden_size, self.dict_size)\n",
        "\n",
        "    def forward(self, x, hidden):\n",
        "        x = self.encoder(x)\n",
        "        out, (ht1, ct1) = self.lstm(x, hidden)\n",
        "        out = out.contiguous().view(-1, self.hidden_size)\n",
        "        # out = self.dropout(out) # can work without\n",
        "        x = self.fc(out)\n",
        "        return x, (ht1, ct1)\n",
        "\n",
        "    def init_hidden(self, batch_size=1):\n",
        "        return (\n",
        "            torch.zeros(\n",
        "                self.n_layers, batch_size, self.hidden_size, requires_grad=True\n",
        "            ).to(device),\n",
        "            torch.zeros(\n",
        "                self.n_layers, batch_size, self.hidden_size, requires_grad=True\n",
        "            ).to(device),\n",
        "        )"
      ]
    },
    {
      "cell_type": "code",
      "execution_count": null,
      "metadata": {
        "id": "TgkrUiSEP2Mw"
      },
      "outputs": [],
      "source": [
        "def evaluate(model, char2int, int2char, start_text=\"\\n\", prediction_len=256):\n",
        "    hidden = model.init_hidden()\n",
        "    idx_input = [char2int[char] for char in start_text]\n",
        "    train = torch.LongTensor(idx_input).view(-1, 1).to(device)\n",
        "    predicted_text = start_text\n",
        "\n",
        "    _, hidden = model(train, hidden)\n",
        "\n",
        "    inp = train[-1].view(-1, 1)\n",
        "\n",
        "    for i in range(prediction_len):\n",
        "        output, hidden = model(inp.to(device), hidden)\n",
        "        output_logits = output.cpu().data.view(-1)\n",
        "        p_next = F.softmax(output_logits * 3, dim=-1).detach().cpu().data.numpy()\n",
        "        top_index = np.random.choice(len(char2int), p=p_next)\n",
        "        inp = torch.LongTensor([top_index]).view(-1, 1).to(device)\n",
        "        predicted_char = int2char[top_index]\n",
        "        predicted_text += predicted_char\n",
        "\n",
        "    return predicted_text"
      ]
    },
    {
      "cell_type": "code",
      "execution_count": null,
      "metadata": {
        "id": "E4lyMC4AP2Mw"
      },
      "outputs": [],
      "source": [
        "model = TextRNN(\n",
        "    dict_size=len(train_set.int2char), hidden_size=128, embedding_size=32, n_layers=3\n",
        ")\n",
        "model.to(device)\n",
        "\n",
        "criterion = nn.CrossEntropyLoss()\n",
        "optimizer = torch.optim.Adam(model.parameters(), lr=1e-2)\n",
        "\n",
        "\n",
        "num_epochs = 1\n",
        "loss_avg = []\n",
        "\n",
        "for epoch in range(num_epochs):\n",
        "    loss_list = []\n",
        "    i = 0\n",
        "    for train, target in tqdm(train_loader):\n",
        "        model.train()\n",
        "        hidden = model.init_hidden(train.shape[0])\n",
        "        train, target = train.to(device), target.to(device)\n",
        "\n",
        "        output, hidden = model(train, hidden)\n",
        "        loss = criterion(output, target.view(-1))\n",
        "\n",
        "        loss.backward()\n",
        "        optimizer.step()\n",
        "        optimizer.zero_grad()\n",
        "\n",
        "        loss_list.append(loss.item())\n",
        "\n",
        "        i += 1\n",
        "        if i % 500 == 0:\n",
        "            model.eval()\n",
        "            mean_loss = np.mean(loss_list)\n",
        "            print(f\"Epoch: {epoch + 1}, batch: {i}, Loss: {mean_loss}\")\n",
        "            loss_list = []\n",
        "            print(evaluate(model, train_set.char2int, train_set.int2char))"
      ]
    },
    {
      "cell_type": "code",
      "execution_count": null,
      "metadata": {
        "id": "722EGVERP2Mw"
      },
      "outputs": [],
      "source": [
        "model.eval()\n",
        "print(evaluate(model, train_set.char2int, train_set.int2char))"
      ]
    },
    {
      "cell_type": "markdown",
      "metadata": {
        "id": "hj4b34W9P2Mw"
      },
      "source": [
        "## Формат результата"
      ]
    },
    {
      "cell_type": "markdown",
      "metadata": {
        "id": "X33MJtXMP2Mw"
      },
      "source": [
        "Сгенерерированный текст\n",
        "\n",
        "Пример текста:\n",
        "\n",
        "\"все все от бесстыдные старой\n",
        "\n",
        "все в нем получше все стремленья\n",
        "\n",
        "поддержки с собой в сердце воздух своей\n",
        "\n",
        "и в вечной страсти восстанет свой предлог\n",
        "\n",
        "привет вам слуга в сладком страшней стране\n",
        "\n",
        "и в мире все вражда станет станет\n",
        "\n",
        "в поле на пользу своим воспоминанья\""
      ]
    },
    {
      "cell_type": "markdown",
      "metadata": {
        "id": "r4qgTTTgP2Mw"
      },
      "source": [
        "## Памятка для преподавателя"
      ]
    },
    {
      "cell_type": "markdown",
      "metadata": {
        "id": "dWNM0EmlP2Mw"
      },
      "source": [
        "1. Укажите, что нужно сделать 2 вывода. Один при разных стартовых буквах, другой — разные фамилии на одну и ту же букву.\n",
        "2. При использовании `random.choise` с весами-вероятностями могут возникать ошибки округления этих вероятностей. Если такое возникает, можно перейти от этой функции к любой другой (например, брать топ-$k$ вариантов и выбирать из них случайный).\n",
        "3. Можно предложить сгенерировать этот же текст с помощью трансформера."
      ]
    },
    {
      "cell_type": "markdown",
      "metadata": {
        "id": "Pjll5DZEWu8w"
      },
      "source": [
        "# Задание 4*. Посимвольная генерация текста (student version)"
      ]
    },
    {
      "cell_type": "markdown",
      "metadata": {
        "id": "05qSZY_LWu8w"
      },
      "source": [
        "Возьмите произведение Гете \"Фауст\" и обучите на нем LSTM-модель для посимвольной генерации текста. Вместо one-hot кодирования используйте `nn.Embedding` [🛠️[doc]](https://pytorch.org/docs/stable/generated/torch.nn.Embedding.html). При обучении игнорируйте знаки препинания и номера страниц.\n",
        "\n",
        "[[doc] 🛠️ Word Embeddings Tutorial](https://pytorch.org/tutorials/beginner/nlp/word_embeddings_tutorial.html)\n"
      ]
    },
    {
      "cell_type": "markdown",
      "metadata": {
        "id": "zy8pATaUWu8w"
      },
      "source": [
        "Импорт необходимых библиотек:"
      ]
    },
    {
      "cell_type": "code",
      "execution_count": null,
      "metadata": {
        "id": "thcsUay4Wu8w"
      },
      "outputs": [],
      "source": [
        "import torch\n",
        "import numpy as np\n",
        "import torch.nn as nn\n",
        "import torch.nn.functional as F\n",
        "\n",
        "from tqdm import tqdm\n",
        "from torch.utils.data import Dataset, DataLoader"
      ]
    },
    {
      "cell_type": "markdown",
      "metadata": {
        "id": "2LIg9EJHWu8x"
      },
      "source": [
        "Загрузка данных:"
      ]
    },
    {
      "cell_type": "code",
      "execution_count": null,
      "metadata": {
        "id": "dWN2EBE3Wu8x"
      },
      "outputs": [],
      "source": [
        "!wget -q https://edunet.kea.su/repo/EduNet-web_dependencies/datasets/Faust.txt"
      ]
    },
    {
      "cell_type": "code",
      "execution_count": null,
      "metadata": {
        "id": "rYMV6umkWu8x"
      },
      "outputs": [],
      "source": [
        "with open(\"Faust.txt\") as text_file:\n",
        "    faust_text = \"\".join(text_file.readlines())"
      ]
    },
    {
      "cell_type": "code",
      "execution_count": null,
      "metadata": {
        "id": "OucQCc17Wu8x"
      },
      "outputs": [],
      "source": [
        "# Your code here"
      ]
    },
    {
      "cell_type": "markdown",
      "metadata": {
        "id": "gnZO6s9cWu8x"
      },
      "source": [
        "## Формат результата"
      ]
    },
    {
      "cell_type": "markdown",
      "metadata": {
        "id": "UTcOwgoXWu8x"
      },
      "source": [
        "Сгенерерированный текст\n",
        "\n",
        "Пример текста:\n",
        "\n",
        "\"все все от бесстыдные старой\n",
        "\n",
        "все в нем получше все стремленья\n",
        "\n",
        "поддержки с собой в сердце воздух своей\n",
        "\n",
        "и в вечной страсти восстанет свой предлог\n",
        "\n",
        "привет вам слуга в сладком страшней стране\n",
        "\n",
        "и в мире все вражда станет станет\n",
        "\n",
        "в поле на пользу своим воспоминанья\"\n"
      ]
    }
  ]
}