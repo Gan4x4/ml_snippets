{
  "nbformat": 4,
  "nbformat_minor": 0,
  "metadata": {
    "colab": {
      "provenance": []
    },
    "kernelspec": {
      "name": "python3",
      "display_name": "Python 3"
    },
    "language_info": {
      "name": "python"
    }
  },
  "cells": [
    {
      "cell_type": "markdown",
      "metadata": {
        "id": "Rs3pIdw3iBys"
      },
      "source": [
        "# Задание 4. SHAP и RDKit. Коррелированные табличные данные и  фингерпринты молекул: AqSolDB\n",
        "\n",
        "Изучите коррелированность вещественных признаков для датасета [AqSolDB](https://www.nature.com/articles/s41597-019-0151-1), объединяющего информацию о растворимости химических веществ из разных источников. \n",
        "\n",
        "Обучите линейную регрессию и оцените важность вещественных признаков, используя веса перед ними. \n",
        "\n",
        "Обучите градиентный бустинг из библиотеки XGBoost для вещественных признаков.\n",
        "\n",
        "Визуализируете важность вещественных признаков в XGBoost используя SHAP.\n",
        "\n",
        "Ознакомьтесь с векторным представлением молекулы, получаемом RDKit. \n",
        "\n",
        "Обучите градиентный бустинг из библиотеки XGBoost для фингерпринтов молекул. \n",
        "\n",
        "Визуализируйте 10 самых важных для растворимости частей молекул.\n",
        "\n",
        "Визуализируйте самые важные признаки молекулы из тестового набора для которой предсказана наименьшая растворимость.\n",
        "\n",
        "\n",
        "\n"
      ]
    },
    {
      "cell_type": "markdown",
      "metadata": {
        "id": "knwCKN-iiByu"
      },
      "source": [
        "## Формат результата"
      ]
    },
    {
      "cell_type": "markdown",
      "metadata": {
        "id": "nDjRZC8ViByv"
      },
      "source": [
        "\n",
        "В результате выполнения задания необходимо получить: \n",
        "* таблицу с оценкой важности признаков с помощью весов перед ними для линейной регрессии\n",
        "* таблицу важности признаков для XGBoost\n",
        "* SHAP визуализацию важности признаков XGBoost\n",
        "\n",
        "Примеры визуализации:\n",
        "\n",
        "<img src =\"https://edunet.kea.su/repo/EduNet-web_dependencies/Exercises/EX10/Ex_10_z4_shap_waterfall.png\"  width=\"500\">\n",
        "<img src =\"https://edunet.kea.su/repo/EduNet-web_dependencies/Exercises/EX10/Ex_10_z4_shap_bar.png\"  width=\"500\">\n",
        "\n",
        "* список 10 самых важных для расстворисоти частей молекул\n",
        "* RDKit визуализирузация 10 самых важных для растворимости частей молекул\n",
        "\n",
        "Пример визуализации:\n",
        "\n",
        "<img src =\"https://edunet.kea.su/repo/EduNet-web_dependencies/Exercises/EX10/Ex_10_z4_fingerprint.png\"  width=\"200\">\n",
        "\n",
        "* RDKit визуализация самых важных признаков молекулы из тестового набора, для которой предсказана наименьшая растворимость.\n"
      ]
    },
    {
      "cell_type": "markdown",
      "metadata": {
        "id": "XaXm_u8qiByv"
      },
      "source": [
        "## Коррелированность вещественных признаков"
      ]
    },
    {
      "cell_type": "markdown",
      "metadata": {
        "id": "vsM776cqiByw"
      },
      "source": [
        "Импорт библиотек:"
      ]
    },
    {
      "cell_type": "code",
      "execution_count": null,
      "metadata": {
        "id": "P8pjWL3QiByw"
      },
      "outputs": [],
      "source": [
        "import numpy as np\n",
        "import pandas as pd\n",
        "import seaborn as sns\n",
        "import matplotlib.pyplot as plt\n",
        "import xgboost as xgb\n",
        "\n",
        "\n",
        "from sklearn.model_selection import train_test_split\n",
        "from sklearn.linear_model import LinearRegression\n",
        "from sklearn.preprocessing import StandardScaler\n",
        "from collections import defaultdict\n",
        "\n",
        "from IPython.display import clear_output\n",
        "\n",
        "try:\n",
        "    import shap\n",
        "except ModuleNotFoundError:\n",
        "    !pip install shap\n",
        "    clear_output()\n",
        "    import shap\n",
        "\n",
        "try:\n",
        "    import rdkit\n",
        "except ModuleNotFoundError:\n",
        "    !pip install rdkit-pypi\n",
        "    clear_output()\n",
        "    import rdkit\n",
        "\n",
        "from rdkit import Chem\n",
        "from rdkit.Chem.Draw import IPythonConsole\n",
        "from rdkit.Chem import Draw\n",
        "from rdkit.Chem import AllChem"
      ]
    },
    {
      "cell_type": "markdown",
      "metadata": {
        "id": "TC_DBfzhiByx"
      },
      "source": [
        "Загрузка датасета:"
      ]
    },
    {
      "cell_type": "code",
      "execution_count": null,
      "metadata": {
        "colab": {
          "base_uri": "https://localhost:8080/",
          "height": 577
        },
        "id": "eZtk69L7iByx",
        "outputId": "b6e2f8b2-0dab-4cb7-c178-38c65039a442"
      },
      "outputs": [
        {
          "output_type": "stream",
          "name": "stdout",
          "text": [
            "--2022-12-08 09:20:20--  https://edunet.kea.su/repo/EduNet-web_dependencies/Exercises/EX10/curated-solubility-dataset.csv\n",
            "Resolving edunet.kea.su (edunet.kea.su)... 188.44.53.138\n",
            "Connecting to edunet.kea.su (edunet.kea.su)|188.44.53.138|:443... connected.\n",
            "HTTP request sent, awaiting response... 200 OK\n",
            "Length: 3750208 (3.6M) [application/octet-stream]\n",
            "Saving to: ‘curated-solubility-dataset.csv’\n",
            "\n",
            "curated-solubility- 100%[===================>]   3.58M  1.56MB/s    in 2.3s    \n",
            "\n",
            "2022-12-08 09:20:24 (1.56 MB/s) - ‘curated-solubility-dataset.csv’ saved [3750208/3750208]\n",
            "\n"
          ]
        },
        {
          "output_type": "execute_result",
          "data": {
            "text/plain": [
              "    ID                                               Name  \\\n",
              "0  A-3         N,N,N-trimethyloctadecan-1-aminium bromide   \n",
              "1  A-4                           Benzo[cd]indol-2(1H)-one   \n",
              "2  A-5                               4-chlorobenzaldehyde   \n",
              "3  A-8  zinc bis[2-hydroxy-3,5-bis(1-phenylethyl)benzo...   \n",
              "4  A-9  4-({4-[bis(oxiran-2-ylmethyl)amino]phenyl}meth...   \n",
              "\n",
              "                                               InChI  \\\n",
              "0  InChI=1S/C21H46N.BrH/c1-5-6-7-8-9-10-11-12-13-...   \n",
              "1  InChI=1S/C11H7NO/c13-11-8-5-1-3-7-4-2-6-9(12-1...   \n",
              "2        InChI=1S/C7H5ClO/c8-7-3-1-6(5-9)2-4-7/h1-5H   \n",
              "3  InChI=1S/2C23H22O3.Zn/c2*1-15(17-9-5-3-6-10-17...   \n",
              "4  InChI=1S/C25H30N2O4/c1-5-20(26(10-22-14-28-22)...   \n",
              "\n",
              "                      InChIKey  \\\n",
              "0  SZEMGTQCPRNXEG-UHFFFAOYSA-M   \n",
              "1  GPYLCFQEKPUWLD-UHFFFAOYSA-N   \n",
              "2  AVPYQKSLYISFPO-UHFFFAOYSA-N   \n",
              "3  XTUPUYCJWKHGSW-UHFFFAOYSA-L   \n",
              "4  FAUAZXVRLVIARB-UHFFFAOYSA-N   \n",
              "\n",
              "                                              SMILES  Solubility   SD  \\\n",
              "0                [Br-].CCCCCCCCCCCCCCCCCC[N+](C)(C)C   -3.616127  0.0   \n",
              "1                               O=C1Nc2cccc3cccc1c23   -3.254767  0.0   \n",
              "2                                    Clc1ccc(C=O)cc1   -2.177078  0.0   \n",
              "3  [Zn++].CC(c1ccccc1)c2cc(C(C)c3ccccc3)c(O)c(c2)...   -3.924409  0.0   \n",
              "4  C1OC1CN(CC2CO2)c3ccc(Cc4ccc(cc4)N(CC5CO5)CC6CO...   -4.662065  0.0   \n",
              "\n",
              "   Ocurrences Group    MolWt  ...  NumRotatableBonds  NumValenceElectrons  \\\n",
              "0           1    G1  392.510  ...               17.0                142.0   \n",
              "1           1    G1  169.183  ...                0.0                 62.0   \n",
              "2           1    G1  140.569  ...                1.0                 46.0   \n",
              "3           1    G1  756.226  ...               10.0                264.0   \n",
              "4           1    G1  422.525  ...               12.0                164.0   \n",
              "\n",
              "   NumAromaticRings  NumSaturatedRings  NumAliphaticRings  RingCount    TPSA  \\\n",
              "0               0.0                0.0                0.0        0.0    0.00   \n",
              "1               2.0                0.0                1.0        3.0   29.10   \n",
              "2               1.0                0.0                0.0        1.0   17.07   \n",
              "3               6.0                0.0                0.0        6.0  120.72   \n",
              "4               2.0                4.0                4.0        6.0   56.60   \n",
              "\n",
              "    LabuteASA      BalabanJ      BertzCT  \n",
              "0  158.520601  0.000000e+00   210.377334  \n",
              "1   75.183563  2.582996e+00   511.229248  \n",
              "2   58.261134  3.009782e+00   202.661065  \n",
              "3  323.755434  2.322963e-07  1964.648666  \n",
              "4  183.183268  1.084427e+00   769.899934  \n",
              "\n",
              "[5 rows x 26 columns]"
            ],
            "text/html": [
              "\n",
              "  <div id=\"df-0423c019-e8ff-44b1-a1bd-4d9728e098bf\">\n",
              "    <div class=\"colab-df-container\">\n",
              "      <div>\n",
              "<style scoped>\n",
              "    .dataframe tbody tr th:only-of-type {\n",
              "        vertical-align: middle;\n",
              "    }\n",
              "\n",
              "    .dataframe tbody tr th {\n",
              "        vertical-align: top;\n",
              "    }\n",
              "\n",
              "    .dataframe thead th {\n",
              "        text-align: right;\n",
              "    }\n",
              "</style>\n",
              "<table border=\"1\" class=\"dataframe\">\n",
              "  <thead>\n",
              "    <tr style=\"text-align: right;\">\n",
              "      <th></th>\n",
              "      <th>ID</th>\n",
              "      <th>Name</th>\n",
              "      <th>InChI</th>\n",
              "      <th>InChIKey</th>\n",
              "      <th>SMILES</th>\n",
              "      <th>Solubility</th>\n",
              "      <th>SD</th>\n",
              "      <th>Ocurrences</th>\n",
              "      <th>Group</th>\n",
              "      <th>MolWt</th>\n",
              "      <th>...</th>\n",
              "      <th>NumRotatableBonds</th>\n",
              "      <th>NumValenceElectrons</th>\n",
              "      <th>NumAromaticRings</th>\n",
              "      <th>NumSaturatedRings</th>\n",
              "      <th>NumAliphaticRings</th>\n",
              "      <th>RingCount</th>\n",
              "      <th>TPSA</th>\n",
              "      <th>LabuteASA</th>\n",
              "      <th>BalabanJ</th>\n",
              "      <th>BertzCT</th>\n",
              "    </tr>\n",
              "  </thead>\n",
              "  <tbody>\n",
              "    <tr>\n",
              "      <th>0</th>\n",
              "      <td>A-3</td>\n",
              "      <td>N,N,N-trimethyloctadecan-1-aminium bromide</td>\n",
              "      <td>InChI=1S/C21H46N.BrH/c1-5-6-7-8-9-10-11-12-13-...</td>\n",
              "      <td>SZEMGTQCPRNXEG-UHFFFAOYSA-M</td>\n",
              "      <td>[Br-].CCCCCCCCCCCCCCCCCC[N+](C)(C)C</td>\n",
              "      <td>-3.616127</td>\n",
              "      <td>0.0</td>\n",
              "      <td>1</td>\n",
              "      <td>G1</td>\n",
              "      <td>392.510</td>\n",
              "      <td>...</td>\n",
              "      <td>17.0</td>\n",
              "      <td>142.0</td>\n",
              "      <td>0.0</td>\n",
              "      <td>0.0</td>\n",
              "      <td>0.0</td>\n",
              "      <td>0.0</td>\n",
              "      <td>0.00</td>\n",
              "      <td>158.520601</td>\n",
              "      <td>0.000000e+00</td>\n",
              "      <td>210.377334</td>\n",
              "    </tr>\n",
              "    <tr>\n",
              "      <th>1</th>\n",
              "      <td>A-4</td>\n",
              "      <td>Benzo[cd]indol-2(1H)-one</td>\n",
              "      <td>InChI=1S/C11H7NO/c13-11-8-5-1-3-7-4-2-6-9(12-1...</td>\n",
              "      <td>GPYLCFQEKPUWLD-UHFFFAOYSA-N</td>\n",
              "      <td>O=C1Nc2cccc3cccc1c23</td>\n",
              "      <td>-3.254767</td>\n",
              "      <td>0.0</td>\n",
              "      <td>1</td>\n",
              "      <td>G1</td>\n",
              "      <td>169.183</td>\n",
              "      <td>...</td>\n",
              "      <td>0.0</td>\n",
              "      <td>62.0</td>\n",
              "      <td>2.0</td>\n",
              "      <td>0.0</td>\n",
              "      <td>1.0</td>\n",
              "      <td>3.0</td>\n",
              "      <td>29.10</td>\n",
              "      <td>75.183563</td>\n",
              "      <td>2.582996e+00</td>\n",
              "      <td>511.229248</td>\n",
              "    </tr>\n",
              "    <tr>\n",
              "      <th>2</th>\n",
              "      <td>A-5</td>\n",
              "      <td>4-chlorobenzaldehyde</td>\n",
              "      <td>InChI=1S/C7H5ClO/c8-7-3-1-6(5-9)2-4-7/h1-5H</td>\n",
              "      <td>AVPYQKSLYISFPO-UHFFFAOYSA-N</td>\n",
              "      <td>Clc1ccc(C=O)cc1</td>\n",
              "      <td>-2.177078</td>\n",
              "      <td>0.0</td>\n",
              "      <td>1</td>\n",
              "      <td>G1</td>\n",
              "      <td>140.569</td>\n",
              "      <td>...</td>\n",
              "      <td>1.0</td>\n",
              "      <td>46.0</td>\n",
              "      <td>1.0</td>\n",
              "      <td>0.0</td>\n",
              "      <td>0.0</td>\n",
              "      <td>1.0</td>\n",
              "      <td>17.07</td>\n",
              "      <td>58.261134</td>\n",
              "      <td>3.009782e+00</td>\n",
              "      <td>202.661065</td>\n",
              "    </tr>\n",
              "    <tr>\n",
              "      <th>3</th>\n",
              "      <td>A-8</td>\n",
              "      <td>zinc bis[2-hydroxy-3,5-bis(1-phenylethyl)benzo...</td>\n",
              "      <td>InChI=1S/2C23H22O3.Zn/c2*1-15(17-9-5-3-6-10-17...</td>\n",
              "      <td>XTUPUYCJWKHGSW-UHFFFAOYSA-L</td>\n",
              "      <td>[Zn++].CC(c1ccccc1)c2cc(C(C)c3ccccc3)c(O)c(c2)...</td>\n",
              "      <td>-3.924409</td>\n",
              "      <td>0.0</td>\n",
              "      <td>1</td>\n",
              "      <td>G1</td>\n",
              "      <td>756.226</td>\n",
              "      <td>...</td>\n",
              "      <td>10.0</td>\n",
              "      <td>264.0</td>\n",
              "      <td>6.0</td>\n",
              "      <td>0.0</td>\n",
              "      <td>0.0</td>\n",
              "      <td>6.0</td>\n",
              "      <td>120.72</td>\n",
              "      <td>323.755434</td>\n",
              "      <td>2.322963e-07</td>\n",
              "      <td>1964.648666</td>\n",
              "    </tr>\n",
              "    <tr>\n",
              "      <th>4</th>\n",
              "      <td>A-9</td>\n",
              "      <td>4-({4-[bis(oxiran-2-ylmethyl)amino]phenyl}meth...</td>\n",
              "      <td>InChI=1S/C25H30N2O4/c1-5-20(26(10-22-14-28-22)...</td>\n",
              "      <td>FAUAZXVRLVIARB-UHFFFAOYSA-N</td>\n",
              "      <td>C1OC1CN(CC2CO2)c3ccc(Cc4ccc(cc4)N(CC5CO5)CC6CO...</td>\n",
              "      <td>-4.662065</td>\n",
              "      <td>0.0</td>\n",
              "      <td>1</td>\n",
              "      <td>G1</td>\n",
              "      <td>422.525</td>\n",
              "      <td>...</td>\n",
              "      <td>12.0</td>\n",
              "      <td>164.0</td>\n",
              "      <td>2.0</td>\n",
              "      <td>4.0</td>\n",
              "      <td>4.0</td>\n",
              "      <td>6.0</td>\n",
              "      <td>56.60</td>\n",
              "      <td>183.183268</td>\n",
              "      <td>1.084427e+00</td>\n",
              "      <td>769.899934</td>\n",
              "    </tr>\n",
              "  </tbody>\n",
              "</table>\n",
              "<p>5 rows × 26 columns</p>\n",
              "</div>\n",
              "      <button class=\"colab-df-convert\" onclick=\"convertToInteractive('df-0423c019-e8ff-44b1-a1bd-4d9728e098bf')\"\n",
              "              title=\"Convert this dataframe to an interactive table.\"\n",
              "              style=\"display:none;\">\n",
              "        \n",
              "  <svg xmlns=\"http://www.w3.org/2000/svg\" height=\"24px\"viewBox=\"0 0 24 24\"\n",
              "       width=\"24px\">\n",
              "    <path d=\"M0 0h24v24H0V0z\" fill=\"none\"/>\n",
              "    <path d=\"M18.56 5.44l.94 2.06.94-2.06 2.06-.94-2.06-.94-.94-2.06-.94 2.06-2.06.94zm-11 1L8.5 8.5l.94-2.06 2.06-.94-2.06-.94L8.5 2.5l-.94 2.06-2.06.94zm10 10l.94 2.06.94-2.06 2.06-.94-2.06-.94-.94-2.06-.94 2.06-2.06.94z\"/><path d=\"M17.41 7.96l-1.37-1.37c-.4-.4-.92-.59-1.43-.59-.52 0-1.04.2-1.43.59L10.3 9.45l-7.72 7.72c-.78.78-.78 2.05 0 2.83L4 21.41c.39.39.9.59 1.41.59.51 0 1.02-.2 1.41-.59l7.78-7.78 2.81-2.81c.8-.78.8-2.07 0-2.86zM5.41 20L4 18.59l7.72-7.72 1.47 1.35L5.41 20z\"/>\n",
              "  </svg>\n",
              "      </button>\n",
              "      \n",
              "  <style>\n",
              "    .colab-df-container {\n",
              "      display:flex;\n",
              "      flex-wrap:wrap;\n",
              "      gap: 12px;\n",
              "    }\n",
              "\n",
              "    .colab-df-convert {\n",
              "      background-color: #E8F0FE;\n",
              "      border: none;\n",
              "      border-radius: 50%;\n",
              "      cursor: pointer;\n",
              "      display: none;\n",
              "      fill: #1967D2;\n",
              "      height: 32px;\n",
              "      padding: 0 0 0 0;\n",
              "      width: 32px;\n",
              "    }\n",
              "\n",
              "    .colab-df-convert:hover {\n",
              "      background-color: #E2EBFA;\n",
              "      box-shadow: 0px 1px 2px rgba(60, 64, 67, 0.3), 0px 1px 3px 1px rgba(60, 64, 67, 0.15);\n",
              "      fill: #174EA6;\n",
              "    }\n",
              "\n",
              "    [theme=dark] .colab-df-convert {\n",
              "      background-color: #3B4455;\n",
              "      fill: #D2E3FC;\n",
              "    }\n",
              "\n",
              "    [theme=dark] .colab-df-convert:hover {\n",
              "      background-color: #434B5C;\n",
              "      box-shadow: 0px 1px 3px 1px rgba(0, 0, 0, 0.15);\n",
              "      filter: drop-shadow(0px 1px 2px rgba(0, 0, 0, 0.3));\n",
              "      fill: #FFFFFF;\n",
              "    }\n",
              "  </style>\n",
              "\n",
              "      <script>\n",
              "        const buttonEl =\n",
              "          document.querySelector('#df-0423c019-e8ff-44b1-a1bd-4d9728e098bf button.colab-df-convert');\n",
              "        buttonEl.style.display =\n",
              "          google.colab.kernel.accessAllowed ? 'block' : 'none';\n",
              "\n",
              "        async function convertToInteractive(key) {\n",
              "          const element = document.querySelector('#df-0423c019-e8ff-44b1-a1bd-4d9728e098bf');\n",
              "          const dataTable =\n",
              "            await google.colab.kernel.invokeFunction('convertToInteractive',\n",
              "                                                     [key], {});\n",
              "          if (!dataTable) return;\n",
              "\n",
              "          const docLinkHtml = 'Like what you see? Visit the ' +\n",
              "            '<a target=\"_blank\" href=https://colab.research.google.com/notebooks/data_table.ipynb>data table notebook</a>'\n",
              "            + ' to learn more about interactive tables.';\n",
              "          element.innerHTML = '';\n",
              "          dataTable['output_type'] = 'display_data';\n",
              "          await google.colab.output.renderOutput(dataTable, element);\n",
              "          const docLink = document.createElement('div');\n",
              "          docLink.innerHTML = docLinkHtml;\n",
              "          element.appendChild(docLink);\n",
              "        }\n",
              "      </script>\n",
              "    </div>\n",
              "  </div>\n",
              "  "
            ]
          },
          "metadata": {},
          "execution_count": 10
        }
      ],
      "source": [
        "!wget  https://edunet.kea.su/repo/EduNet-web_dependencies/Exercises/EX10/curated-solubility-dataset.csv\n",
        "\n",
        "data = pd.read_csv(\"curated-solubility-dataset.csv\")\n",
        "data.head()"
      ]
    },
    {
      "cell_type": "markdown",
      "metadata": {
        "id": "jTk67kvmiByx"
      },
      "source": [
        "Разобиение данных на обучение, валидацию и тест"
      ]
    },
    {
      "cell_type": "code",
      "execution_count": null,
      "metadata": {
        "id": "rQpyOb9iiByy"
      },
      "outputs": [],
      "source": [
        "all_train_ids, test_ids = train_test_split(np.arange(0, data.shape[0]), test_size=0.25, random_state=777)\n",
        "train_ids, val_ids = train_test_split(all_train_ids, test_size=0.25, random_state=777)"
      ]
    },
    {
      "cell_type": "code",
      "execution_count": null,
      "metadata": {
        "id": "Bmq8Oo9fiByy"
      },
      "outputs": [],
      "source": [
        "X = data.drop(\"Solubility\", axis=1)\n",
        "X_train, X_val, X_test = X.iloc[train_ids,:], X.iloc[val_ids,:], X.iloc[test_ids,:]"
      ]
    },
    {
      "cell_type": "code",
      "execution_count": null,
      "metadata": {
        "id": "5-o9RRCniByy"
      },
      "outputs": [],
      "source": [
        "y = data['Solubility']\n",
        "y_train, y_val, y_test = y[train_ids], y[val_ids], y[test_ids]"
      ]
    },
    {
      "cell_type": "markdown",
      "metadata": {
        "id": "fs9qGs0ViBy-"
      },
      "source": [
        "## RDKit. Фингерпринты молекул"
      ]
    },
    {
      "cell_type": "markdown",
      "metadata": {
        "id": "5Ui8DFE-iBy-"
      },
      "source": [
        "Фингерпринты - это векторные описания химических молекул. Их можно получить различными способами. Мы будем использовать один из простейших из библиотеки для работы с химическими веществами `rdkit`"
      ]
    },
    {
      "cell_type": "markdown",
      "metadata": {
        "id": "F_YBHHRdiBy-"
      },
      "source": [
        "Пример получения [векторного представления молекулы](https://www.rdkit.org/docs/GettingStartedInPython.html#morgan-fingerprints-circular-fingerprints) "
      ]
    },
    {
      "cell_type": "code",
      "execution_count": null,
      "metadata": {
        "colab": {
          "base_uri": "https://localhost:8080/"
        },
        "id": "oMDuvJ1ViBy_",
        "outputId": "d5c89ef2-b60f-4bd5-bb83-e3d56e26c8ae"
      },
      "outputs": [
        {
          "output_type": "stream",
          "name": "stdout",
          "text": [
            "<rdkit.DataStructs.cDataStructs.ExplicitBitVect object at 0x7f9b4858a970>\n",
            "Ones:  [29, 458, 1088, 1325, 1380, 2128, 2974, 3067, 3798, 3802, 3921]\n"
          ]
        },
        {
          "output_type": "execute_result",
          "data": {
            "text/plain": [
              "{29: ((7, 1),),\n",
              " 458: ((6, 1),),\n",
              " 1088: ((1, 1), (2, 1), (3, 1)),\n",
              " 1325: ((8, 1), (9, 1)),\n",
              " 1380: ((5, 0),),\n",
              " 2128: ((6, 0),),\n",
              " 2974: ((8, 0), (9, 0)),\n",
              " 3067: ((7, 0),),\n",
              " 3798: ((4, 1), (0, 1)),\n",
              " 3802: ((5, 1),),\n",
              " 3921: ((0, 0), (1, 0), (2, 0), (3, 0), (4, 0))}"
            ]
          },
          "metadata": {},
          "execution_count": 29
        }
      ],
      "source": [
        "mol = Chem.MolFromSmiles('c1ccccc1CC1CC1')\n",
        "bi = {}\n",
        "fp = AllChem.GetMorganFingerprintAsBitVect(mol, radius=1, bitInfo=bi, nBits=2 ** 12)\n",
        "print(fp)\n",
        "\n",
        "ones_num = []\n",
        "for i in range(len(fp)):\n",
        "    if fp[i] != 0:\n",
        "        ones_num.append(i)\n",
        "print('Ones: ', ones_num)\n",
        "\n",
        "bi"
      ]
    },
    {
      "cell_type": "markdown",
      "metadata": {
        "id": "PLVGSKCqiBy_"
      },
      "source": [
        "Генерация [изображений](https://www.rdkit.org/docs/GettingStartedInPython.html#generating-images-of-fingerprint-bits) "
      ]
    },
    {
      "cell_type": "code",
      "execution_count": null,
      "metadata": {
        "colab": {
          "base_uri": "https://localhost:8080/",
          "height": 171
        },
        "id": "46Kppc9TiBy_",
        "outputId": "2c0a0c48-d876-4a76-8521-96805bb16e3a"
      },
      "outputs": [
        {
          "output_type": "execute_result",
          "data": {
            "text/plain": [
              "<IPython.core.display.SVG object>"
            ],
            "image/svg+xml": "<svg xmlns=\"http://www.w3.org/2000/svg\" xmlns:rdkit=\"http://www.rdkit.org/xml\" xmlns:xlink=\"http://www.w3.org/1999/xlink\" version=\"1.1\" baseProfile=\"full\" xml:space=\"preserve\" width=\"150px\" height=\"150px\" viewBox=\"0 0 150 150\">\n<!-- END OF HEADER -->\n<rect style=\"opacity:1.0;fill:#FFFFFF;stroke:none\" width=\"150.0\" height=\"150.0\" x=\"0.0\" y=\"0.0\"> </rect>\n<ellipse cx=\"117.5\" cy=\"90.8\" rx=\"12.8\" ry=\"12.8\" class=\"atom-0\" style=\"fill:#E5E533;fill-rule:evenodd;stroke:#E5E533;stroke-width:1.0px;stroke-linecap:butt;stroke-linejoin:miter;stroke-opacity:1\"/>\n<ellipse cx=\"59.0\" cy=\"117.2\" rx=\"12.8\" ry=\"12.8\" class=\"atom-1\" style=\"fill:#9999E5;fill-rule:evenodd;stroke:#9999E5;stroke-width:1.0px;stroke-linecap:butt;stroke-linejoin:miter;stroke-opacity:1\"/>\n<ellipse cx=\"6.8\" cy=\"79.8\" rx=\"12.8\" ry=\"12.8\" class=\"atom-2\" style=\"fill:#E5E533;fill-rule:evenodd;stroke:#E5E533;stroke-width:1.0px;stroke-linecap:butt;stroke-linejoin:miter;stroke-opacity:1\"/>\n<path class=\"bond-0 atom-0 atom-1\" d=\"M 117.5,90.8 L 59.0,117.2\" style=\"fill:none;fill-rule:evenodd;stroke:#000000;stroke-width:2.0px;stroke-linecap:butt;stroke-linejoin:miter;stroke-opacity:1\"/>\n<path class=\"bond-0 atom-0 atom-1\" d=\"M 108.5,84.3 L 60.1,106.2\" style=\"fill:none;fill-rule:evenodd;stroke:#000000;stroke-width:2.0px;stroke-linecap:butt;stroke-linejoin:miter;stroke-opacity:1;stroke-dasharray:6,0,6\"/>\n<path class=\"bond-1 atom-1 atom-2\" d=\"M 59.0,117.2 L 6.8,79.8\" style=\"fill:none;fill-rule:evenodd;stroke:#000000;stroke-width:2.0px;stroke-linecap:butt;stroke-linejoin:miter;stroke-opacity:1\"/>\n<path class=\"bond-1 atom-1 atom-2\" d=\"M 60.1,106.2 L 17.0,75.2\" style=\"fill:none;fill-rule:evenodd;stroke:#000000;stroke-width:2.0px;stroke-linecap:butt;stroke-linejoin:miter;stroke-opacity:1;stroke-dasharray:6,0,6\"/>\n<path class=\"bond-2 atom-2 atom-3\" d=\"M 6.8,79.8 L 13.1,17.0\" style=\"fill:none;fill-rule:evenodd;stroke:#E5E5E5;stroke-width:3.4px;stroke-linecap:butt;stroke-linejoin:miter;stroke-opacity:1\"/>\n<path class=\"bond-2 atom-2 atom-3\" d=\"M 17.0,75.2 L 22.7,18.0\" style=\"fill:none;fill-rule:evenodd;stroke:#E5E5E5;stroke-width:3.4px;stroke-linecap:butt;stroke-linejoin:miter;stroke-opacity:1;stroke-dasharray:6,0,6\"/>\n<path class=\"bond-3 atom-4 atom-0\" d=\"M 123.8,28.1 L 117.5,90.8\" style=\"fill:none;fill-rule:evenodd;stroke:#E5E5E5;stroke-width:3.4px;stroke-linecap:butt;stroke-linejoin:miter;stroke-opacity:1\"/>\n<path class=\"bond-3 atom-4 atom-0\" d=\"M 114.2,27.1 L 108.5,84.3\" style=\"fill:none;fill-rule:evenodd;stroke:#E5E5E5;stroke-width:3.4px;stroke-linecap:butt;stroke-linejoin:miter;stroke-opacity:1;stroke-dasharray:6,0,6\"/>\n<path d=\"M 116.0,91.5 L 117.5,90.8 L 117.7,89.2\" style=\"fill:none;stroke:#000000;stroke-width:2.0px;stroke-linecap:butt;stroke-linejoin:miter;stroke-opacity:1;\"/>\n<path d=\"M 61.9,115.9 L 59.0,117.2 L 56.4,115.4\" style=\"fill:none;stroke:#000000;stroke-width:2.0px;stroke-linecap:butt;stroke-linejoin:miter;stroke-opacity:1;\"/>\n<path d=\"M 8.1,80.7 L 6.8,79.8 L 7.0,78.2\" style=\"fill:none;stroke:#000000;stroke-width:2.0px;stroke-linecap:butt;stroke-linejoin:miter;stroke-opacity:1;\"/>\n<path class=\"atom-3\" d=\"M 14.6 14.3 L 17.2 11.6 L 13.7 10.9 L 14.2 9.0 L 17.5 10.7 L 17.0 7.1 L 19.0 7.1 L 18.4 10.7 L 21.7 9.1 L 22.3 10.9 L 18.7 11.5 L 21.3 14.3 L 19.7 15.4 L 17.9 12.0 L 16.1 15.4 L 14.6 14.3 \" fill=\"#191919\"/>\n<path class=\"atom-4\" d=\"M 115.7 24.4 L 118.3 21.7 L 114.8 21.0 L 115.3 19.1 L 118.6 20.8 L 118.1 17.2 L 120.1 17.2 L 119.5 20.8 L 122.8 19.2 L 123.4 21.0 L 119.8 21.6 L 122.4 24.4 L 120.8 25.5 L 119.0 22.1 L 117.2 25.5 L 115.7 24.4 \" fill=\"#191919\"/>\n</svg>"
          },
          "metadata": {},
          "execution_count": 30
        }
      ],
      "source": [
        "Draw.DrawMorganBit(mol, 1088, bi, useSVG=True, whichExample=0)"
      ]
    },
    {
      "cell_type": "code",
      "execution_count": null,
      "metadata": {
        "colab": {
          "base_uri": "https://localhost:8080/",
          "height": 171
        },
        "id": "XG7SmN9wiBy_",
        "outputId": "500c83cd-e5ac-4db4-9c71-03589c234629"
      },
      "outputs": [
        {
          "output_type": "execute_result",
          "data": {
            "text/plain": [
              "<IPython.core.display.SVG object>"
            ],
            "image/svg+xml": "<svg xmlns=\"http://www.w3.org/2000/svg\" xmlns:rdkit=\"http://www.rdkit.org/xml\" xmlns:xlink=\"http://www.w3.org/1999/xlink\" version=\"1.1\" baseProfile=\"full\" xml:space=\"preserve\" width=\"150px\" height=\"150px\" viewBox=\"0 0 150 150\">\n<!-- END OF HEADER -->\n<rect style=\"opacity:1.0;fill:#FFFFFF;stroke:none\" width=\"150.0\" height=\"150.0\" x=\"0.0\" y=\"0.0\"> </rect>\n<ellipse cx=\"71.3\" cy=\"121.1\" rx=\"11.1\" ry=\"11.1\" class=\"atom-1\" style=\"fill:#E5E533;fill-rule:evenodd;stroke:#E5E533;stroke-width:1.0px;stroke-linecap:butt;stroke-linejoin:miter;stroke-opacity:1\"/>\n<ellipse cx=\"26.3\" cy=\"88.8\" rx=\"11.1\" ry=\"11.1\" class=\"atom-2\" style=\"fill:#9999E5;fill-rule:evenodd;stroke:#9999E5;stroke-width:1.0px;stroke-linecap:butt;stroke-linejoin:miter;stroke-opacity:1\"/>\n<ellipse cx=\"31.8\" cy=\"33.8\" rx=\"11.1\" ry=\"11.1\" class=\"atom-3\" style=\"fill:#E5E533;fill-rule:evenodd;stroke:#E5E533;stroke-width:1.0px;stroke-linecap:butt;stroke-linejoin:miter;stroke-opacity:1\"/>\n<path class=\"bond-0 atom-0 atom-1\" d=\"M 119.4,99.3 L 71.3,121.1\" style=\"fill:none;fill-rule:evenodd;stroke:#E5E5E5;stroke-width:2.9px;stroke-linecap:butt;stroke-linejoin:miter;stroke-opacity:1\"/>\n<path class=\"bond-0 atom-0 atom-1\" d=\"M 116.0,91.8 L 72.2,111.5\" style=\"fill:none;fill-rule:evenodd;stroke:#E5E5E5;stroke-width:2.9px;stroke-linecap:butt;stroke-linejoin:miter;stroke-opacity:1;stroke-dasharray:6,0,6\"/>\n<path class=\"bond-1 atom-1 atom-2\" d=\"M 71.3,121.1 L 26.3,88.8\" style=\"fill:none;fill-rule:evenodd;stroke:#000000;stroke-width:2.0px;stroke-linecap:butt;stroke-linejoin:miter;stroke-opacity:1\"/>\n<path class=\"bond-1 atom-1 atom-2\" d=\"M 72.2,111.5 L 35.1,84.8\" style=\"fill:none;fill-rule:evenodd;stroke:#000000;stroke-width:2.0px;stroke-linecap:butt;stroke-linejoin:miter;stroke-opacity:1;stroke-dasharray:6,0,6\"/>\n<path class=\"bond-2 atom-2 atom-3\" d=\"M 26.3,88.8 L 31.8,33.8\" style=\"fill:none;fill-rule:evenodd;stroke:#000000;stroke-width:2.0px;stroke-linecap:butt;stroke-linejoin:miter;stroke-opacity:1\"/>\n<path class=\"bond-2 atom-2 atom-3\" d=\"M 35.1,84.8 L 39.6,39.3\" style=\"fill:none;fill-rule:evenodd;stroke:#000000;stroke-width:2.0px;stroke-linecap:butt;stroke-linejoin:miter;stroke-opacity:1;stroke-dasharray:6,0,6\"/>\n<path class=\"bond-3 atom-3 atom-4\" d=\"M 31.8,33.8 L 80.0,12.0\" style=\"fill:none;fill-rule:evenodd;stroke:#E5E5E5;stroke-width:2.9px;stroke-linecap:butt;stroke-linejoin:miter;stroke-opacity:1\"/>\n<path class=\"bond-3 atom-3 atom-4\" d=\"M 39.6,39.3 L 83.4,19.6\" style=\"fill:none;fill-rule:evenodd;stroke:#E5E5E5;stroke-width:2.9px;stroke-linecap:butt;stroke-linejoin:miter;stroke-opacity:1;stroke-dasharray:6,0,6\"/>\n<path d=\"M 72.5,120.5 L 71.3,121.1 L 70.1,120.3\" style=\"fill:none;stroke:#E5E5E5;stroke-width:2.9px;stroke-linecap:butt;stroke-linejoin:miter;stroke-opacity:1;\"/>\n<path d=\"M 28.6,90.4 L 26.3,88.8 L 26.6,86.0\" style=\"fill:none;stroke:#000000;stroke-width:2.0px;stroke-linecap:butt;stroke-linejoin:miter;stroke-opacity:1;\"/>\n<path d=\"M 31.7,35.1 L 31.8,33.8 L 33.0,33.2\" style=\"fill:none;stroke:#000000;stroke-width:2.0px;stroke-linecap:butt;stroke-linejoin:miter;stroke-opacity:1;\"/>\n<path class=\"atom-0\" d=\"M 117.0 92.8 L 119.3 90.4 L 116.2 89.8 L 116.7 88.2 L 119.5 89.7 L 119.1 86.6 L 120.8 86.6 L 120.3 89.6 L 123.2 88.3 L 123.7 89.8 L 120.6 90.4 L 122.8 92.8 L 121.4 93.7 L 119.9 90.8 L 118.3 93.7 L 117.0 92.8 \" fill=\"#191919\"/>\n<path class=\"atom-4\" d=\"M 81.0 13.0 L 83.3 10.7 L 80.3 10.1 L 80.7 8.5 L 83.5 9.9 L 83.1 6.8 L 84.8 6.8 L 84.3 9.9 L 87.2 8.6 L 87.7 10.1 L 84.6 10.6 L 86.8 13.0 L 85.4 14.0 L 83.9 11.1 L 82.4 14.0 L 81.0 13.0 \" fill=\"#191919\"/>\n</svg>"
          },
          "metadata": {},
          "execution_count": 31
        }
      ],
      "source": [
        "Draw.DrawMorganBit(mol, 1088, bi, useSVG=True, \n",
        "                   whichExample=1)"
      ]
    },
    {
      "cell_type": "code",
      "execution_count": null,
      "metadata": {
        "colab": {
          "base_uri": "https://localhost:8080/",
          "height": 171
        },
        "id": "zXO1HKmtiBzA",
        "outputId": "6644077e-062b-46c8-af83-4020e56f83d9"
      },
      "outputs": [
        {
          "output_type": "execute_result",
          "data": {
            "text/plain": [
              "<IPython.core.display.SVG object>"
            ],
            "image/svg+xml": "<svg xmlns=\"http://www.w3.org/2000/svg\" xmlns:rdkit=\"http://www.rdkit.org/xml\" xmlns:xlink=\"http://www.w3.org/1999/xlink\" version=\"1.1\" baseProfile=\"full\" xml:space=\"preserve\" width=\"150px\" height=\"150px\" viewBox=\"0 0 150 150\">\n<!-- END OF HEADER -->\n<rect style=\"opacity:1.0;fill:#FFFFFF;stroke:none\" width=\"150.0\" height=\"150.0\" x=\"0.0\" y=\"0.0\"> </rect>\n<ellipse cx=\"11.3\" cy=\"56.9\" rx=\"9.8\" ry=\"9.8\" class=\"atom-1\" style=\"fill:#E5E533;fill-rule:evenodd;stroke:#E5E533;stroke-width:1.0px;stroke-linecap:butt;stroke-linejoin:miter;stroke-opacity:1\"/>\n<ellipse cx=\"55.8\" cy=\"36.8\" rx=\"9.8\" ry=\"9.8\" class=\"atom-2\" style=\"fill:#9999E5;fill-rule:evenodd;stroke:#9999E5;stroke-width:1.0px;stroke-linecap:butt;stroke-linejoin:miter;stroke-opacity:1\"/>\n<ellipse cx=\"95.4\" cy=\"65.3\" rx=\"9.8\" ry=\"9.8\" class=\"atom-3\" style=\"fill:#E5E533;fill-rule:evenodd;stroke:#E5E533;stroke-width:1.0px;stroke-linecap:butt;stroke-linejoin:miter;stroke-opacity:1\"/>\n<path class=\"bond-0 atom-0 atom-1\" d=\"M 7.3,96.8 L 11.3,56.9\" style=\"fill:none;fill-rule:evenodd;stroke:#E5E5E5;stroke-width:2.6px;stroke-linecap:butt;stroke-linejoin:miter;stroke-opacity:1\"/>\n<path class=\"bond-0 atom-0 atom-1\" d=\"M 14.6,97.6 L 18.2,61.8\" style=\"fill:none;fill-rule:evenodd;stroke:#E5E5E5;stroke-width:2.6px;stroke-linecap:butt;stroke-linejoin:miter;stroke-opacity:1;stroke-dasharray:6,0,6\"/>\n<path class=\"bond-1 atom-1 atom-2\" d=\"M 11.3,56.9 L 55.8,36.8\" style=\"fill:none;fill-rule:evenodd;stroke:#000000;stroke-width:2.0px;stroke-linecap:butt;stroke-linejoin:miter;stroke-opacity:1\"/>\n<path class=\"bond-1 atom-1 atom-2\" d=\"M 18.2,61.8 L 54.9,45.2\" style=\"fill:none;fill-rule:evenodd;stroke:#000000;stroke-width:2.0px;stroke-linecap:butt;stroke-linejoin:miter;stroke-opacity:1;stroke-dasharray:6,0,6\"/>\n<path class=\"bond-2 atom-2 atom-3\" d=\"M 55.8,36.8 L 95.4,65.3\" style=\"fill:none;fill-rule:evenodd;stroke:#000000;stroke-width:2.0px;stroke-linecap:butt;stroke-linejoin:miter;stroke-opacity:1\"/>\n<path class=\"bond-2 atom-2 atom-3\" d=\"M 54.9,45.2 L 87.7,68.8\" style=\"fill:none;fill-rule:evenodd;stroke:#000000;stroke-width:2.0px;stroke-linecap:butt;stroke-linejoin:miter;stroke-opacity:1;stroke-dasharray:6,0,6\"/>\n<path class=\"bond-3 atom-3 atom-4\" d=\"M 95.4,65.3 L 137.9,46.1\" style=\"fill:none;fill-rule:evenodd;stroke:#E5E5E5;stroke-width:2.6px;stroke-linecap:butt;stroke-linejoin:miter;stroke-opacity:1\"/>\n<path class=\"bond-4 atom-3 atom-5\" d=\"M 92.0,62.8 L 87.8,104.9\" style=\"fill:none;fill-rule:evenodd;stroke:#E5E5E5;stroke-width:2.6px;stroke-linecap:butt;stroke-linejoin:miter;stroke-opacity:1\"/>\n<path class=\"bond-4 atom-3 atom-5\" d=\"M 99.3,63.6 L 95.1,105.6\" style=\"fill:none;fill-rule:evenodd;stroke:#E5E5E5;stroke-width:2.6px;stroke-linecap:butt;stroke-linejoin:miter;stroke-opacity:1;stroke-dasharray:6,0,6\"/>\n<path d=\"M 11.2,57.9 L 11.3,56.9 L 12.4,56.4\" style=\"fill:none;stroke:#E5E5E5;stroke-width:2.6px;stroke-linecap:butt;stroke-linejoin:miter;stroke-opacity:1;\"/>\n<path d=\"M 53.6,37.8 L 55.8,36.8 L 57.8,38.2\" style=\"fill:none;stroke:#000000;stroke-width:2.0px;stroke-linecap:butt;stroke-linejoin:miter;stroke-opacity:1;\"/>\n<path class=\"atom-0\" d=\"M 7.5 104.3 L 9.5 102.2 L 6.8 101.7 L 7.2 100.3 L 9.7 101.5 L 9.4 98.8 L 10.8 98.8 L 10.4 101.5 L 12.9 100.4 L 13.4 101.7 L 10.6 102.2 L 12.6 104.3 L 11.4 105.1 L 10.0 102.6 L 8.7 105.1 L 7.5 104.3 \" fill=\"#191919\"/>\n<path class=\"atom-4\" d=\"M 137.3 43.7 L 139.3 41.6 L 136.6 41.1 L 137.1 39.7 L 139.5 40.9 L 139.2 38.2 L 140.6 38.2 L 140.2 40.9 L 142.8 39.7 L 143.2 41.1 L 140.4 41.6 L 142.4 43.7 L 141.2 44.5 L 139.9 41.9 L 138.5 44.5 L 137.3 43.7 \" fill=\"#191919\"/>\n<path class=\"atom-5\" d=\"M 88.0 112.3 L 90.0 110.3 L 87.3 109.7 L 87.7 108.3 L 90.2 109.6 L 89.8 106.9 L 91.3 106.9 L 90.9 109.6 L 93.4 108.4 L 93.8 109.7 L 91.1 110.2 L 93.1 112.3 L 91.9 113.2 L 90.5 110.6 L 89.2 113.2 L 88.0 112.3 \" fill=\"#191919\"/>\n</svg>"
          },
          "metadata": {},
          "execution_count": 32
        }
      ],
      "source": [
        "Draw.DrawMorganBit(mol, 3798, bi, useSVG=True, \n",
        "                   whichExample=0)"
      ]
    },
    {
      "cell_type": "markdown",
      "metadata": {
        "id": "LQG1aadwiBzA"
      },
      "source": [
        "Функции для подсчета фингерпринтов для всего набора данных"
      ]
    },
    {
      "cell_type": "code",
      "execution_count": null,
      "metadata": {
        "id": "bbeFHrs9iBzB"
      },
      "outputs": [],
      "source": [
        "def compute_fingerpints(smiles, radius=1, size=2 ** 14):\n",
        "    mol = Chem.MolFromSmiles(smiles)\n",
        "    if mol is None:\n",
        "        print(f\"Can't parse {smiles}\")\n",
        "        return np.zeros(size)\n",
        "    bi = {}\n",
        "    fp = AllChem.GetMorganFingerprintAsBitVect(mol, \n",
        "                                               radius=radius, \n",
        "                                               bitInfo=bi, \n",
        "                                               nBits=size)\n",
        "    return np.array(fp)\n",
        "\n",
        "def transform_smiles(smi_lst, radius=1, size=2 ** 14):\n",
        "    X = np.zeros((len(smi_lst), size))\n",
        "    for ind, smi in enumerate(smi_lst):\n",
        "        fp = compute_fingerpints(smi, radius, size)\n",
        "        X[ind] = fp\n",
        "    return X"
      ]
    },
    {
      "cell_type": "markdown",
      "metadata": {
        "id": "fL6EPsB1iBzB"
      },
      "source": [
        " Подготовка данных"
      ]
    },
    {
      "cell_type": "code",
      "execution_count": null,
      "metadata": {
        "colab": {
          "base_uri": "https://localhost:8080/",
          "height": 167
        },
        "id": "nlf6BgEBiBzB",
        "outputId": "d611c8aa-d5a6-427b-b087-49ed9a0550eb"
      },
      "outputs": [
        {
          "output_type": "error",
          "ename": "IndexError",
          "evalue": "ignored",
          "traceback": [
            "\u001b[0;31m---------------------------------------------------------------------------\u001b[0m",
            "\u001b[0;31mIndexError\u001b[0m                                Traceback (most recent call last)",
            "\u001b[0;32m<ipython-input-34-7cdc57d24396>\u001b[0m in \u001b[0;36m<module>\u001b[0;34m\u001b[0m\n\u001b[0;32m----> 1\u001b[0;31m \u001b[0mtrain_features\u001b[0m \u001b[0;34m=\u001b[0m \u001b[0mtransform_smiles\u001b[0m\u001b[0;34m(\u001b[0m\u001b[0mX_train\u001b[0m\u001b[0;34m[\u001b[0m\u001b[0;34m'SMILES'\u001b[0m\u001b[0;34m]\u001b[0m\u001b[0;34m)\u001b[0m\u001b[0;34m\u001b[0m\u001b[0;34m\u001b[0m\u001b[0m\n\u001b[0m",
            "\u001b[0;31mIndexError\u001b[0m: only integers, slices (`:`), ellipsis (`...`), numpy.newaxis (`None`) and integer or boolean arrays are valid indices"
          ]
        }
      ],
      "source": [
        "train_features = transform_smiles(X_train['SMILES'])"
      ]
    },
    {
      "cell_type": "code",
      "execution_count": null,
      "metadata": {
        "id": "8LrYP12miBzB"
      },
      "outputs": [],
      "source": [
        "val_features = transform_smiles(X_val['SMILES'])"
      ]
    },
    {
      "cell_type": "code",
      "execution_count": null,
      "metadata": {
        "id": "eFDAneNSiBzC"
      },
      "outputs": [],
      "source": [
        "test_features = transform_smiles(X_test['SMILES'])"
      ]
    },
    {
      "cell_type": "markdown",
      "metadata": {
        "id": "9VStCdUKiBzC"
      },
      "source": [
        "##XGBoost для фингерпринтов молекул\n",
        "Обучите модель"
      ]
    },
    {
      "cell_type": "code",
      "execution_count": null,
      "metadata": {
        "id": "oDGl4PEJiBzC"
      },
      "outputs": [],
      "source": [
        "model = xgb.XGBRegressor(n_estimators=100, learning_rate=0.3)\n",
        "# Your code here\n",
        "# model.fit(train_features, y_train, eval_set=...)\n"
      ]
    },
    {
      "cell_type": "markdown",
      "metadata": {
        "id": "dV2FFCUZiBzD"
      },
      "source": [
        "Выберите порядка 10 самых важных признаков согласно модели"
      ]
    },
    {
      "cell_type": "code",
      "execution_count": null,
      "metadata": {
        "id": "tsJRYYQeiBzD"
      },
      "outputs": [],
      "source": [
        "print(model.feature_importances_)"
      ]
    },
    {
      "cell_type": "code",
      "execution_count": null,
      "metadata": {
        "id": "mj62mXnyiBzD"
      },
      "outputs": [],
      "source": [
        "np.sum(model.feature_importances_ > 0)"
      ]
    },
    {
      "cell_type": "code",
      "execution_count": null,
      "metadata": {
        "id": "eeK5x59CiBzE"
      },
      "outputs": [],
      "source": [
        "import matplotlib.pyplot as plt\n",
        "plt.hist(model.feature_importances_)\n",
        "plt.show()"
      ]
    },
    {
      "cell_type": "code",
      "execution_count": null,
      "metadata": {
        "id": "b4HLl6rLiBzE"
      },
      "outputs": [],
      "source": [
        "# Your code here\n",
        "# imp = ... # numbers of features"
      ]
    },
    {
      "cell_type": "code",
      "execution_count": null,
      "metadata": {
        "id": "S5hnPga8iBzE"
      },
      "outputs": [],
      "source": [
        "imp.sort(key=lambda x: -model.feature_importances_[x])"
      ]
    },
    {
      "cell_type": "code",
      "execution_count": null,
      "metadata": {
        "id": "u3R8IowIiBzF"
      },
      "outputs": [],
      "source": [
        "print(imp)"
      ]
    },
    {
      "cell_type": "markdown",
      "metadata": {
        "id": "1iujzMLCiBzF"
      },
      "source": [
        "Визуализация изображений частей молекул, отвечающих выбранным самым важным участкам фингерпринта"
      ]
    },
    {
      "cell_type": "code",
      "execution_count": null,
      "metadata": {
        "id": "I5xflAg_iBzF"
      },
      "outputs": [],
      "source": [
        "examples = defaultdict(list)\n",
        "for ind, smi in enumerate(X_train['SMILES']):\n",
        "    positions = list(np.where(train_features[ind] > 0)[0])\n",
        "    \n",
        "    for i in imp:\n",
        "        if i in positions:\n",
        "            if len(examples[i]) > 10:\n",
        "                continue\n",
        "            mol = Chem.MolFromSmiles(smi)\n",
        "            bi = {}\n",
        "            fp = AllChem.GetMorganFingerprintAsBitVect(mol, \n",
        "                                               radius=1, \n",
        "                                               bitInfo=bi, \n",
        "                                               nBits=2 ** 14)\n",
        "            mfp2_svg = Draw.DrawMorganBit(mol, i, bi, useSVG=True)\n",
        "            examples[i].append(mfp2_svg)"
      ]
    },
    {
      "cell_type": "code",
      "execution_count": null,
      "metadata": {
        "id": "NR0X-lsNiBzF"
      },
      "outputs": [],
      "source": [
        "for bit, ex in examples.items():\n",
        "    print(bit)\n",
        "    for e in ex:\n",
        "        display(e)"
      ]
    },
    {
      "cell_type": "code",
      "execution_count": null,
      "metadata": {
        "id": "QDMEMLJUiBzG"
      },
      "outputs": [],
      "source": [
        "print(examples.keys())"
      ]
    },
    {
      "cell_type": "markdown",
      "metadata": {
        "id": "W13Qk2kAiBzH"
      },
      "source": [
        "Есть ли среди выпавших фрагментов те, которые по идее должны влиять на растворимость молекулы? "
      ]
    },
    {
      "cell_type": "markdown",
      "metadata": {
        "id": "r0mAoyn9iBzH"
      },
      "source": [
        "Выберите молекулу из тестового набора, для которой предсказана наименьшая растворимость "
      ]
    },
    {
      "cell_type": "code",
      "execution_count": null,
      "metadata": {
        "id": "RipVmuQziBzH"
      },
      "outputs": [],
      "source": [
        "# Your code here\n",
        "# pred = model.predict(...)\n",
        "# min_ind = ..."
      ]
    },
    {
      "cell_type": "markdown",
      "metadata": {
        "id": "uMizH6ZziBzI"
      },
      "source": [
        "Визуализация важности признаков"
      ]
    },
    {
      "cell_type": "code",
      "execution_count": null,
      "metadata": {
        "id": "-T7QNHsSiBzI"
      },
      "outputs": [],
      "source": [
        "explainer = shap.Explainer(model)\n",
        "shap_values = explainer(test_features)\n",
        "\n",
        "shap.plots.waterfall(shap_values[min_ind])"
      ]
    },
    {
      "cell_type": "markdown",
      "metadata": {
        "id": "GwGnmId7iBzJ"
      },
      "source": [
        "Визуализируйте фрагменты молекулы с наибольшей важностью. "
      ]
    },
    {
      "cell_type": "code",
      "execution_count": null,
      "metadata": {
        "id": "gyOl05aZiBzJ"
      },
      "outputs": [],
      "source": [
        "mol = Chem.MolFromSmiles(X_test.iat[min_ind, 4])\n",
        "bi = {}\n",
        "fp = AllChem.GetMorganFingerprintAsBitVect(mol, \n",
        "                                               radius=1, \n",
        "                                               bitInfo=bi, \n",
        "                                               nBits=2 ** 14)\n",
        "\n"
      ]
    },
    {
      "cell_type": "code",
      "execution_count": null,
      "metadata": {
        "id": "kYjEI_d2iBzJ"
      },
      "outputs": [],
      "source": [
        "# Your code here"
      ]
    },
    {
      "cell_type": "code",
      "execution_count": null,
      "metadata": {
        "id": "vUnRvAkBiBzK"
      },
      "outputs": [],
      "source": [
        "bi"
      ]
    }
  ]
}