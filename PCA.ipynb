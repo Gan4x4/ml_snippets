{
 "cells": [
  {
   "cell_type": "markdown",
   "metadata": {},
   "source": [
    "Цель: повернуть координатные оси так что бы дисперсия данных вдоль новых осей стала максимальной.\n",
    "\n",
    "Для поворота осей используется: [базис](https://ru.wikipedia.org/wiki/%D0%91%D0%B0%D0%B7%D0%B8%D1%81) и [линейные отображения](http://mathhelpplanet.com/static.php?p=linyeinye-otobrazheniya).\n",
    "\n",
    "\n",
    "При этом осей может стать меньше.\n",
    "\n",
    "\n",
    "Поворот определяется `базисными векторами` которые:\n",
    "\n",
    "* единичны\n",
    "* ортогональны друг другу\n",
    "\n",
    "\n",
    "? координаты этих векторов задаются в координатной системе изначального пространства."
   ]
  },
  {
   "cell_type": "markdown",
   "metadata": {},
   "source": [
    "### Пример смены базиса или поворота координатных осей"
   ]
  },
  {
   "cell_type": "markdown",
   "metadata": {},
   "source": [
    "Данные. Каждая строка в таблице представляет собой результаты эксперимента. Соответственно в столбцах значения признаков."
   ]
  },
  {
   "cell_type": "code",
   "execution_count": null,
   "metadata": {},
   "outputs": [],
   "source": [
    "import numpy as np\n",
    "X = np.array([[2,1], [4,2]]) #Data\n"
   ]
  },
  {
   "cell_type": "code",
   "execution_count": null,
   "metadata": {},
   "outputs": [],
   "source": [
    "import matplotlib.pyplot as plt\n",
    "\n",
    "plt.scatter(X[:,0],X[:,1])\n",
    "plt.xlim(0,5)\n",
    "plt.ylim(0,3)\n",
    "plt.show()\n"
   ]
  },
  {
   "cell_type": "markdown",
   "metadata": {},
   "source": [
    "Мы хотим повернуть координатные оси. Например против часовой стрелки, так что бы точки оказались рядом с осью Х.\n",
    "\n",
    "Как повернуть вектор в 2D описано в этой статье:\n",
    "https://matthew-brett.github.io/teaching/rotation_2d.html\n",
    "\n",
    "\\begin{split}x_2 = \\cos \\beta x_1 - \\sin \\beta y_1 \\\\\n",
    "y_2 = \\sin \\beta x_1 + \\cos \\beta y_1\\end{split}\n",
    "\n",
    "Суть сводиться к тому что каждая старая координата умножается на коеффициент и затем суммируется. Вместо косинсов и синусов можно ввести новые обохначения $e_x$\n",
    "\n",
    "Тогда\n",
    "\\begin{split}x_2 = e_{1,1} x_1 + e_{1,2} y_1 \\\\\n",
    "y_2 = e_{2,1} x_1 + e_{2,2} y_1\\end{split}\n",
    "\n",
    "Теперь можно переписать это выражение в матричной форме\n",
    "\n",
    " $e = \\begin  {bmatrix}\n",
    " e_{1,1} & e_{1,2} \\\\\n",
    " e_{2,1} & e_{2,2} \\\\\n",
    "\\end{bmatrix}$\n",
    "\n",
    "$[x_2,y_2] = e\\cdot[x_1,y_1]^T$\n",
    "\n",
    "\n",
    "\n",
    "\n"
   ]
  },
  {
   "cell_type": "code",
   "execution_count": null,
   "metadata": {},
   "outputs": [],
   "source": [
    "import math \n",
    "b = -np.pi/4# 30 degree\n",
    "e = np.array([\n",
    "    [math.cos(b),-math.sin(b)],\n",
    "    [math.sin(b), math.cos(b)]\n",
    "    ])\n",
    "print(e)"
   ]
  },
  {
   "cell_type": "markdown",
   "metadata": {},
   "source": [
    "Теперь умножим старые координаты на эту матрицу (поворота)"
   ]
  },
  {
   "cell_type": "code",
   "execution_count": null,
   "metadata": {},
   "outputs": [],
   "source": [
    "print(X)\n",
    "data_rot = e @ X.T\n",
    "print(data_rot)\n"
   ]
  },
  {
   "cell_type": "code",
   "execution_count": null,
   "metadata": {},
   "outputs": [],
   "source": [
    "plt.scatter(data_rot[:,0],data_rot[:,1])\n",
    "plt.xlim(-5,7)\n",
    "plt.ylim(-5,6)\n",
    "plt.show()"
   ]
  },
  {
   "cell_type": "markdown",
   "metadata": {},
   "source": [
    "Делаем так что бы среднее значение в каждом столбце стало нулевым"
   ]
  },
  {
   "cell_type": "code",
   "execution_count": null,
   "metadata": {},
   "outputs": [],
   "source": [
    "import numpy as np\n",
    "# Assume input data matrix X of size [N x D]\n",
    "X -= np.mean(X, axis = 0) # zero-center the data (important)\n",
    "print(\"Centered: \\n\",X)"
   ]
  },
  {
   "cell_type": "markdown",
   "metadata": {},
   "source": [
    "Source: https://cs231n.github.io/neural-networks-2/#datapre\n",
    "Ковариация https://wikimatik.ru/article/28\n",
    "\"Ковариация сл. величины собой есть ее Дисперсия\""
   ]
  },
  {
   "cell_type": "markdown",
   "metadata": {},
   "source": [
    "### Ковариация:\n",
    "\n",
    "$\\mathrm {cov} _{XY}=\\mathbf {M} \\left[(X-\\mathbf {M} (X))(Y-\\mathbf {M} (Y))\\right]=\\mathbf {M} (XY)-\\mathbf {M} (X)\\mathbf {M} (Y)$\n",
    "\n",
    "Выборочная ковариационная матрица:\n",
    "\n",
    "${\\displaystyle C = [c_{ij}],\\ c_{ij} = \\frac{1}{m-1} \\sum_{l=1}^m (x_{li}-\\overline{X_{i}})(x_{lj}-\\overline{X_{j}}).}$\n",
    "\n",
    "Ковариационная матрица:\n",
    "${\\displaystyle \\Sigma =[\\sigma _{ij}],\\ \\sigma _{ij}=\\operatorname {cov} (X_{i},X_{j})=\\operatorname {E} [(X_{i}-\\operatorname {E} [X_{i}])(X_{j}-\\operatorname {E} [X_{j}])].}$"
   ]
  },
  {
   "cell_type": "code",
   "execution_count": null,
   "metadata": {},
   "outputs": [],
   "source": [
    "\n",
    "cov = np.dot(X.T, X) / X.shape[0] # get the data covariance matrix\n",
    "print(\"Covariance matrix\",cov)"
   ]
  },
  {
   "cell_type": "markdown",
   "metadata": {},
   "source": [
    "We can compute the SVD factorization of the data covariance matrix:"
   ]
  },
  {
   "cell_type": "code",
   "execution_count": null,
   "metadata": {},
   "outputs": [],
   "source": [
    "U,S,V = np.linalg.svd(cov)\n",
    "print(\"L-Eigenvectors\",U)\n",
    "print(\"Singular values\",S)\n",
    "print(\"R-Eigenvectors\",V)\n"
   ]
  },
  {
   "cell_type": "markdown",
   "metadata": {},
   "source": [
    "where the columns of U are the eigenvectors and S is a 1-D array of the singular values. To decorrelate the data, we project the original (but zero-centered) data into the eigenbasis:"
   ]
  },
  {
   "cell_type": "code",
   "execution_count": null,
   "metadata": {},
   "outputs": [],
   "source": [
    "Xrot = np.dot(X, U) # decorrelate the data"
   ]
  },
  {
   "cell_type": "code",
   "execution_count": null,
   "metadata": {},
   "outputs": [],
   "source": [
    "Xrot_reduced = np.dot(X, U[:,:100]) # Xrot_reduced becomes [N x 100]"
   ]
  },
  {
   "cell_type": "code",
   "execution_count": null,
   "metadata": {},
   "outputs": [],
   "source": [
    "import numpy as np\n",
    "x = np.array([[1,4],[-2,0]]) # Data\n",
    "w = np.array([[0.1,0.4],[-0.2,0.01]]) # weights\n",
    "z = np.zeros((2,2))\n",
    "\n",
    "z[0,0] = w[0,0]*x[0,0] + w[0,1]*x[0,1] # 1 *0.1 + 4*0.4 = 1.7\n",
    "z[0,1] = w[1,0]*x[0,0] + w[1,1]*x[0,1] # ...\n",
    "z[1,0] = w[0,0]*x[1,0] + w[0,1]*x[1,1] # Dot production!\n",
    "z[1,1] = w[1,0]*x[1,0] + w[1,1]*x[1,1]\n",
    "print(\"X = \\n\",x)\n",
    "print(\"W = \\n\",w)\n",
    "print(\"Z = \\n\",z)\n",
    "\n",
    "Z = w.dot(x)\n",
    "print(\"Z\",Z) # Not equal :(\n",
    "\n",
    "Z = w.dot(x.T) # Not equal :(\n",
    "print(x.T)\n",
    "print(\"Z\",Z) #Z.t\n",
    "\n",
    "#Z = w.T.dot(x) # Not equal :(\n",
    "#print(\"Z\",Z) "
   ]
  },
  {
   "cell_type": "code",
   "execution_count": null,
   "metadata": {},
   "outputs": [],
   "source": [
    "cov_max = x*x.T\n",
    "print(cov_max)\n"
   ]
  },
  {
   "cell_type": "markdown",
   "metadata": {},
   "source": [
    "### Explanations\n",
    "\n",
    "https://mukundh-murthy.medium.com/a-beginners-guide-to-singular-value-decomposition-svd-97581e080c11"
   ]
  },
  {
   "cell_type": "markdown",
   "metadata": {},
   "source": [
    "##Questions\n",
    "\n",
    "\n",
    "- Как менять базис с помошью умножения на матрицу\n"
   ]
  },
  {
   "cell_type": "markdown",
   "metadata": {},
   "source": [
    "# Определения"
   ]
  },
  {
   "cell_type": "markdown",
   "metadata": {},
   "source": [
    "\n",
    "\n",
    "### Ортогональность\n",
    "\n",
    "$ AA^T = I $\n",
    "\n",
    "\n",
    "\n",
    "\n",
    "\n"
   ]
  },
  {
   "cell_type": "markdown",
   "metadata": {},
   "source": [
    "##Единичная матрица ($E$ и $I$)\n",
    "\n",
    "Нули на главной диагонали "
   ]
  },
  {
   "cell_type": "code",
   "execution_count": null,
   "metadata": {},
   "outputs": [],
   "source": [
    "import numpy as np\n",
    "\n",
    "np.diag(np.full(4,1)) "
   ]
  },
  {
   "cell_type": "markdown",
   "metadata": {},
   "source": [
    "### Диагональность\n",
    "\n",
    "Нули везде кроме главной диагонали"
   ]
  },
  {
   "cell_type": "code",
   "execution_count": null,
   "metadata": {},
   "outputs": [],
   "source": [
    "import numpy as np\n",
    "\n",
    "np.diag(np.full(4,-2)) "
   ]
  },
  {
   "cell_type": "markdown",
   "metadata": {},
   "source": [
    "### Ранг матрицы\n",
    "\n",
    "Максимальное число линейно независимых строк (столбцов). Строка(столбец) называются линейно независимыми, если ни одна из них не выражается линейно через другие."
   ]
  },
  {
   "cell_type": "markdown",
   "metadata": {},
   "source": [
    "### Собственное занчение"
   ]
  },
  {
   "cell_type": "markdown",
   "metadata": {},
   "source": [
    "### Собственный вектор"
   ]
  },
  {
   "cell_type": "markdown",
   "metadata": {},
   "source": [
    "Ковариация"
   ]
  },
  {
   "cell_type": "code",
   "execution_count": null,
   "metadata": {},
   "outputs": [],
   "source": []
  }
 ],
 "metadata": {},
 "nbformat": 4,
 "nbformat_minor": 0
}
