{
 "cells": [
  {
   "cell_type": "markdown",
   "metadata": {},
   "source": [
    "# Load two images"
   ]
  },
  {
   "cell_type": "code",
   "execution_count": null,
   "metadata": {},
   "outputs": [],
   "source": [
    "!wget http://fmb.images.gan4x4.ru/miem/3d/girl.png\n",
    "!wget http://fmb.images.gan4x4.ru/miem/3d/t-pose.png"
   ]
  },
  {
   "cell_type": "code",
   "execution_count": null,
   "metadata": {},
   "outputs": [],
   "source": [
    "import matplotlib.pyplot as plt\n",
    "from PIL import Image\n",
    "\n",
    "\n",
    "girl = Image.open(\"girl.png\").resize((224,224))\n",
    "t_pose = Image.open(\"t-pose.png\").resize((224,224))\n",
    "#girl = girl.resize((224,224))\n",
    "#t_pose = t_pose.resize((224,224))\n",
    "\n",
    "plt.subplot(1, 2, 1)\n",
    "plt.imshow(girl)\n",
    "plt.subplot(1, 2, 2)\n",
    "plt.imshow(t_pose)\n",
    "plt.show()\n"
   ]
  },
  {
   "cell_type": "markdown",
   "metadata": {},
   "source": [
    "# Manually define some keypoints"
   ]
  },
  {
   "cell_type": "code",
   "execution_count": null,
   "metadata": {},
   "outputs": [],
   "source": [
    "a_points = [[110,15] , # head\n",
    "            [90,50] , [130,50], # shoulders\n",
    "            [83,120] , [137,120], # hands\n",
    "            [110,90], # belly\n",
    "            [100,160] , [120,160], # knee\n",
    "            [105,210] ,[120,210]] # foots\n",
    "plt.imshow(girl)\n",
    "x,y = list(zip(*a_points))\n",
    "plt.scatter(x,y)\n",
    "plt.show()"
   ]
  },
  {
   "cell_type": "code",
   "execution_count": null,
   "metadata": {},
   "outputs": [],
   "source": [
    "b_points = [\n",
    "    [110,15] , # head\n",
    "    [90,50] , [130,50], # shoulders\n",
    "    [10,55] , [218,55], # hands\n",
    "    [110,100], # belly\n",
    "    [70,160] , [150,160], # knee\n",
    "    [47,210],[180, 210] # foots\n",
    "    ]\n",
    "plt.imshow(t_pose)\n",
    "x,y = list(zip(*b_points))\n",
    "plt.scatter(x,y)\n",
    "plt.show()"
   ]
  },
  {
   "cell_type": "markdown",
   "metadata": {},
   "source": [
    "# Apply different transforms"
   ]
  },
  {
   "cell_type": "code",
   "execution_count": null,
   "metadata": {},
   "outputs": [],
   "source": [
    "from skimage.transform import *\n",
    "import numpy as np\n",
    "\n",
    "plt.figure(figsize=(20,10))\n",
    "\n",
    "transform_list = [AffineTransform,\n",
    "                  SimilarityTransform,\n",
    "                  EuclideanTransform ,\n",
    "                  PolynomialTransform,\n",
    "                  ProjectiveTransform,\n",
    "                  EssentialMatrixTransform,\n",
    "                  FundamentalMatrixTransform\n",
    "                  ]\n",
    "\n",
    "\n",
    "for i, t in enumerate(transform_list):\n",
    "\n",
    "  plt.subplot(1, len(transform_list), i+1)\n",
    "  inst = t()\n",
    "  inst.estimate( np.array(b_points),  np.array(a_points) )\n",
    "  wrapped = warp(np.array(girl), inst , clip=False)\n",
    "  plt.imshow(wrapped)\n",
    "\n",
    "plt.show()"
   ]
  }
 ],
 "metadata": {},
 "nbformat": 4,
 "nbformat_minor": 0
}
