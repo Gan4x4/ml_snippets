{
 "cells": [
  {
   "cell_type": "markdown",
   "metadata": {},
   "source": [
    "# Tensorboard"
   ]
  },
  {
   "cell_type": "markdown",
   "metadata": {},
   "source": [
    "Example of using:\n",
    "\n",
    "https://pytorch.org/tutorials/recipes/recipes/tensorboard_with_pytorch.html\n",
    "\n",
    "https://pytorch.org/tutorials/intermediate/tensorboard_tutorial.html"
   ]
  },
  {
   "cell_type": "markdown",
   "metadata": {},
   "source": [
    "Load the data"
   ]
  },
  {
   "cell_type": "code",
   "execution_count": null,
   "metadata": {},
   "outputs": [],
   "source": [
    "from torchvision.datasets import CIFAR10\n",
    "import torch\n",
    "import torchvision\n",
    "\n",
    "transform = torchvision.transforms.Compose(\n",
    "    [\n",
    "        torchvision.transforms.ToTensor(),\n",
    "        torchvision.transforms.Normalize(\n",
    "            [0.4914, 0.4822, 0.4465], [0.2470, 0.2434, 0.2615]\n",
    "        ),\n",
    "    ]\n",
    ")\n",
    "\n",
    "trainset = CIFAR10(root=\"./CIFAR10\", train=True, download=True, transform=transform)\n",
    "testset = CIFAR10(root=\"./CIFAR10\", train=False, download=True, transform=transform)\n",
    "\n",
    "(\n",
    "    trainset_mini,\n",
    "    _,\n",
    ") = torch.utils.data.random_split(trainset, [2000, 48000])\n",
    "testset_mini, _ = torch.utils.data.random_split(testset, [200, 9800])\n",
    "\n",
    "from torch.utils.data import DataLoader\n",
    "\n",
    "batch_size = 256\n",
    "\n",
    "trainloader = DataLoader(\n",
    "    trainset_mini, batch_size=batch_size, shuffle=True, num_workers=2, drop_last=True\n",
    ")\n",
    "testloader = DataLoader(\n",
    "    testset_mini, batch_size=batch_size, shuffle=False, num_workers=2, drop_last=True\n",
    ")"
   ]
  },
  {
   "cell_type": "markdown",
   "metadata": {},
   "source": [
    "Create model, optimizer and select loss"
   ]
  },
  {
   "cell_type": "code",
   "execution_count": null,
   "metadata": {},
   "outputs": [],
   "source": [
    "from torchvision.models import efficientnet_b0\n",
    "from torch import nn\n",
    "\n",
    "device = torch.device(\"cuda\" if torch.cuda.is_available() else \"cpu\")\n",
    "print(\"Using device:\", device)\n",
    "\n",
    "model = efficientnet_b0()\n",
    "model.train()\n",
    "optimizer = torch.optim.SGD(model.parameters(), lr=0.01)\n",
    "criterion = nn.CrossEntropyLoss()"
   ]
  },
  {
   "cell_type": "markdown",
   "metadata": {},
   "source": [
    "## Run in colab"
   ]
  },
  {
   "cell_type": "code",
   "execution_count": null,
   "metadata": {},
   "outputs": [],
   "source": [
    "# colab magic command\n",
    "%load_ext tensorboard\n",
    "# dir with logs\n",
    "%tensorboard --logdir runs"
   ]
  },
  {
   "cell_type": "markdown",
   "metadata": {},
   "source": [
    "Sometimes TB fail to star in colab: # https://stackoverflow.com/questions/64218755/getting-error-403-in-google-colab-with-tensorboard-with-firefox\n"
   ]
  },
  {
   "cell_type": "markdown",
   "metadata": {},
   "source": [
    "Start training"
   ]
  },
  {
   "cell_type": "code",
   "execution_count": null,
   "metadata": {},
   "outputs": [],
   "source": [
    "from torch.utils.tensorboard import SummaryWriter\n",
    "\n",
    "# Create log writer\n",
    "writer = SummaryWriter()\n",
    "for i, (images, labels) in enumerate(trainloader):\n",
    "    optimizer.zero_grad()\n",
    "    outputs = model(images.to(device))\n",
    "    loss = criterion(outputs, labels.to(device))\n",
    "    loss.backward()\n",
    "    # stat collection of any data\n",
    "    writer.add_scalar(\"loss\", loss.item(), i)\n",
    "    writer.flush()\n",
    "writer.close()"
   ]
  },
  {
   "cell_type": "markdown",
   "metadata": {},
   "source": [
    "Now logs stored on disk in `runs` dir"
   ]
  },
  {
   "cell_type": "markdown",
   "metadata": {},
   "source": [
    "## API\n",
    "https://pytorch.org/docs/stable/tensorboard.html"
   ]
  },
  {
   "cell_type": "markdown",
   "metadata": {},
   "source": [
    "## Run locally\n",
    "\n",
    "Install:\n",
    "`pip install tensorboard`\n",
    "\n",
    "\n",
    "Open terminal and type:\n",
    "`tensorboard --logdir=runs`\n",
    "\n",
    "You must see something like this:\n",
    "`TensorBoard 2.11.2 at http://localhost:6006/ (Press CTRL+C to quit)`\n",
    "\n",
    "Open link in browser:\n",
    "`http://localhost:6006/`\n",
    "\n",
    "\n",
    "\n",
    "\n",
    "\n"
   ]
  },
  {
   "cell_type": "markdown",
   "metadata": {},
   "source": [
    "## Raw log reading\n",
    "\n",
    "Official code exists but it did't work\n",
    "https://www.tensorflow.org/tensorboard/dataframe_api\n",
    "\n",
    "But we can use this repo: https://github.com/j3soon/tbparse"
   ]
  },
  {
   "cell_type": "code",
   "execution_count": null,
   "metadata": {},
   "outputs": [],
   "source": [
    "!pip install -U tbparse"
   ]
  },
  {
   "cell_type": "markdown",
   "metadata": {},
   "source": [
    "For single experiment:\n",
    "\n"
   ]
  },
  {
   "cell_type": "code",
   "execution_count": null,
   "metadata": {},
   "outputs": [],
   "source": [
    "from tbparse import SummaryReader\n",
    "\n",
    "experiment_name = \"\"  # like '/Apr07_14-41-50_edc2a15b1764'\n",
    "log_dir = \"runs\" + experiment_name\n",
    "\n",
    "reader = SummaryReader(log_dir)\n",
    "df = reader.scalars\n",
    "df.head()"
   ]
  },
  {
   "cell_type": "markdown",
   "metadata": {},
   "source": [
    "For all logs"
   ]
  },
  {
   "cell_type": "code",
   "execution_count": null,
   "metadata": {},
   "outputs": [],
   "source": [
    "reader = SummaryReader(\"runs\", extra_columns={\"dir_name\"})\n",
    "df = reader.scalars\n",
    "df.head()"
   ]
  },
  {
   "cell_type": "markdown",
   "metadata": {},
   "source": [
    "Now we can do anything with raw data"
   ]
  },
  {
   "cell_type": "code",
   "execution_count": null,
   "metadata": {},
   "outputs": [],
   "source": [
    "import matplotlib.pyplot as plt\n",
    "import numpy as np\n",
    "\n",
    "plt.plot(df.loc[:, \"value\"])\n",
    "plt.show()"
   ]
  },
  {
   "cell_type": "markdown",
   "metadata": {},
   "source": [
    "#Weights and Biases\n",
    "\n",
    "[W&B](https://wandb.ai/site)\n",
    "\n",
    "https://colab.research.google.com/github/wandb/examples/blob/master/colabs/intro/Intro_to_Weights_%26_Biases.ipynb"
   ]
  }
 ],
 "metadata": {},
 "nbformat": 4,
 "nbformat_minor": 0
}
