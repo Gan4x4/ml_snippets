{
 "cells": [
  {
   "cell_type": "markdown",
   "metadata": {},
   "source": [
    "Building PR curve"
   ]
  },
  {
   "cell_type": "code",
   "execution_count": null,
   "metadata": {},
   "outputs": [],
   "source": [
    "import torch\n",
    "\n",
    "classes = [\"plane\", \"car\", \"bird\"]\n",
    "labels = torch.tensor([0, 0, 0, 0, 0, 0, 0, 0, 0, 0, 0, 0, 0, 0, 0, 1, 1, 2, 2])\n",
    "predictions = torch.tensor(\n",
    "    [\n",
    "        [900, 0.2, 600],  # True plane\n",
    "        [40, 22, 36],  # True plane\n",
    "        [50, 0.4, -20],  # True plane\n",
    "        [-2, -200, -30],  # True plane\n",
    "        [4, 0.6, -6],  # True plane\n",
    "        [25, 22, 23],  # True plane\n",
    "        [2, 1.8, 1.2],  # True plane\n",
    "        [34, -45, 28],  # True plane\n",
    "        [1, 0.9, -8],  # True plane\n",
    "        [0.01, 0, 0],  # True plane\n",
    "        [0.09, 0.01, 0],  # True plane\n",
    "        [12, 10, 10],  # True plane\n",
    "        [100, 0, 0],  # True plane\n",
    "        [5, 4, 4],  # True plane\n",
    "        [70, 15, 90],  # False bird real plane\n",
    "        [-56, 0, -20],  # True car\n",
    "        [-7, -2, -12],  # True car\n",
    "        [12, 90, 100],  # True bird\n",
    "        [55, -80, 160],  # True bird\n",
    "    ]\n",
    ")\n",
    "\n",
    "probabilities = torch.nn.functional.softmax(predictions, dim=1)\n",
    "print(probabilities)\n",
    "# check that all sums equal to one\n",
    "print(probabilities.sum(dim=1))\n",
    "\n",
    "# plane prob\n",
    "plane_prob = probabilities[:, classes.index(\"plane\")]\n",
    "print(plane_prob)\n",
    "plane_gt = labels == classes.index(\"plane\")\n",
    "print(plane_gt)"
   ]
  },
  {
   "cell_type": "code",
   "execution_count": null,
   "metadata": {},
   "outputs": [],
   "source": [
    "gt = probabilities.argmax(dim=1) == labels\n",
    "result = pd.DataFrame(probabilities.numpy(), columns=classes)\n",
    "result = pd.concat([result, pd.DataFrame(labels.numpy())], axis=1)\n",
    "result = pd.concat([result, pd.DataFrame(gt.numpy())], axis=1)\n",
    "result"
   ]
  },
  {
   "cell_type": "code",
   "execution_count": null,
   "metadata": {},
   "outputs": [],
   "source": [
    "import pandas as pd\n",
    "from sklearn.metrics import confusion_matrix\n",
    "\n",
    "values, indexes = predictions.max(dim=1)\n",
    "print(indexes)\n",
    "conf_matrix = pd.DataFrame(confusion_matrix(labels, indexes))\n",
    "\n",
    "conf_matrix.columns = classes\n",
    "conf_matrix.index = classes\n",
    "\n",
    "conf_matrix = conf_matrix.rename_axis(\"Real\")\n",
    "conf_matrix = conf_matrix.rename_axis(\"Predicted\", axis=\"columns\")\n",
    "\n",
    "conf_matrix"
   ]
  },
  {
   "cell_type": "markdown",
   "metadata": {},
   "source": [
    "Результаты для одного класса"
   ]
  },
  {
   "cell_type": "code",
   "execution_count": null,
   "metadata": {},
   "outputs": [],
   "source": [
    "import numpy as np\n",
    "\n",
    "prob = pd.DataFrame(plane_prob, columns=[\"prob\"])\n",
    "gt = pd.DataFrame(plane_gt, columns=[\"GT\"])\n",
    "data = pd.concat([prob, gt], axis=1)\n",
    "pd.options.display.float_format = \"{:,.2f}\".format\n",
    "data.head(6)"
   ]
  },
  {
   "cell_type": "markdown",
   "metadata": {},
   "source": [
    "Сортируем таблицу по вероятности"
   ]
  },
  {
   "cell_type": "code",
   "execution_count": null,
   "metadata": {},
   "outputs": [],
   "source": [
    "data = data.sort_values(\"prob\", ascending=False)\n",
    "data"
   ]
  },
  {
   "cell_type": "markdown",
   "metadata": {},
   "source": [
    "Строим кривую"
   ]
  },
  {
   "cell_type": "code",
   "execution_count": null,
   "metadata": {},
   "outputs": [],
   "source": [
    "import matplotlib.pyplot as plt\n",
    "\n",
    "plt.figure(figsize=(14, 6))\n",
    "# cnt = len(data)\n",
    "\n",
    "x = [0]\n",
    "y = [1]\n",
    "for index, row in data.iterrows():\n",
    "    threshold = row[\"prob\"]\n",
    "    TP = len(data.query(f\"prob >= {threshold} and GT\"))\n",
    "    FP = len(data.query(f\"prob >= {threshold} and not GT\"))\n",
    "    precision = TP / (TP + FP)\n",
    "\n",
    "    FN = len(data.query(f\"prob < {threshold} and GT\"))\n",
    "    recall = TP / (TP + FN)\n",
    "\n",
    "    plt.scatter(recall, precision)\n",
    "    plt.annotate(f\"{threshold:.2f}\", (recall, precision))\n",
    "    y.append(precision)\n",
    "    x.append(recall)\n",
    "\n",
    "x.append(1)\n",
    "y.append(0)\n",
    "\n",
    "\n",
    "plt.plot(x, y)\n",
    "plt.show()"
   ]
  },
  {
   "cell_type": "markdown",
   "metadata": {},
   "source": [
    "Построим ту же кривую при помощи sklearn"
   ]
  },
  {
   "cell_type": "code",
   "execution_count": null,
   "metadata": {},
   "outputs": [],
   "source": [
    "from sklearn.metrics import precision_recall_curve\n",
    "\n",
    "precision, recall, thresholds = precision_recall_curve(data[\"GT\"], data[\"prob\"])\n",
    "\n",
    "print(thresholds)\n",
    "plt.plot(recall, precision)\n",
    "\n",
    "plt.show()"
   ]
  },
  {
   "cell_type": "markdown",
   "metadata": {},
   "source": [
    "https://scikit-learn.org/stable/auto_examples/model_selection/plot_precision_recall.html#sphx-glr-auto-examples-model-selection-plot-precision-recall-py"
   ]
  },
  {
   "cell_type": "code",
   "execution_count": null,
   "metadata": {},
   "outputs": [],
   "source": [
    "from sklearn.metrics import PrecisionRecallDisplay\n",
    "\n",
    "display = PrecisionRecallDisplay.from_predictions(\n",
    "    data[\"GT\"], data[\"prob\"], name=\"Plane\"\n",
    ")"
   ]
  },
  {
   "cell_type": "code",
   "execution_count": null,
   "metadata": {},
   "outputs": [],
   "source": [
    "from sklearn.metrics import f1_score\n",
    "\n",
    "values, indexes = predictions.max(dim=1)\n",
    "f1_mean = f1_score(labels, indexes, average=\"macro\")\n",
    "\n",
    "f1_mean"
   ]
  },
  {
   "cell_type": "code",
   "execution_count": null,
   "metadata": {},
   "outputs": [],
   "source": [
    "from torch.utils.tensorboard import SummaryWriter\n",
    "\n",
    "writer = SummaryWriter()\n",
    "for class_name in classes:\n",
    "    class_num = classes.index(class_name)\n",
    "    class_prob = probabilities[:, class_num]\n",
    "    class_gt = labels == class_num\n",
    "    writer.add_pr_curve(class_name, class_gt, class_prob)\n",
    "writer.close()"
   ]
  },
  {
   "cell_type": "code",
   "execution_count": null,
   "metadata": {},
   "outputs": [],
   "source": [
    "%load_ext tensorboard\n",
    "%tensorboard --logdir runs"
   ]
  }
 ],
 "metadata": {},
 "nbformat": 4,
 "nbformat_minor": 0
}
