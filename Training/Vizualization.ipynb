{
  "nbformat": 4,
  "nbformat_minor": 0,
  "metadata": {
    "colab": {
      "provenance": []
    },
    "kernelspec": {
      "name": "python3",
      "display_name": "Python 3"
    },
    "language_info": {
      "name": "python"
    }
  },
  "cells": [
    {
      "cell_type": "markdown",
      "source": [
        "Visualization for Pytorch models"
      ],
      "metadata": {
        "id": "DTcud0BC7cPw"
      }
    },
    {
      "cell_type": "markdown",
      "source": [
        "## Pytorch native "
      ],
      "metadata": {
        "id": "9Nu1iyB_7XzE"
      }
    },
    {
      "cell_type": "code",
      "source": [
        "from torchvision.models import resnet18\n",
        "model = resnet18()\n",
        "print(model)"
      ],
      "metadata": {
        "id": "H8lbX0YzTR3d"
      },
      "execution_count": null,
      "outputs": []
    },
    {
      "cell_type": "markdown",
      "source": [
        "## Torch summary"
      ],
      "metadata": {
        "id": "Hwa1x_VPUIuX"
      }
    },
    {
      "cell_type": "code",
      "source": [
        "!pip install torch-summary"
      ],
      "metadata": {
        "id": "D69yX4KMUKnx"
      },
      "execution_count": null,
      "outputs": []
    },
    {
      "cell_type": "code",
      "source": [
        "from torchsummary import summary\n",
        "summary(model, (3, 224 ,224))"
      ],
      "metadata": {
        "id": "h2zLIscMUUUs"
      },
      "execution_count": null,
      "outputs": []
    },
    {
      "cell_type": "markdown",
      "source": [
        "## Torchviz"
      ],
      "metadata": {
        "id": "5Q7NLeED7tWl"
      }
    },
    {
      "cell_type": "code",
      "execution_count": null,
      "metadata": {
        "id": "ey3FqNFrTF5A"
      },
      "outputs": [],
      "source": [
        "!pip install torchviz"
      ]
    },
    {
      "cell_type": "code",
      "source": [
        "import torch \n",
        "from torchviz import make_dot\n",
        "x = torch.randn(1, 3,224,224)\n",
        "y = model(x)\n",
        "\n",
        "make_dot(y.mean(), params=dict(model.named_parameters()))"
      ],
      "metadata": {
        "id": "KZg-BcbyTm31"
      },
      "execution_count": null,
      "outputs": []
    },
    {
      "cell_type": "markdown",
      "source": [
        "Graphviz\n",
        "\n",
        "not for pytorch models, but for abstract graph\n",
        "https://graphviz.org/documentation/"
      ],
      "metadata": {
        "id": "5ng0vld8UAVc"
      }
    },
    {
      "cell_type": "markdown",
      "source": [
        "# Tensorboard\n",
        "\n",
        "https://pytorch.org/docs/stable/tensorboard.html"
      ],
      "metadata": {
        "id": "K0fv2do_UEey"
      }
    },
    {
      "cell_type": "code",
      "source": [
        "from torch.utils.tensorboard import SummaryWriter\n",
        "import torch \n",
        "\n",
        "writer = SummaryWriter()\n",
        "dummy_input = torch.randn(1,3,224,224)\n",
        "writer.add_graph(model, dummy_input)\n",
        "writer.close()"
      ],
      "metadata": {
        "id": "33PaKBEMUG24"
      },
      "execution_count": null,
      "outputs": []
    },
    {
      "cell_type": "code",
      "source": [
        "%load_ext tensorboard\n",
        "%tensorboard --logdir runs"
      ],
      "metadata": {
        "id": "HIVGbm7x63AM"
      },
      "execution_count": null,
      "outputs": []
    },
    {
      "cell_type": "markdown",
      "source": [
        "# Netron\n",
        "https://github.com/lutzroeder/netron"
      ],
      "metadata": {
        "id": "9PQyfKMKU3Ot"
      }
    },
    {
      "cell_type": "code",
      "source": [
        "!pip install netron"
      ],
      "metadata": {
        "id": "gBPKlveAU46R"
      },
      "execution_count": null,
      "outputs": []
    },
    {
      "cell_type": "code",
      "source": [
        "import torch.onnx\n",
        "\n",
        "torch.onnx.export(model,               # model being run\n",
        "                  x,                         # model input (or a tuple for multiple inputs)\n",
        "                  \"model.onnx\",   # where to save the model (can be a file or file-like object)\n",
        "                  export_params=True,        # store the trained parameter weights inside the model file\n",
        "                  opset_version=10,          # the ONNX version to export the model to\n",
        "                  do_constant_folding=True,  # whether to execute constant folding for optimization\n",
        "                  input_names = ['input'],   # the model's input names\n",
        "                  output_names = ['output'], # the model's output names\n",
        "                  dynamic_axes={'input' : {0 : 'batch_size'},    # variable length axes\n",
        "                                'output' : {0 : 'batch_size'}})"
      ],
      "metadata": {
        "id": "WB30R6Q6VMsC"
      },
      "execution_count": null,
      "outputs": []
    },
    {
      "cell_type": "markdown",
      "source": [
        "for local use\n",
        "\n",
        "`!netron model.onnx`\n",
        "\n",
        "And for colab:"
      ],
      "metadata": {
        "id": "FFBkiCPEWH_H"
      }
    },
    {
      "cell_type": "code",
      "source": [
        "import netron\n",
        "import portpicker\n",
        "from google.colab import output\n",
        "\n",
        "port = portpicker.pick_unused_port()\n",
        "\n",
        "# Read the model file and start the netron browser.\n",
        "with output.temporary():\n",
        "  netron.start('model.onnx', port, browse=False)\n",
        "\n",
        "output.serve_kernel_port_as_iframe(port, height='800')"
      ],
      "metadata": {
        "id": "b7A1V4xVVyMV"
      },
      "execution_count": null,
      "outputs": []
    }
  ]
}