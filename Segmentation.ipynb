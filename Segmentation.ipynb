{
 "cells": [
  {
   "cell_type": "code",
   "execution_count": null,
   "metadata": {},
   "outputs": [],
   "source": [
    "!pip install segmentation-models-pytorch"
   ]
  },
  {
   "cell_type": "code",
   "execution_count": null,
   "metadata": {},
   "outputs": [],
   "source": [
    "import segmentation_models_pytorch as smp\n",
    "from segmentation_models_pytorch.encoders import get_preprocessing_fn\n",
    "import torch\n",
    "\n",
    "# 'mit_b0' Mix Vision Transformer Backbone from SegFormer pretrained on Imagenet\n",
    "preprocess_input = get_preprocessing_fn('mit_b0', pretrained='imagenet')\n",
    "\n",
    "# MixVisionTransformer encoder does not support in_channels setting other than 3\n",
    "#  supported by FPN only for encoder depth = 5\n",
    "model = smp.FPN('mit_b0', in_channels=3, classes = 10, encoder_depth = 5) \n",
    "\n",
    "# ... Train model on your dataset\n",
    "\n",
    "mask = model(torch.randn([1, 3, 64, 64]))\n",
    "print(mask.shape) # torch.Size([1, 1, 64, 64])"
   ]
  },
  {
   "cell_type": "markdown",
   "metadata": {},
   "source": [
    "Train"
   ]
  },
  {
   "cell_type": "code",
   "execution_count": null,
   "metadata": {},
   "outputs": [],
   "source": [
    "from torch.nn import CrossEntropyLoss, BCEWithLogitsLoss\n",
    "\n",
    "dice_loss = smp.losses.DiceLoss(smp.losses.BINARY_MODE, from_logits=True)\n",
    "iou_loss = smp.losses.JaccardLoss(smp.losses.BINARY_MODE, from_logits=True)\n",
    "bce_loss = BCEWithLogitsLoss()\n",
    "\n",
    "gt = torch.randint_like(mask,0,2)\n",
    "print(mask.shape,gt.shape)\n",
    "print(\"BCE Loss\",bce_loss(mask,gt))\n",
    "print(\"DICE Loss\",dice_loss(mask,gt))\n",
    "print(\"IoU Loss\",iou_loss(mask,gt))"
   ]
  },
  {
   "cell_type": "code",
   "execution_count": null,
   "metadata": {},
   "outputs": [],
   "source": [
    "ce_loss = CrossEntropyLoss()\n",
    "\n",
    "gt2, _ = gt.max(dim = 1) \n",
    "gt2 = gt2.long() \n",
    "print(\"Mask :\",mask.shape,\"GT for CE loss\",gt2.shape) # 4d vs 3d !\n",
    "print(\"CE\",ce_loss(mask,gt2))"
   ]
  }
 ],
 "metadata": {},
 "nbformat": 4,
 "nbformat_minor": 0
}
