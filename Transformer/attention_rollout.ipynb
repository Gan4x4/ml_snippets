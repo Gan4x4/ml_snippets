{
  "nbformat": 4,
  "nbformat_minor": 0,
  "metadata": {
    "colab": {
      "provenance": [],
      "toc_visible": true
    },
    "kernelspec": {
      "name": "python3",
      "display_name": "Python 3"
    },
    "language_info": {
      "name": "python"
    }
  },
  "cells": [
    {
      "cell_type": "markdown",
      "metadata": {
        "id": "R437ysKgzXtA"
      },
      "source": [
        "# Методы, специфичные для трансформеров"
      ]
    },
    {
      "cell_type": "markdown",
      "metadata": {
        "id": "9_IGUKRhzXtA"
      },
      "source": [
        "В трансформерах есть механизм **self-attention**, который кажется естественным способом определить, какие токены текста/кусочки изображения имеют большую важность для предсказания."
      ]
    },
    {
      "cell_type": "markdown",
      "metadata": {
        "id": "3J3vEMbOzXtA"
      },
      "source": [
        "<center><img src =\"https://edunet.kea.su/repo/EduNet-web_dependencies/dev-2.1/L14/self_attention.png\"  width=\"900\"></center>"
      ]
    },
    {
      "cell_type": "markdown",
      "metadata": {
        "id": "uSC5fo-ozXtB"
      },
      "source": [
        "Это бы отлично работало, будь у нас только один блок **self-attention**, но архитектура трансформера состоит из **нескольких блоков кодера/декодера**, расположенных друг за другом. От слоя к слою за счет того же **self-attention** **информация в эмбеддингах перемешивается** сильнее и сильнее. Так, например, для классификации текста мы можем использовать эмбеддинг на выходе **BERT**, соответствующий `[CLS]` токену, в котором на входе **BERT** не было никакой информации о последующем тексте."
      ]
    },
    {
      "cell_type": "markdown",
      "metadata": {
        "id": "biqSMdWxzXtB"
      },
      "source": [
        "<center><img src =\"https://edunet.kea.su/repo/EduNet-web_dependencies/dev-2.1/L14/transformer_text_translation_example.png\" width=\"800\"></center>\n",
        "\n",
        "<center><em>Source: <a href=\"https://jalammar.github.io/illustrated-bert/\">The Illustrated BERT, ELMo, and co. (How NLP Cracked Transfer Learning)</a></em></center>"
      ]
    },
    {
      "cell_type": "markdown",
      "metadata": {
        "id": "QW5jtqH5zXtB"
      },
      "source": [
        "Кроме того, в стандартном блоке трансформера есть **residual соединения**. Из-за этого информация о токенах/патчах проходит не только через **attention**, но и через **residual соединения**."
      ]
    },
    {
      "cell_type": "markdown",
      "metadata": {
        "id": "dRlLn4FAzXtB"
      },
      "source": [
        "<center><img src =\"https://edunet.kea.su/repo/EduNet-content/dev-2.1/L14/out/transformer_architecture.png\" width=\"450\"></center>\n",
        "\n",
        "<center><em>Архитектура трансформера</em></center>\n",
        "\n",
        "<center><em>Source: <a href=\"https://arxiv.org/pdf/1706.03762.pdf\"> Attention Is All You Need</a></em></center>"
      ]
    },
    {
      "cell_type": "markdown",
      "metadata": {
        "id": "y5naEvAlzXtB"
      },
      "source": [
        "По этим причинам объяснение работы трансформера через attention — непростая задача.\n",
        "\n",
        "**Предупреждение:** методы объяснения **attention** только частично объясняют работу трансформера, они  разнообразны и могут давать противоречивые результаты.\n",
        "\n",
        "Давайте для начала немного поизучаем, как выглядят значения self-attention в трансформерах. Подгружаем библиотеку."
      ]
    },
    {
      "cell_type": "code",
      "execution_count": null,
      "metadata": {
        "id": "BZB0Vy_rzXtB"
      },
      "outputs": [],
      "source": [
        "!pip install -q transformers[sentencepiece]"
      ]
    },
    {
      "cell_type": "markdown",
      "metadata": {
        "id": "ONKLgx6ozXtB"
      },
      "source": [
        "Возьмем базовый русскоязычный разговорный [BERT от Deep Pavlov 🛠️[doc]](https://huggingface.co/DeepPavlov/rubert-base-cased-conversational), [обученный 🛠️[doc]](https://huggingface.co/blanchefort/rubert-base-cased-sentiment) для определения эмоциональной окраски коротких русских текстов. Загружаем токенизатор и модель. Ставим флаг `output_attentions=True`, чтобы модель возвращала значения attention."
      ]
    },
    {
      "cell_type": "code",
      "execution_count": null,
      "metadata": {
        "id": "eNfZ_RjlzXtB"
      },
      "outputs": [],
      "source": [
        "import transformers\n",
        "from transformers import BertTokenizerFast, AutoModelForSequenceClassification\n",
        "from IPython.display import clear_output\n",
        "\n",
        "tokenizer = BertTokenizerFast.from_pretrained(\n",
        "    \"blanchefort/rubert-base-cased-sentiment\",\n",
        ")\n",
        "model = AutoModelForSequenceClassification.from_pretrained(\n",
        "    \"blanchefort/rubert-base-cased-sentiment\",\n",
        "    output_attentions=True,  # for save attention\n",
        ")\n",
        "clear_output()"
      ]
    },
    {
      "cell_type": "markdown",
      "metadata": {
        "id": "7G1aHgz1zXtB"
      },
      "source": [
        "Готовим предложения."
      ]
    },
    {
      "cell_type": "code",
      "execution_count": null,
      "metadata": {
        "id": "f5oYRCqazXtB"
      },
      "outputs": [],
      "source": [
        "sentences = [\n",
        "    \"Мама мыла раму\",\n",
        "    \"Фильм сделан откровенно плохо\",\n",
        "    \"Максимально скучный сериал, где сюжет высосан из пальца\",\n",
        "    \"Я был в восторге\",\n",
        "    \"В общем, кино хорошее и есть много что пообсуждать\",\n",
        "]\n",
        "\n",
        "tokens = [\n",
        "    [\"[cls]\"] + tokenizer.tokenize(sentence) + [\"[sep]\"] for sentence in sentences\n",
        "]"
      ]
    },
    {
      "cell_type": "markdown",
      "metadata": {
        "id": "RqMMrnj-zXtB"
      },
      "source": [
        "Посмотрим, как разбивается на токены предложение. На выходе токенизатора номера токенов."
      ]
    },
    {
      "cell_type": "code",
      "execution_count": null,
      "metadata": {
        "id": "r_2foaCNzXtC"
      },
      "outputs": [],
      "source": [
        "item = 0\n",
        "print(f\"Tokens: {tokens[item]}\")\n",
        "token_ids = [tokenizer.encode(sentence) for sentence in sentences]\n",
        "print(f\"Token ids: {token_ids[item]}\")"
      ]
    },
    {
      "cell_type": "markdown",
      "metadata": {
        "id": "fZAhD0BIzXtC"
      },
      "source": [
        "Посмотрим на предсказания модели, чтобы проверить, насколько она адекватна."
      ]
    },
    {
      "cell_type": "code",
      "execution_count": null,
      "metadata": {
        "id": "Sutw_ktKzXtC"
      },
      "outputs": [],
      "source": [
        "import torch\n",
        "\n",
        "\n",
        "ans = {0: \"NEUTRAL\", 1: \"POSITIVE\", 2: \"NEGATIVE\"}\n",
        "\n",
        "for item in range(5):\n",
        "    input_ids = torch.tensor([token_ids[item]])\n",
        "    model_output = model(input_ids)\n",
        "    predicted = torch.argmax(model_output.logits, dim=1).numpy()\n",
        "    print(f\"Text: {sentences[item]}\")\n",
        "    print(f\"Predict lable = {predicted}, {ans[predicted.item()]}\")"
      ]
    },
    {
      "cell_type": "markdown",
      "metadata": {
        "id": "3tXwtSm2zXtC"
      },
      "source": [
        "В данной модели 12 слоев (блоков трансформеров), поэтому модель возвращает кортеж из 12 тензоров. Каждый слой имеет 12 голов self-attention."
      ]
    },
    {
      "cell_type": "code",
      "execution_count": null,
      "metadata": {
        "id": "ixbpxeWdzXtC"
      },
      "outputs": [],
      "source": [
        "item = 1\n",
        "input_ids = torch.tensor([token_ids[item]])\n",
        "model_output = model(input_ids)\n",
        "\n",
        "attentions = model_output.attentions\n",
        "print(f\"Text: {sentences[item]}\")\n",
        "print(f\"Tokens: {tokens[item]}\")\n",
        "print(f\"Number of layers: {len(attentions)}\")\n",
        "print(\n",
        "    f\"Attention size: {attentions[0].shape} \"\n",
        "    \"[batch x attention_heads x seq_size x seq_size]\"\n",
        ")"
      ]
    },
    {
      "cell_type": "markdown",
      "metadata": {
        "id": "25cprXKDzXtC"
      },
      "source": [
        "Преобразуем в однородный массив для удобства манипуляций.\n",
        "\n",
        "Код этой части лекции основана на:\n",
        "* [[git] 🐾 Attention flow](https://github.com/samiraabnar/attention_flow),\n",
        "* [[arxiv] 🎓 Quantifying Attention Flow in Transformers (Abnar, Zuidema, 2020)](https://arxiv.org/pdf/2005.00928.pdf).\n"
      ]
    },
    {
      "cell_type": "code",
      "execution_count": null,
      "metadata": {
        "id": "9WAkOnmVzXtC"
      },
      "outputs": [],
      "source": [
        "import numpy as np\n",
        "\n",
        "\n",
        "def to_array(attentions):\n",
        "    attentions_arr = [attention.detach().numpy() for attention in attentions]\n",
        "    return np.asarray(attentions_arr)[:, 0]\n",
        "\n",
        "\n",
        "attentions_arr = to_array(attentions)\n",
        "print(\n",
        "    f\"Shape: {attentions_arr.shape} \" \"[layers x attention_heads x seq_size x seq_size]\"\n",
        ")\n",
        "print(f\"Type: {type(attentions_arr)}, Dtype: {attentions_arr.dtype}\")"
      ]
    },
    {
      "cell_type": "markdown",
      "metadata": {
        "id": "tKQ9hExizXtC"
      },
      "source": [
        "Посмотрим на **нулевую голову нулевого слоя**"
      ]
    },
    {
      "cell_type": "code",
      "execution_count": null,
      "metadata": {
        "id": "EJlD47STzXtC"
      },
      "outputs": [],
      "source": [
        "import seaborn as sns\n",
        "import matplotlib.pyplot as plt\n",
        "\n",
        "x_ticks = tokens[item]\n",
        "y_ticks = tokens[item]\n",
        "\n",
        "sns.heatmap(\n",
        "    data=attentions_arr[0][0],\n",
        "    vmin=0,\n",
        "    vmax=1,\n",
        "    xticklabels=x_ticks,\n",
        "    yticklabels=y_ticks,\n",
        "    cmap=\"YlOrRd\",\n",
        ")\n",
        "\n",
        "plt.show()"
      ]
    },
    {
      "cell_type": "markdown",
      "metadata": {
        "id": "txyFw5ozzXtD"
      },
      "source": [
        "Тут по **оси x** — токены, **на** которые смотрит внимание, по **оси y** — токены, **куда** записывается результат прохождения слоя.\n",
        "\n",
        "Так для слова “плохо” первая голова внимания первого слоя больше всего смотрит на слова “фильм” и “ откровенно”."
      ]
    },
    {
      "cell_type": "markdown",
      "metadata": {
        "id": "1T7jtnjYzXtD"
      },
      "source": [
        "Для визуализации внимания можно использовать библиотеку [BertViz 🛠️[doc]](https://pypi.org/project/bertviz/):\n",
        "* [[arxiv] 🎓 Visualizing Attention in Transformer-Based Language Representation Models (Vig, 2019)](https://arxiv.org/pdf/1904.02679.pdf),\n",
        "* [[colab] 🥨 BertViz Interactive Tutorial](https://colab.research.google.com/drive/1hXIQ77A4TYS4y3UthWF-Ci7V7vVUoxmQ?usp=sharing)."
      ]
    },
    {
      "cell_type": "code",
      "execution_count": null,
      "metadata": {
        "id": "SqKeBR-pzXtD"
      },
      "outputs": [],
      "source": [
        "!pip install -q bertviz"
      ]
    },
    {
      "cell_type": "markdown",
      "metadata": {
        "id": "ZEE_yxvczXtD"
      },
      "source": [
        "Тут Layer — это выбор слоя, цвета — головы self-attention, слева — куда записывается, справа — на какие токены смотрит. Яркость соединяющих линий — величина attention (чем ярче, тем больше). Картину, аналогичную картине выше, можно получить, *дважды щелкнув на первый синий квадрат*."
      ]
    },
    {
      "cell_type": "code",
      "execution_count": null,
      "metadata": {
        "id": "FqdzsowizXtD"
      },
      "outputs": [],
      "source": [
        "import bertviz\n",
        "from bertviz import head_view\n",
        "\n",
        "head_view(model_output.attentions, tokens[item])"
      ]
    },
    {
      "cell_type": "markdown",
      "metadata": {
        "id": "dh6zHq-pzXtD"
      },
      "source": [
        "Усредним значения по головам:"
      ]
    },
    {
      "cell_type": "code",
      "execution_count": null,
      "metadata": {
        "id": "-6_fZiYMzXtD"
      },
      "outputs": [],
      "source": [
        "attention_head_mean = attentions_arr.mean(axis=1)\n",
        "print(f\"{attention_head_mean.shape} [layers x seq_size x seq_size]\")"
      ]
    },
    {
      "cell_type": "markdown",
      "metadata": {
        "id": "-lRC4jdYzXtD"
      },
      "source": [
        "Посмотрим на усредненное по головам внимание **на первом слое**:"
      ]
    },
    {
      "cell_type": "code",
      "execution_count": null,
      "metadata": {
        "id": "31BVgKrRzXtD"
      },
      "outputs": [],
      "source": [
        "x_ticks = tokens[item]\n",
        "y_ticks = tokens[item]\n",
        "\n",
        "sns.heatmap(\n",
        "    data=attention_head_mean[0],\n",
        "    vmin=0,\n",
        "    vmax=1,\n",
        "    xticklabels=x_ticks,\n",
        "    yticklabels=y_ticks,\n",
        "    cmap=\"YlOrRd\",\n",
        ")\n",
        "\n",
        "plt.show()"
      ]
    },
    {
      "cell_type": "markdown",
      "metadata": {
        "id": "3Td7GystzXtE"
      },
      "source": [
        "И на **последнем слое**:"
      ]
    },
    {
      "cell_type": "code",
      "execution_count": null,
      "metadata": {
        "id": "flcANcLrzXtE"
      },
      "outputs": [],
      "source": [
        "x_ticks = tokens[item]\n",
        "y_ticks = tokens[item]\n",
        "\n",
        "sns.heatmap(\n",
        "    data=attention_head_mean[-1],\n",
        "    vmin=0,\n",
        "    vmax=1,\n",
        "    xticklabels=x_ticks,\n",
        "    yticklabels=y_ticks,\n",
        "    cmap=\"YlOrRd\",\n",
        ")\n",
        "\n",
        "plt.show()"
      ]
    },
    {
      "cell_type": "markdown",
      "metadata": {
        "id": "qk2DasfzzXtE"
      },
      "source": [
        "Видно, что на последнем слое внимание распределено между токенами практически равномерно."
      ]
    },
    {
      "cell_type": "markdown",
      "metadata": {
        "id": "N2mmzCghzXtE"
      },
      "source": [
        "Посмотрим на **значения внимания для записываемого в эмбеддинг [CLS] токена** (эмбеддинг с него используется для классификации)."
      ]
    },
    {
      "cell_type": "code",
      "execution_count": null,
      "metadata": {
        "id": "ZXOojn5CzXtE"
      },
      "outputs": [],
      "source": [
        "x_ticks = tokens[item][1:-1]\n",
        "y_ticks = [i for i in range(12, 0, -1)]\n",
        "\n",
        "sns.heatmap(\n",
        "    data=np.flip(attention_head_mean[:, 0, 1:-1], axis=0),\n",
        "    xticklabels=x_ticks,\n",
        "    yticklabels=y_ticks,\n",
        "    cmap=\"YlOrRd\",\n",
        ")\n",
        "\n",
        "plt.show()"
      ]
    },
    {
      "cell_type": "markdown",
      "metadata": {
        "id": "pqedFztkzXtE"
      },
      "source": [
        "Видно, что после 6-го слоя значения внимания выравниваются. Это связано с тем, что механизм **self-attention** смешивает информацию о токенах."
      ]
    },
    {
      "cell_type": "markdown",
      "metadata": {
        "id": "YQNPxsb9zXtE"
      },
      "source": [
        "<font size=\"5\">Residual connection</font>"
      ]
    },
    {
      "cell_type": "markdown",
      "metadata": {
        "id": "YHayfdx4zXtE"
      },
      "source": [
        "Давайте сначала определимся, что делать с **residual соединениями**."
      ]
    },
    {
      "cell_type": "markdown",
      "metadata": {
        "id": "59XZb_67zXtE"
      },
      "source": [
        "**Residual соединение** можно записать как\n",
        "\n",
        "$$ \\large V_{l+1} = V_l + W_{att}V_l,$$\n",
        "\n",
        "где $W_{att}$ — матрица внимания, а $V_l$ — эмбеддинги.\n",
        "\n",
        "После нормализации это можно переписать как\n",
        "\n",
        "$$\\large A=0.5W_{att}+0.5I,$$\n",
        "\n",
        "где $I$ — единичная матрица.\n",
        "\n",
        "[[arxiv] 🎓 Quantifying Attention Flow in Transformers (Abnar, Zuidema, 2020)](https://arxiv.org/pdf/2005.00928.pdf)"
      ]
    },
    {
      "cell_type": "code",
      "execution_count": null,
      "metadata": {
        "id": "B1cSBMz2zXtF"
      },
      "outputs": [],
      "source": [
        "def residual(attention_head_mean):\n",
        "    attention_residual = (\n",
        "        0.5 * attention_head_mean\n",
        "        + 0.5 * np.eye(attention_head_mean.shape[1])[None, ...]\n",
        "    )\n",
        "    return attention_residual\n",
        "\n",
        "\n",
        "attention_res = residual(attention_head_mean)\n",
        "\n",
        "x_ticks = tokens[item][1:-1]\n",
        "y_ticks = [i for i in range(12, 0, -1)]\n",
        "\n",
        "sns.heatmap(\n",
        "    data=np.flip(attention_res[:, 0, 1:-1], axis=0),\n",
        "    xticklabels=x_ticks,\n",
        "    yticklabels=y_ticks,\n",
        "    cmap=\"YlOrRd\",\n",
        ")\n",
        "\n",
        "plt.show()"
      ]
    },
    {
      "cell_type": "markdown",
      "metadata": {
        "id": "Ivkg_Y5RzXtF"
      },
      "source": [
        "## Attention rollout\n",
        "“Разворачивание внимания” (**Attention rollout**) — предложенный в [статье 🎓[arxiv]](https://arxiv.org/pdf/2005.00928.pdf) способ отслеживания информации, распространяемой от входного к выходному блоку, в котором значение внимания рассматривается как доля пропускаемой информации.  Доли информации перемножаются и суммируются. Итоговая формула — рекурсивное матричное перемножение.\n",
        "\n",
        "\\begin{align}\n",
        "\\widetilde{A}(l_i) = \\left\\{\n",
        "\\begin{array}{cl}\n",
        "A(l_i)\\widetilde{A}(l_{i-1}) & i>0 \\\\\n",
        "A(l_i) & i = 0.\n",
        "\\end{array}\n",
        "\\right.\n",
        "\\end{align}\n",
        "\n"
      ]
    },
    {
      "cell_type": "code",
      "execution_count": null,
      "metadata": {
        "id": "aeTtwz4vzXtF"
      },
      "outputs": [],
      "source": [
        "def rollout(attention_res):\n",
        "    rollout_attention = np.zeros(attention_res.shape)\n",
        "    rollout_attention[0] = attention_res[0]\n",
        "    n_layers = attention_res.shape[0]\n",
        "    for i in range(1, n_layers):\n",
        "        rollout_attention[i] = attention_res[i].dot(rollout_attention[i - 1])\n",
        "    return rollout_attention"
      ]
    },
    {
      "cell_type": "code",
      "execution_count": null,
      "metadata": {
        "id": "tk1RKnqBzXtF"
      },
      "outputs": [],
      "source": [
        "rollout_attention = rollout(attention_res)"
      ]
    },
    {
      "cell_type": "code",
      "execution_count": null,
      "metadata": {
        "id": "o_QOpZyPzXtF"
      },
      "outputs": [],
      "source": [
        "x_ticks = tokens[item][1:-1]\n",
        "y_ticks = [i for i in range(12, 0, -1)]\n",
        "\n",
        "sns.heatmap(\n",
        "    data=np.flip(rollout_attention[:, 0, 1:-1], axis=0),\n",
        "    xticklabels=x_ticks,\n",
        "    yticklabels=y_ticks,\n",
        "    cmap=\"YlOrRd\",\n",
        ")\n",
        "\n",
        "plt.show()"
      ]
    },
    {
      "cell_type": "markdown",
      "metadata": {
        "id": "LEuwtuJUzXtF"
      },
      "source": [
        "Реализации от HuggingFace:\n",
        "* [[git] 🐾 Для ViT и картинок](https://huggingface.co/spaces/probing-vits/attention-rollout/tree/main)\n",
        "* [[git] 🐾 На PyTorch Rollout для BERT и некоторых других методов](https://huggingface.co/spaces/amsterdamNLP/attention-rollout/tree/main)\n",
        "* [[demo] 🎮 Attention Rollout — RoBERTa](https://huggingface.co/spaces/amsterdamNLP/attention-rollout)"
      ]
    },
    {
      "cell_type": "markdown",
      "metadata": {
        "id": "rNdYoPX_zXtF"
      },
      "source": [
        "## Attention Flow"
      ]
    },
    {
      "cell_type": "markdown",
      "metadata": {
        "id": "MLPFfF9RzXtF"
      },
      "source": [
        "Другим вариантом рассмотрения распространения внимания является **attention flow**. В нем трансформер представляют в виде направленного графа, **узлы** которого представляют собой **эмбеддинги** между слоями, а **ребра** — связи в виде **attention** с ограниченной емкостью (передающей способностью)."
      ]
    },
    {
      "cell_type": "markdown",
      "metadata": {
        "id": "qerQt9FqzXtG"
      },
      "source": [
        "<center><img src =\"https://edunet.kea.su/repo/EduNet-web_dependencies/dev-2.1/L14/attention_flow.png\" width=\"700\">\n",
        "\n",
        "<em>Source: <a href=\"https://github.com/samiraabnar/attention_flow/blob/master/bert_example.ipynb\">Bert Example\n",
        "</a></em></center>"
      ]
    },
    {
      "cell_type": "markdown",
      "metadata": {
        "id": "5Bll_a64zXtG"
      },
      "source": [
        "В такой постановке задача нахождения роли токенов/частей изображения в результирующем эмбеддинге сводится к [задаче о максимальном потоке 📚[wiki]](https://ru.wikipedia.org/wiki/%D0%97%D0%B0%D0%B4%D0%B0%D1%87%D0%B0_%D0%BE_%D0%BC%D0%B0%D0%BA%D1%81%D0%B8%D0%BC%D0%B0%D0%BB%D1%8C%D0%BD%D0%BE%D0%BC_%D0%BF%D0%BE%D1%82%D0%BE%D0%BA%D0%B5) (задача нахождения такого потока по транспортной сети, что сумма потоков в пункт назначения была максимальна). Это известная алгоритмическая задача, которую мы не будем разбирать в рамках этого курса.\n",
        "\n",
        "* [[git] 🐾 Attention flow](https://github.com/samiraabnar/attention_flow)\n",
        "* [[arxiv] 🎓 Quantifying Attention Flow in Transformers (Abnar, Zuidema, 2020)](https://arxiv.org/pdf/2005.00928.pdf)\n",
        "\n"
      ]
    },
    {
      "cell_type": "markdown",
      "metadata": {
        "id": "aActgHQwzXtG"
      },
      "source": [
        "## Gradient-weighted Attention Rollout"
      ]
    },
    {
      "cell_type": "markdown",
      "metadata": {
        "id": "kRATmUr2zXtG"
      },
      "source": [
        "Метод, объединяющий GradCam и Attention Rollout, позволяет оценить положительный и отрицательный вклад токенов / частей изображения в итоговый результат.\n",
        "* [[article] 🎓 Transformer Interpretability Beyond Attention Visualization (Chefer et.al., 2021)](https://openaccess.thecvf.com/content/CVPR2021/papers/Chefer_Transformer_Interpretability_Beyond_Attention_Visualization_CVPR_2021_paper.pdf)\n",
        "* [[git] 🐾 Attention Rollout](https://huggingface.co/spaces/amsterdamNLP/attention-rollout/tree/main)\n",
        "* [[demo] 🎮 Attention Rollout — RoBERTa](https://huggingface.co/spaces/amsterdamNLP/attention-rollout)\n",
        "\n",
        "Методы, основанные на механизме внимания, только частично объясняют работу трансформера и на сегодняшний день не являются надежным методом оценки важности признаков."
      ]
    }
  ]
}