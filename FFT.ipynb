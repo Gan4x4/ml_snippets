{
 "cells": [
  {
   "cell_type": "markdown",
   "metadata": {},
   "source": [
    "## Convolution can be expressed through FT"
   ]
  },
  {
   "cell_type": "code",
   "execution_count": null,
   "metadata": {},
   "outputs": [],
   "source": [
    "import numpy as np\n",
    "\n",
    "a = np.random.random(100000)\n",
    "b = np.random.random(100000)\n"
   ]
  },
  {
   "cell_type": "code",
   "execution_count": null,
   "metadata": {},
   "outputs": [],
   "source": [
    "%%time\n",
    "c = np.convolve(a,b)\n",
    "print(c)"
   ]
  },
  {
   "cell_type": "code",
   "execution_count": null,
   "metadata": {},
   "outputs": [],
   "source": [
    "%%time\n",
    "from scipy.signal import fftconvolve\n",
    "\n",
    "d = fftconvolve(a,b)"
   ]
  },
  {
   "cell_type": "code",
   "execution_count": null,
   "metadata": {},
   "outputs": [],
   "source": [
    "print(np.allclose(c,d))"
   ]
  },
  {
   "cell_type": "code",
   "execution_count": null,
   "metadata": {},
   "outputs": [],
   "source": [
    "from torch.nn import Conv1d\n",
    "\n"
   ]
  },
  {
   "cell_type": "markdown",
   "metadata": {},
   "source": [
    "#How to represent function by sums of another functions?"
   ]
  },
  {
   "cell_type": "markdown",
   "metadata": {},
   "source": [
    "Let's create a set of random point"
   ]
  },
  {
   "cell_type": "code",
   "execution_count": null,
   "metadata": {},
   "outputs": [],
   "source": [
    "import matplotlib.pyplot as plt\n",
    "import numpy as np\n",
    "\n",
    "y = np.random.randint(0,10,6)\n",
    "x = np.array(list(range(0,len(y))))\n",
    "\n",
    "\n",
    "plt.plot(x,y)\n",
    "plt.show()\n",
    "print(x.shape)\n"
   ]
  },
  {
   "cell_type": "markdown",
   "metadata": {},
   "source": [
    "Approximate by sum of polynoms\n",
    "\n",
    "Given set of points (x,y)\n",
    "we can find the function passing through them as sum of nolynoms:\n",
    "\n",
    "$ f(x) = k_0 + k_1x^1 + k_2x^2 + .. +k_9x^9$\n",
    "\n",
    "[numpy.polyfit](https://numpy.org/doc/stable/reference/generated/numpy.polyfit.html) return coefficients in reverse order:\n",
    "\n",
    "`p(x) = p[0] * x**deg + ... + p[deg] `\n"
   ]
  },
  {
   "cell_type": "code",
   "execution_count": null,
   "metadata": {},
   "outputs": [],
   "source": [
    "p  = np.polyfit(x, y, deg =len(x)) #,  rcond=None, full=False, w=None, cov=False)\n",
    "print(\"Coefficients\",p)\n"
   ]
  },
  {
   "cell_type": "markdown",
   "metadata": {},
   "source": [
    "because polyfit return coefficient in reverse order we flip it back\n",
    "\n"
   ]
  },
  {
   "cell_type": "code",
   "execution_count": null,
   "metadata": {},
   "outputs": [],
   "source": [
    "p = np.flip(p)\n",
    "print(\"Reversed p from 0 to max degree\",p)\n",
    "\n",
    "p_count = len(p)\n",
    "degrees = list(range(p_count))\n",
    "print(list(zip(degrees,p)))\n"
   ]
  },
  {
   "cell_type": "markdown",
   "metadata": {},
   "source": [
    "Plot the curve for each term"
   ]
  },
  {
   "cell_type": "code",
   "execution_count": null,
   "metadata": {},
   "outputs": [],
   "source": [
    "%matplotlib inline\n",
    "\n",
    "fig = plt.figure(figsize=(20,4))\n",
    "tx = np.arange(-2,12,0.1)\n",
    "cummulative = np.zeros(tx.shape)\n",
    "\n",
    "for i, deg in enumerate(degrees):\n",
    "  plt.subplot(2, p_count, i+1)\n",
    "  plt.gca().set_title(f\"{p[i]:.3f}*x^{deg}\")\n",
    "  ty = p[i]*tx**(deg) # polynom of degree\n",
    "  plt.plot(tx,ty)\n",
    "\n",
    "\n",
    "  plt.subplot(2, p_count, p_count + (i+1), ylim = (-2,12))\n",
    "  cummulative +=ty # sum of polynoms\n",
    "  plt.scatter(x,y) # original points\n",
    "  plt.plot(tx,cummulative, color=\"orange\")\n",
    "\n",
    "plt.show()"
   ]
  },
  {
   "cell_type": "markdown",
   "metadata": {},
   "source": [
    "We can replace polynoms by periodic functions"
   ]
  },
  {
   "cell_type": "code",
   "execution_count": null,
   "metadata": {},
   "outputs": [],
   "source": [
    "from scipy.fftpack import fft, ifft\n",
    "\n",
    "k = fft(x)\n",
    "print(\"Complex value coefficients\", p)\n",
    "#plt.plot()\n",
    "print(p[0])"
   ]
  },
  {
   "cell_type": "code",
   "execution_count": null,
   "metadata": {},
   "outputs": [],
   "source": [
    "fig = plt.figure(figsize=(20,4))\n",
    "tx = np.arange(-2,12,0.1)\n",
    "cummulative = np.zeros(tx.shape)\n",
    "\n",
    "for i  in range(len(k)):\n",
    "  plt.subplot(1, len(k), i+1)\n",
    "  plt.gca().set_title(f\"{k[i]:.3f}\")\n",
    "  #ty = p[i]*tx**(deg) # polynom of degree\n",
    "  ty = tx * np.exp(-2j * np.pi * k[i] * tx)\n",
    "  plt.plot(tx,ty)\n",
    "\n",
    "\n",
    "\n",
    "\n",
    "\n"
   ]
  },
  {
   "cell_type": "code",
   "execution_count": null,
   "metadata": {},
   "outputs": [],
   "source": [
    "\n",
    "print(coeff)\n",
    "p = np.poly1d(coeff)\n",
    "#print(approximation.shape)\n",
    "y_app = p(x)\n",
    "#print(y_app)\n",
    "\n",
    "plt.plot(x,y)\n",
    "plt.plot(x,y_app)\n",
    "for i, c in enumerate(p.c):\n",
    "  tx = np.arange(-10,10,0.1)\n",
    "  ty = c*tx**(i)\n",
    "  plt.plot(tx,ty)\n",
    "\n",
    "plt.xlim([-10, len(x)-1])\n",
    "plt.ylim([-10, max(y)+1])\n",
    "plt.show()\n"
   ]
  },
  {
   "cell_type": "markdown",
   "metadata": {},
   "source": [
    "approximate by sum of sine waves\n",
    "https://pythonnumericalmethods.berkeley.edu/notebooks/chapter24.04-FFT-in-Python.html\n",
    "https://math.stackexchange.com/questions/690530/approximate-a-polynomial-function-using-a-sum-of-sine-waves"
   ]
  },
  {
   "cell_type": "code",
   "execution_count": null,
   "metadata": {},
   "outputs": [],
   "source": [
    "from scipy.fftpack import fft, ifft\n",
    "\n",
    "f = fft(x)\n",
    "plt.plot()\n",
    "\n",
    "print(f.shape,f)"
   ]
  },
  {
   "cell_type": "markdown",
   "metadata": {},
   "source": [
    "http://en.wikipedia.org/wiki/Discrete_cosine_transform"
   ]
  },
  {
   "cell_type": "code",
   "execution_count": null,
   "metadata": {},
   "outputs": [],
   "source": []
  },
  {
   "cell_type": "markdown",
   "metadata": {},
   "source": [
    "https://numpy.org/doc/stable/reference/generated/numpy.polynomial.polynomial.Polynomial.fit.html#numpy.polynomial.polynomial.Polynomial.fit"
   ]
  },
  {
   "cell_type": "code",
   "execution_count": null,
   "metadata": {},
   "outputs": [],
   "source": []
  },
  {
   "cell_type": "markdown",
   "metadata": {},
   "source": [
    "Fourier Transform\n",
    "\n",
    "https://www.reg.ru/blog/svyortka-v-deep-learning-prostymi-slovami/"
   ]
  }
 ],
 "metadata": {},
 "nbformat": 4,
 "nbformat_minor": 0
}
