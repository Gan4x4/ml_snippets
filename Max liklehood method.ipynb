{
 "cells": [
  {
   "cell_type": "markdown",
   "metadata": {},
   "source": [
    "[Наиболее понятное описание](http://www.machinelearning.ru/wiki/index.php?title=%D0%9C%D0%B5%D1%82%D0%BE%D0%B4_%D0%BC%D0%B0%D0%BA%D1%81%D0%B8%D0%BC%D0%B0%D0%BB%D1%8C%D0%BD%D0%BE%D0%B3%D0%BE_%D0%BF%D1%80%D0%B0%D0%B2%D0%B4%D0%BE%D0%BF%D0%BE%D0%B4%D0%BE%D0%B1%D0%B8%D1%8F)\n",
    "\n",
    "\n",
    "\n",
    "1. Есть датасет X = x1 ...xn, Yt = y_t1...y_tn\n",
    "\n",
    "2. Есть неколько модель m которая получив на вход данные X выдаст предсказания y_m1, ... ymn\n",
    "\n",
    "3.  Как оценить эту модель?\n",
    "\n",
    "Можно сравнить все ym c yt\n",
    "Для этого можно оценить **совместную вероятность** того что все выходы модели ym окажуться на своих местах\n",
    "\n",
    "p(y_m1|x1)*p(y_m2|x2) * .. * p(y_mn|xn)\n",
    "\n",
    "Вопрос откуда беруться эти вероятности? Это выходы softmaх для верных классов?\n",
    "\n",
    "\n"
   ]
  },
  {
   "cell_type": "code",
   "execution_count": null,
   "metadata": {},
   "outputs": [],
   "source": []
  }
 ],
 "metadata": {},
 "nbformat": 4,
 "nbformat_minor": 0
}
