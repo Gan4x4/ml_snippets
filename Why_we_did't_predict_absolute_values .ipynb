{
  "nbformat": 4,
  "nbformat_minor": 0,
  "metadata": {
    "colab": {
      "provenance": []
    },
    "kernelspec": {
      "name": "python3",
      "display_name": "Python 3"
    },
    "language_info": {
      "name": "python"
    }
  },
  "cells": [
    {
      "cell_type": "markdown",
      "source": [
        "Как видно по схеме не предсказываются абсолютные значения смещений. Почему вместо того что бы в понятной регрессионной задаче не предсказать 4 числа предсказываются  коеффициенты, с которыми затем происходят неочевидные преобразования?\n",
        "\n",
        "Что бы ответить на этот вопрос вспомним про нормализацию данных. Мы нормализуем входные данные, чаще всего так что бы среднее заначение было 0."
      ],
      "metadata": {
        "id": "qrJND96rFQQQ"
      }
    },
    {
      "cell_type": "code",
      "execution_count": null,
      "metadata": {
        "id": "TyuN4qbVA7Co"
      },
      "outputs": [],
      "source": [
        "import torch\n",
        "import matplotlib.pyplot as plt\n",
        "\n",
        "x = torch.randn((512,100)) # Fake normalized data\n",
        "plt.hist(x.mean(dim=0),bins=10)\n",
        "plt.show()\n",
        "print(f\"Mean: {x.mean().item():.2f} Variance: {x.var().item():.2f}\")"
      ]
    },
    {
      "cell_type": "markdown",
      "source": [
        " Кроме того мы определенным образом инициализируем веса и добавляем слои ализации что бы распределение входов очередного слоя (они же выходы предидущего) более-менее сохранялось.  "
      ],
      "metadata": {
        "id": "IGe95zD-GqTP"
      }
    },
    {
      "cell_type": "code",
      "source": [
        "from torch import nn\n",
        "net = nn.Sequential(\n",
        "    nn.Linear(100,50), # weights randomly sampled from some random distribution\n",
        "    nn.ReLU(),\n",
        "    nn.BatchNorm1d(50),\n",
        "    nn.Linear(50,1))"
      ],
      "metadata": {
        "id": "Pr8wdy-OBR3g"
      },
      "execution_count": null,
      "outputs": []
    },
    {
      "cell_type": "markdown",
      "source": [
        "Веса инициализированны равномерно расперделены вокруг нуля:"
      ],
      "metadata": {
        "id": "qyDj0CqsI6fB"
      }
    },
    {
      "cell_type": "code",
      "source": [
        "weights = net[0].weight.data.numpy()\n",
        "plt.hist(weights.flatten(),bins=20)\n",
        "plt.show()\n",
        "print(weights.mean())"
      ],
      "metadata": {
        "id": "Gj9S9dYFIce9"
      },
      "execution_count": null,
      "outputs": []
    },
    {
      "cell_type": "markdown",
      "source": [
        "И на выходе последнего слоя будет та же ситуация: необученная сеть будет чаще всего предсказывать около нулевые значения:"
      ],
      "metadata": {
        "id": "2OLYIv98IbEy"
      }
    },
    {
      "cell_type": "code",
      "source": [
        "out = net(x)\n",
        "plt.hist(out.detach().numpy(),bins=20)\n",
        "plt.show()\n",
        "print(f\"Mean: {out.mean().item():.2f} Variance: {out.var().item():.2f}\")"
      ],
      "metadata": {
        "id": "ZFjS2mDcIXfy"
      },
      "execution_count": null,
      "outputs": []
    },
    {
      "cell_type": "markdown",
      "source": [
        "Если мы будем пытаться предсказывать большие по модулю значения, например абсолютные координаты:"
      ],
      "metadata": {
        "id": "FfN3UenXJlEh"
      }
    },
    {
      "cell_type": "code",
      "source": [
        "targets = torch.randint(0,224,(512,1)) # fake coordinate in range [0 .. 255]\n",
        "print(targets[:10].flatten())"
      ],
      "metadata": {
        "id": "1uEDGRynJ_Ni"
      },
      "execution_count": null,
      "outputs": []
    },
    {
      "cell_type": "markdown",
      "source": [
        "То получим огромную ошибку, которая повлечет большое обновление весов приведет к нестабильному обучению, большим абсолютным значениям весов и.т.п."
      ],
      "metadata": {
        "id": "UjgtK0SCK3Bl"
      }
    },
    {
      "cell_type": "code",
      "source": [
        "criterion = nn.MSELoss()\n",
        "loss = criterion(out, targets)\n",
        "print(\"Loss\",loss.item())"
      ],
      "metadata": {
        "id": "LEwfo-FDK2bl"
      },
      "execution_count": null,
      "outputs": []
    },
    {
      "cell_type": "markdown",
      "source": [
        "Если мы стандартизуем координаты(targets)"
      ],
      "metadata": {
        "id": "aYdOcIwSDb-a"
      }
    },
    {
      "cell_type": "code",
      "source": [
        "mean = targets.float().mean()\n",
        "std = targets.float().std()\n",
        "\n",
        "transformed_targets = (targets - mean)/std\n",
        "print(transformed_targets.flatten()[:10])"
      ],
      "metadata": {
        "id": "Kc5RneeyDXx-"
      },
      "execution_count": null,
      "outputs": []
    },
    {
      "cell_type": "markdown",
      "source": [
        "То получим ошибку на 4 порядка меньше:"
      ],
      "metadata": {
        "id": "qVB6NtgJFB_y"
      }
    },
    {
      "cell_type": "code",
      "source": [
        "loss = criterion(out, transformed_targets)\n",
        "print(\"Loss\",loss.item())"
      ],
      "metadata": {
        "id": "eIpd2-8ZEyVY"
      },
      "execution_count": null,
      "outputs": []
    },
    {
      "cell_type": "markdown",
      "source": [
        "Фактически теперь мы предсказываем смещение от среднего значения. Что бы его затем использовать надо его денормализовать"
      ],
      "metadata": {
        "id": "JcwGtFFTLY8m"
      }
    },
    {
      "cell_type": "code",
      "source": [
        "real_out = out*std + mean\n",
        "print(real_out.int().flatten()[:10]) # values like a coords"
      ],
      "metadata": {
        "id": "m3NwtyydLsz-"
      },
      "execution_count": null,
      "outputs": []
    },
    {
      "cell_type": "markdown",
      "source": [
        "Иногда такую постобработку удобно включить в модель, что бы она учитывалась при подсчете loss. "
      ],
      "metadata": {
        "id": "CM-tzUu_MiV3"
      }
    },
    {
      "cell_type": "code",
      "source": [
        "import numpy as np\n",
        "x = np.linspace(-5,5)\n",
        "y = 1/(1 + np.exp(-x))\n",
        "plt.plot(x,y)\n",
        "plt.axvline(0,color = \"black\", alpha = 0.4)\n",
        "plt.title(\"Sigmoid\")\n",
        "plt.show()"
      ],
      "metadata": {
        "id": "J1WBLBP0Vr49"
      },
      "execution_count": null,
      "outputs": []
    },
    {
      "cell_type": "code",
      "source": [
        "ort numpy as np\n",
        "x = np.linspace(-2,2)\n",
        "y = np.exp(x)\n",
        "plt.plot(x,y)\n",
        "plt.axvline(0,color = \"black\", alpha = 0.4)\n",
        "plt.title(\"Exp\")\n",
        "plt.show()"
      ],
      "metadata": {
        "id": "6MQLVyANWgPk"
      },
      "execution_count": null,
      "outputs": []
    }
  ]
}