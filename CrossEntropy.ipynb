{
 "cells": [
  {
   "cell_type": "markdown",
   "metadata": {},
   "source": [
    "# Information Entropy"
   ]
  },
  {
   "cell_type": "code",
   "execution_count": null,
   "metadata": {},
   "outputs": [],
   "source": [
    "import numpy as np\n",
    "\n",
    "p = np.array([1/8,1/8,1/8,1/8,1/8,1/8,1/8,1/8])\n",
    "print(len(p),sum(p))"
   ]
  },
  {
   "cell_type": "code",
   "execution_count": null,
   "metadata": {},
   "outputs": [],
   "source": [
    "q = np.array([7/8,1/56,1/56,1/56,1/56,1/56,1/56,1/56])\n",
    "print(len(q),sum(q))"
   ]
  },
  {
   "cell_type": "code",
   "execution_count": null,
   "metadata": {},
   "outputs": [],
   "source": [
    "def H(p):\n",
    "  return -np.sum(p*np.log2(p))"
   ]
  },
  {
   "cell_type": "code",
   "execution_count": null,
   "metadata": {},
   "outputs": [],
   "source": [
    "print(H(p))"
   ]
  },
  {
   "cell_type": "code",
   "execution_count": null,
   "metadata": {},
   "outputs": [],
   "source": [
    "print(H(q))"
   ]
  },
  {
   "cell_type": "markdown",
   "metadata": {},
   "source": [
    "Cross entropy"
   ]
  },
  {
   "cell_type": "code",
   "execution_count": null,
   "metadata": {},
   "outputs": [],
   "source": [
    "def CrossH(p,q):\n",
    "  return -np.sum(p*np.log2(q))"
   ]
  },
  {
   "cell_type": "code",
   "execution_count": null,
   "metadata": {},
   "outputs": [],
   "source": [
    "print(CrossH(p,q))"
   ]
  },
  {
   "cell_type": "code",
   "execution_count": null,
   "metadata": {},
   "outputs": [],
   "source": [
    "print(CrossH(q,p))"
   ]
  },
  {
   "cell_type": "code",
   "execution_count": null,
   "metadata": {},
   "outputs": [],
   "source": [
    "def D_KL(p,q):\n",
    "  return CrossH(p,q) - H(p)"
   ]
  },
  {
   "cell_type": "code",
   "execution_count": null,
   "metadata": {},
   "outputs": [],
   "source": [
    "print(D_KL(p,q))"
   ]
  },
  {
   "cell_type": "code",
   "execution_count": null,
   "metadata": {},
   "outputs": [],
   "source": [
    "print(H(p) - H(q))"
   ]
  },
  {
   "cell_type": "markdown",
   "metadata": {},
   "source": [
    "#Derivative of CE loss"
   ]
  },
  {
   "cell_type": "markdown",
   "metadata": {},
   "source": [
    "$\\bar{s}= Ẇ \\cdot \\bar{x}$ - vector of scores\n",
    "\n",
    "$\\bar{p} = Softmax(\\bar{s}) $\n",
    "\n",
    "\n",
    "$ p_i =\\dfrac {e^{s_{y_i}}} {\\sum_j e^{s_{y_j}}} $ : Where $y_i$ -  class number.\n",
    "\n",
    "For for simplicity, we denote ground true class ${y_i}$ as $t$ and probability for true class as:\n",
    "$ p_t =\\dfrac {e^{s_t}} {\\sum_j e^{s_j}}$\n",
    "\n",
    "\n"
   ]
  },
  {
   "cell_type": "markdown",
   "metadata": {},
   "source": [
    "### Loss for one sample"
   ]
  },
  {
   "cell_type": "markdown",
   "metadata": {},
   "source": [
    "$L = -log(p_t)$  ($p_t$ prediction for ground true class)"
   ]
  },
  {
   "cell_type": "markdown",
   "metadata": {},
   "source": [
    "$L = f(s(W))$\n",
    "\n",
    "since $p_t$ is a function of $s$ we can denote $-log(p_t(s))$ as $f(s)$ and apply [chain rule](https://en.wikipedia.org/wiki/Chain_rule): $ \\dfrac {\\partial L} {\\partial W} = \\dfrac {\\partial f} {\\partial s}  \\dfrac {\\partial s} {\\partial W}  $\n",
    "\n",
    "\n",
    "\n"
   ]
  },
  {
   "cell_type": "markdown",
   "metadata": {},
   "source": [
    "Derivative of linear part is:\n",
    "$\\dfrac {\\partial s} {\\partial W}   = \\dfrac {\\partial Wx} {\\partial W}  = x$"
   ]
  },
  {
   "cell_type": "markdown",
   "metadata": {},
   "source": [
    "Remains : $\\dfrac {\\partial f} {\\partial s} = -\\log (\\dfrac {e^{s_{y_i}}} {\\sum_j e^{s_{y_j}}} )$\n",
    "\n",
    "Let's denote it as: $L_{part} = -\\log (\\dfrac {e^{s_t}} {\\sum_j e^{s_j}} )$"
   ]
  },
  {
   "cell_type": "markdown",
   "metadata": {},
   "source": [
    "### Simplify the expression"
   ]
  },
  {
   "cell_type": "markdown",
   "metadata": {},
   "source": [
    "**step1**\n",
    "Let's change the base of the logarithm\n",
    "\n",
    "\n",
    "$log_{2}(p) = \\frac{log_{e}(p)}{log_{e}(2)}=\\frac{1}{ln(2)}  ln(p)$  because\n",
    "$\\frac{1}{ln(2)}$ - is a constant we can omit it\n",
    "\n"
   ]
  },
  {
   "cell_type": "markdown",
   "metadata": {},
   "source": [
    "**step2**\n",
    "Replace division by the difference:\n",
    "\n",
    "because of: $\\log(a/b) = \\log(a) - \\log(b)$\n",
    "\n",
    "$L_{part} = -\\ln (\\dfrac {e^{s_t}} {\\sum_j e^{s_j}} ) = -(ln(e^{s_t}) - ln(\\sum_j e^{s_j})) =  ln(\\sum_j e^{s_j}) - ln(e^{s_t})$\n"
   ]
  },
  {
   "cell_type": "markdown",
   "metadata": {},
   "source": [
    "logarithm is natural so:\n",
    "$ln(e^{s_t}) = s_t$\n",
    "\n",
    "and:\n",
    "$L_{part} = ln(\\sum_j e^{s_j}) - s_t$"
   ]
  },
  {
   "cell_type": "markdown",
   "metadata": {},
   "source": [
    "### Taking the derivative"
   ]
  },
  {
   "cell_type": "markdown",
   "metadata": {},
   "source": [
    "Now take the derivative:  $\\dfrac {\\partial L_{part}} {\\partial s} $\n",
    "\n",
    "\n",
    "Because $s$ is vector derivative will be vector to: $\\dfrac {\\partial L_{part}} {\\partial s}  = [\\dfrac {\\partial L_{part}} {\\partial s_0}, \\dfrac {\\partial L_{part}} {\\partial s_1}, ... ,\\dfrac {\\partial L_{part}} {\\partial s_n}]$\n",
    "where the n number of classes\n",
    "\n",
    "\n",
    "\n"
   ]
  },
  {
   "cell_type": "markdown",
   "metadata": {},
   "source": [
    "Consider one coomponent $s_k$ .There two different cases for ${s_k}$:\n",
    "\n",
    "**case 1**:$k \\not= t $  non target class ($t = y_i$)\n",
    "\n",
    "**case 2** :$k = t$  target class\n"
   ]
  },
  {
   "cell_type": "markdown",
   "metadata": {},
   "source": [
    "**Case1. Non target classes**\n",
    "\n",
    "$ \\dfrac {\\partial s_t} {\\partial s_{k}}  == 0 : k \\not =t$\n",
    "\n",
    "so: $\\dfrac {\\partial L_{part}} {\\partial s_k} = \\dfrac {\\partial (ln(\\sum_j e^{s_t}))} {\\partial s_k} : k \\not =y_i$\n",
    "\n"
   ]
  },
  {
   "cell_type": "markdown",
   "metadata": {},
   "source": [
    "Denote the expression under the logarithm by $a$ : $a(s) = \\sum_j e^{s_{y_j}}$\n",
    "\n",
    "and apply chain-rule:\n",
    "$ \\dfrac {ln(\\sum_j e^{s_{y_j}})} {\\partial s_k} = \\dfrac {\\partial ln(a)} {\\partial a} \\dfrac {\\partial a(s)} {\\partial s_k}   $\n",
    "\n",
    "Derivative of natural logarithm: $ ln(a)' = \\frac{1}{a} $\n",
    "\n",
    "$\\dfrac {ln(a)} {\\partial a} = \\frac {1} {\\sum_j e^{s_j}}$\n",
    "\n",
    "$\\dfrac {a(s)} {\\partial s_k} =  \\dfrac {\\partial (\\sum_j e^{s_j})} {\\partial s_k}$\n",
    "\n",
    "\n",
    "$\\dfrac {\\partial L_{part}} {\\partial s_k} = \\frac {1} { \\sum_j e^{s_j}} \\dfrac {\\partial (\\sum_j e^{s_j})} {\\partial s_k}$\n",
    "\n",
    "\n",
    "By the derivative property $(a+b)' = a' + b'$\n",
    "\n",
    "$\\dfrac {\\partial (\\sum_j e^{s_j})} {\\partial s_k} = \\dfrac {\\partial \\ e^{s_0}} {\\partial s_k} + \\dfrac {\\partial \\ e^{s_1}} {\\partial s_k} + ... + \\dfrac {\\partial \\ e^{s_n}} {\\partial s_k}$\n",
    "\n",
    "аnd all the elements except $\\dfrac {\\partial \\ e^{s_k}} {\\partial s_k} $ will be equal to zero\n",
    "\n",
    "because of $(e^x)' = e^x$ ,\n",
    "$\\dfrac {\\partial \\ e^{s_k}} {\\partial s_k} = e^{s_k}$\n",
    "\n",
    "and\n",
    "\n",
    "$\\dfrac {\\partial L_{part}} {\\partial s_k} = \\frac {{s_k}} { \\sum_j e^{s_j}} = p_k$\n",
    "\n",
    "so for all elements of $\\dfrac {\\partial L_{part}} {\\partial s}$ except $\\dfrac{\\partial L_{part}} {\\partial s_t}$ we have:\n",
    "\n",
    "$\\dfrac {\\partial L_{part}} {\\partial s}  = [p_0,p_1, ... \\dfrac {\\partial L_{part}} {\\partial s_t}, ... ,p_n]$\n"
   ]
  },
  {
   "cell_type": "markdown",
   "metadata": {},
   "source": [
    "*For target class *\n",
    "\n",
    "$L_{part} = ln(\\sum_j e^{s_j}) - s_t$\n",
    "\n",
    "$\\dfrac {\\partial L_{part}} {\\partial s_{t}} =  \\dfrac {\\partial (ln(\\sum_j e^{s_t}))} {\\partial s_t} - \\dfrac {\\partial s_t} {\\partial s_{t}}  = p_t - 1$\n",
    "\n",
    "because of : $ \\dfrac {\\partial s_t} {\\partial s_{k}}  == 1\n",
    "\n",
    "and : $\\dfrac {\\partial (ln(\\sum_j e^{s_t}))} {\\partial s_t} = p_t$ as shown above for any s.\n",
    "\n",
    "\n"
   ]
  },
  {
   "cell_type": "markdown",
   "metadata": {},
   "source": [
    "Finally\n",
    "\n",
    "$\\dfrac {\\partial L_{part}} {\\partial s}  = \\dfrac {\\partial f} {\\partial s} = [p_0,p_1, ... ,p_t-1, ... ,p_n]$\n",
    "\n",
    "and fulll loss: $L =  \\dfrac {\\partial L} {\\partial W} = \\dfrac {\\partial f} {\\partial s}  \\dfrac {\\partial s} {\\partial W} = \\dfrac {\\partial f} {\\partial s} \\cdot x$"
   ]
  },
  {
   "cell_type": "code",
   "execution_count": null,
   "metadata": {},
   "outputs": [],
   "source": []
  },
  {
   "cell_type": "markdown",
   "metadata": {},
   "source": []
  }
 ],
 "metadata": {},
 "nbformat": 4,
 "nbformat_minor": 0
}
